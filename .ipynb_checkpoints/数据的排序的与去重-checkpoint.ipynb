{
 "cells": [
  {
   "cell_type": "markdown",
   "metadata": {},
   "source": [
    "# 数据的排序与去重"
   ]
  },
  {
   "cell_type": "code",
   "execution_count": 1,
   "metadata": {},
   "outputs": [],
   "source": [
    "import numpy as np"
   ]
  },
  {
   "cell_type": "code",
   "execution_count": 4,
   "metadata": {},
   "outputs": [
    {
     "data": {
      "text/plain": [
       "array([[16, 58, 56, 34, 14, 52],\n",
       "       [51, 63, 16, 53, 28, 28],\n",
       "       [25, 59, 30, 47, 14, 39],\n",
       "       [12, 57, 58, 31, 42, 34]])"
      ]
     },
     "execution_count": 4,
     "metadata": {},
     "output_type": "execute_result"
    }
   ],
   "source": [
    "# 数据的排序与去重\n",
    "arr1 = np.random.randint(12,69,(4,6))\n",
    "arr1"
   ]
  },
  {
   "cell_type": "code",
   "execution_count": 7,
   "metadata": {},
   "outputs": [
    {
     "data": {
      "text/plain": [
       "array([[12, 57, 16, 31, 14, 28],\n",
       "       [16, 58, 30, 34, 14, 34],\n",
       "       [25, 59, 56, 47, 28, 39],\n",
       "       [51, 63, 58, 53, 42, 52]])"
      ]
     },
     "execution_count": 7,
     "metadata": {},
     "output_type": "execute_result"
    }
   ],
   "source": [
    "# 通过0和1的参数，进行行和列的排序，只是不返回数据，只能进行打印\n",
    "arr1.sort(0)\n",
    "arr1"
   ]
  },
  {
   "cell_type": "code",
   "execution_count": 11,
   "metadata": {},
   "outputs": [
    {
     "data": {
      "text/plain": [
       "array([[68, 20, 51, 63, 23, 46],\n",
       "       [65, 31, 13, 23, 28, 33],\n",
       "       [28, 22, 43, 57, 53, 21],\n",
       "       [12, 13, 55, 58, 46, 61]])"
      ]
     },
     "execution_count": 11,
     "metadata": {},
     "output_type": "execute_result"
    }
   ],
   "source": [
    "arr2 = np.random.randint(12,69,(4,6))\n",
    "arr2"
   ]
  },
  {
   "cell_type": "code",
   "execution_count": 12,
   "metadata": {},
   "outputs": [
    {
     "data": {
      "text/plain": [
       "array([[20, 23, 46, 51, 63, 68],\n",
       "       [13, 23, 28, 31, 33, 65],\n",
       "       [21, 22, 28, 43, 53, 57],\n",
       "       [12, 13, 46, 55, 58, 61]])"
      ]
     },
     "execution_count": 12,
     "metadata": {},
     "output_type": "execute_result"
    }
   ],
   "source": [
    "# np.sort()一次性排序，默认的为行排序\n",
    "res1 = np.sort(arr2,1)\n",
    "res1"
   ]
  },
  {
   "cell_type": "code",
   "execution_count": 13,
   "metadata": {},
   "outputs": [
    {
     "data": {
      "text/plain": [
       "array([[12, 13, 13, 23, 23, 21],\n",
       "       [28, 20, 43, 57, 28, 33],\n",
       "       [65, 22, 51, 58, 46, 46],\n",
       "       [68, 31, 55, 63, 53, 61]])"
      ]
     },
     "execution_count": 13,
     "metadata": {},
     "output_type": "execute_result"
    }
   ],
   "source": [
    "# np.sort()一次性排序，默认的为行排序\n",
    "# 按列排序\n",
    "res1 = np.sort(arr2,0)\n",
    "res1"
   ]
  },
  {
   "cell_type": "code",
   "execution_count": 15,
   "metadata": {},
   "outputs": [
    {
     "data": {
      "text/plain": [
       "array([-1, -1, -4, -2,  5,  5,  2, -3,  7,  2,  3, -3, -3])"
      ]
     },
     "execution_count": 15,
     "metadata": {},
     "output_type": "execute_result"
    }
   ],
   "source": [
    "# np.sort()一次性排序一维数组\n",
    "arr3 = np.random.randint(-6,8,13)\n",
    "arr3"
   ]
  },
  {
   "cell_type": "markdown",
   "metadata": {},
   "source": [
    "### 去重"
   ]
  },
  {
   "cell_type": "code",
   "execution_count": 18,
   "metadata": {},
   "outputs": [
    {
     "data": {
      "text/plain": [
       "array([[-28, -23, -36, -19, -25, -36, -34],\n",
       "       [-18, -15, -19, -19, -29, -22, -19],\n",
       "       [-31, -21, -13, -18, -22, -27, -32],\n",
       "       [-17, -19, -29, -30, -12, -29, -13],\n",
       "       [-30, -34, -18, -12, -26, -35, -30],\n",
       "       [-13, -12, -27, -16, -22, -31, -14],\n",
       "       [-20, -14, -21, -16, -30, -18, -28]])"
      ]
     },
     "execution_count": 18,
     "metadata": {},
     "output_type": "execute_result"
    }
   ],
   "source": [
    "arr4 = np.random.randint(-36,-11,(7,7))\n",
    "arr4"
   ]
  },
  {
   "cell_type": "code",
   "execution_count": 22,
   "metadata": {},
   "outputs": [
    {
     "data": {
      "text/plain": [
       "array([[ 21,  13,  19,  29,  25,  20,  15],\n",
       "       [-18, -15, -19, -19, -29, -22, -19],\n",
       "       [-31, -21, -13, -18, -22, -27, -32],\n",
       "       [ 21,  13,  19,  29,  25,  20,  15],\n",
       "       [-30, -34, -18, -12, -26, -35, -30],\n",
       "       [-13, -12, -27, -16, -22, -31, -14],\n",
       "       [ 21,  13,  19,  29,  25,  20,  15]])"
      ]
     },
     "execution_count": 22,
     "metadata": {},
     "output_type": "execute_result"
    }
   ],
   "source": [
    "# 通过广播功能，将0，3，6行进行替换\n",
    "arr4[[0,3,6]] = np.random.randint(11,36,7)\n",
    "arr4"
   ]
  },
  {
   "cell_type": "code",
   "execution_count": 24,
   "metadata": {},
   "outputs": [
    {
     "data": {
      "text/plain": [
       "array([[-31, -21, -13, -18, -22, -27, -32],\n",
       "       [-30, -34, -18, -12, -26, -35, -30],\n",
       "       [-18, -15, -19, -19, -29, -22, -19],\n",
       "       [-13, -12, -27, -16, -22, -31, -14],\n",
       "       [ 21,  13,  19,  29,  25,  20,  15]])"
      ]
     },
     "execution_count": 24,
     "metadata": {},
     "output_type": "execute_result"
    }
   ],
   "source": [
    "# 去重操作\n",
    "# axis=0删除重复的行，axis=1删除重复的列，将第一列进行排序\n",
    "np.unique(arr4,axis=0)"
   ]
  },
  {
   "cell_type": "code",
   "execution_count": 26,
   "metadata": {},
   "outputs": [
    {
     "data": {
      "text/plain": [
       "array([[-29, -27, -33, -24, -34, -21],\n",
       "       [-34, -13, -31, -30, -27, -35],\n",
       "       [-24, -26, -18, -17, -30, -17],\n",
       "       [-22, -30, -28, -18, -31, -32],\n",
       "       [-35, -18, -35, -17, -30, -24],\n",
       "       [-31, -12, -20, -22, -17, -20]])"
      ]
     },
     "execution_count": 26,
     "metadata": {},
     "output_type": "execute_result"
    }
   ],
   "source": [
    "# 列\n",
    "arr5 = np.random.randint(-36,-11,(6,6))\n",
    "arr5"
   ]
  },
  {
   "cell_type": "code",
   "execution_count": 30,
   "metadata": {},
   "outputs": [
    {
     "data": {
      "text/plain": [
       "array([[ 31, -27, -33,  31, -34,  31],\n",
       "       [ 25, -13, -31,  25, -27,  25],\n",
       "       [ 16, -26, -18,  16, -30,  16],\n",
       "       [ 18, -30, -28,  18, -31,  18],\n",
       "       [ 16, -18, -35,  16, -30,  16],\n",
       "       [ 38, -12, -20,  38, -17,  38]])"
      ]
     },
     "execution_count": 30,
     "metadata": {},
     "output_type": "execute_result"
    }
   ],
   "source": [
    "# 将列进行替换\n",
    "arr5[:,[0,3,5]] = np.random.randint(10,39,(6,1))\n",
    "arr5"
   ]
  },
  {
   "cell_type": "code",
   "execution_count": 31,
   "metadata": {},
   "outputs": [
    {
     "data": {
      "text/plain": [
       "array([[-34, -33, -27,  31],\n",
       "       [-27, -31, -13,  25],\n",
       "       [-30, -18, -26,  16],\n",
       "       [-31, -28, -30,  18],\n",
       "       [-30, -35, -18,  16],\n",
       "       [-17, -20, -12,  38]])"
      ]
     },
     "execution_count": 31,
     "metadata": {},
     "output_type": "execute_result"
    }
   ],
   "source": [
    "# 删除重复的列，还可以把第一行进行排序\n",
    "np.unique(arr5,axis=1)"
   ]
  },
  {
   "cell_type": "markdown",
   "metadata": {},
   "source": [
    "# 数据的上载与下载"
   ]
  },
  {
   "cell_type": "code",
   "execution_count": 33,
   "metadata": {},
   "outputs": [],
   "source": [
    "# 使用numpy将数据进行上载与下载\n",
    "# 将数据下载到csv文件中\n",
    "# 参数为： 下载路径，数据，以，号格式分割\n",
    "np.savetxt(\"xia_zai.csv\",np.random.randint(12,123,(50,6)),delimiter=\",\")"
   ]
  },
  {
   "cell_type": "code",
   "execution_count": 38,
   "metadata": {},
   "outputs": [
    {
     "data": {
      "text/plain": [
       "array([[24, 18, 26, 33, 19, 13, 25],\n",
       "       [20, 27, 31, 25, 20, 17, 31],\n",
       "       [28, 19, 18, 35, 17, 23, 19],\n",
       "       [22, 16, 14, 26, 21, 28, 26],\n",
       "       [12, 30, 33, 18, 21, 30, 22],\n",
       "       [21, 27, 31, 26, 18, 17, 26],\n",
       "       [26, 22, 15, 20, 34, 33, 31],\n",
       "       [21, 23, 34, 19, 19, 32, 21]])"
      ]
     },
     "execution_count": 38,
     "metadata": {},
     "output_type": "execute_result"
    }
   ],
   "source": [
    "# 数据集进行拼接 concatenate()\n",
    "# 按行进行拼接，要求列要一样\n",
    "arr1 = np.random.randint(12,36,(5,7))\n",
    "arr2 = np.random.randint(12,36,(2,7))\n",
    "arr3 = np.random.randint(12,36,(1,7))\n",
    "np.concatenate((arr1,arr2,arr3),axis=0)"
   ]
  },
  {
   "cell_type": "code",
   "execution_count": 40,
   "metadata": {},
   "outputs": [
    {
     "name": "stdout",
     "output_type": "stream",
     "text": [
      "[[17 18 26]\n",
      " [29 34 22]\n",
      " [35 12 24]\n",
      " [27 12 29]]\n"
     ]
    },
    {
     "data": {
      "text/plain": [
       "array([[17, 18, 26, 31, 14, 27],\n",
       "       [29, 34, 22, 34, 31, 26],\n",
       "       [35, 12, 24, 20, 21, 16],\n",
       "       [27, 12, 29, 32, 26, 21]])"
      ]
     },
     "execution_count": 40,
     "metadata": {},
     "output_type": "execute_result"
    }
   ],
   "source": [
    "# 数据集进行拼接 concatenate()\n",
    "# 按列进行拼接，要求行要一样\n",
    "arr4 = np.random.randint(12,36,(4,3))\n",
    "arr5 = np.random.randint(12,36,(4,1))\n",
    "arr6 = np.random.randint(12,36,(4,2))\n",
    "print(arr4)\n",
    "np.concatenate((arr4,arr5,arr6),axis=1)"
   ]
  },
  {
   "cell_type": "code",
   "execution_count": 44,
   "metadata": {},
   "outputs": [
    {
     "data": {
      "text/plain": [
       "array([[17, 18, 26, 31],\n",
       "       [29, 34, 22, 34],\n",
       "       [35, 12, 24, 20],\n",
       "       [27, 12, 29, 32]])"
      ]
     },
     "execution_count": 44,
     "metadata": {},
     "output_type": "execute_result"
    }
   ],
   "source": [
    "# column_stack()列拼接\n",
    "np.column_stack((arr4,arr5))"
   ]
  },
  {
   "cell_type": "code",
   "execution_count": 46,
   "metadata": {},
   "outputs": [
    {
     "data": {
      "text/plain": [
       "array([[24, 18, 26, 33, 19, 13, 25],\n",
       "       [20, 27, 31, 25, 20, 17, 31],\n",
       "       [28, 19, 18, 35, 17, 23, 19],\n",
       "       [22, 16, 14, 26, 21, 28, 26],\n",
       "       [12, 30, 33, 18, 21, 30, 22],\n",
       "       [21, 27, 31, 26, 18, 17, 26],\n",
       "       [26, 22, 15, 20, 34, 33, 31]])"
      ]
     },
     "execution_count": 46,
     "metadata": {},
     "output_type": "execute_result"
    }
   ],
   "source": [
    "# row_stack()行拼接\n",
    "np.row_stack((arr1,arr2))"
   ]
  },
  {
   "cell_type": "markdown",
   "metadata": {},
   "source": [
    "#### 练习"
   ]
  },
  {
   "cell_type": "code",
   "execution_count": 50,
   "metadata": {},
   "outputs": [
    {
     "data": {
      "text/plain": [
       "array([ 1,  0,  0, -1, -1, -1,  0,  2,  0,  4,  2, -1, -1, -1,  1,  2,  2,\n",
       "        3,  4, -1,  4,  4, -1,  0,  1,  4,  2,  1,  3,  3,  4,  4, -1,  0,\n",
       "        4,  1,  2,  3,  1,  0, -1,  4, -1, -1,  4,  3,  0,  2,  4,  4])"
      ]
     },
     "execution_count": 50,
     "metadata": {},
     "output_type": "execute_result"
    }
   ],
   "source": [
    "# 练习1\n",
    "# 频数统计\n",
    "arr1 = np.random.randint(-1,5,50)\n",
    "arr1"
   ]
  },
  {
   "cell_type": "code",
   "execution_count": 52,
   "metadata": {},
   "outputs": [
    {
     "data": {
      "text/plain": [
       "[(0, 8), (1, 6), (2, 7), (3, 5), (4, 12), (-1, 12)]"
      ]
     },
     "execution_count": 52,
     "metadata": {},
     "output_type": "execute_result"
    }
   ],
   "source": [
    "# 进行频数统计\n",
    "[(j,(arr1==j).sum()) for j in set(arr1)]"
   ]
  },
  {
   "cell_type": "code",
   "execution_count": null,
   "metadata": {},
   "outputs": [],
   "source": []
  }
 ],
 "metadata": {
  "kernelspec": {
   "display_name": "Python 3",
   "language": "python",
   "name": "python3"
  },
  "language_info": {
   "codemirror_mode": {
    "name": "ipython",
    "version": 3
   },
   "file_extension": ".py",
   "mimetype": "text/x-python",
   "name": "python",
   "nbconvert_exporter": "python",
   "pygments_lexer": "ipython3",
   "version": "3.6.8"
  }
 },
 "nbformat": 4,
 "nbformat_minor": 2
}
