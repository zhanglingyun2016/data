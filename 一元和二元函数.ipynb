{
 "cells": [
  {
   "cell_type": "markdown",
   "metadata": {},
   "source": [
    "#  一元 和二元函数\n"
   ]
  },
  {
   "cell_type": "code",
   "execution_count": 34,
   "metadata": {},
   "outputs": [
    {
     "data": {
      "text/plain": [
       "-1"
      ]
     },
     "execution_count": 34,
     "metadata": {},
     "output_type": "execute_result"
    }
   ],
   "source": [
    "import numpy as np\n",
    "\n",
    "np1 = np.random.randint(2,16,(5,5))\n",
    "\n",
    "np.sqrt(np1)   #.sqrt函数，用于求出一个数值的平方根\n",
    "np.exp(3)  #.exp函数，用于求出e（2.7。。。。。。）的n次方的值\n",
    "\n",
    "np2 = np.random.normal(5,1.9,(5,5))   #normal函数，第一个值为取值范围，第二个函数为误差，第三个函数为矩阵形状\n",
    "np.ceil(np2)  #向上取整\n",
    "np.floor(np2)  #向下取整\n",
    "np.sign(-12)   #取某个值的正负号"
   ]
  },
  {
   "cell_type": "code",
   "execution_count": 42,
   "metadata": {},
   "outputs": [
    {
     "name": "stdout",
     "output_type": "stream",
     "text": [
      "[[2 5 5 5 1 3]\n",
      " [4 5 5 5 4 4]\n",
      " [2 1 4 3 4 3]\n",
      " [1 3 1 2 4 2]\n",
      " [5 1 5 5 1 5]\n",
      " [5 2 5 2 1 4]]\n",
      "[[8 6 6 5 7 3]\n",
      " [3 8 8 8 7 4]\n",
      " [8 3 7 4 8 5]\n",
      " [3 4 8 5 5 4]\n",
      " [3 4 8 6 7 5]\n",
      " [4 3 3 5 8 3]]\n",
      "result1: [[8 6 6 5 7 3]\n",
      " [4 8 8 8 7 4]\n",
      " [8 3 7 4 8 5]\n",
      " [3 4 8 5 5 4]\n",
      " [5 4 8 6 7 5]\n",
      " [5 3 5 5 8 4]]\n",
      "result2: [[2 5 5 5 1 3]\n",
      " [3 5 5 5 4 4]\n",
      " [2 1 4 3 4 3]\n",
      " [1 3 1 2 4 2]\n",
      " [3 1 5 5 1 5]\n",
      " [4 2 3 2 1 3]]\n"
     ]
    }
   ],
   "source": [
    "# 二元函数\n",
    "arr1 = np.random.randint(1,6,(6,6))\n",
    "arr2 = np.random.randint(3,9,(6,6))\n",
    "print(arr1)\n",
    "print(arr2)\n",
    "\n",
    "result1 = np.maximum(arr1,arr2)\n",
    "result2 = np.minimum(arr1,arr2)\n",
    "print(\"result1:\",result1)\n",
    "print(\"result2:\",result2)"
   ]
  },
  {
   "cell_type": "code",
   "execution_count": 44,
   "metadata": {},
   "outputs": [
    {
     "data": {
      "text/plain": [
       "array([[  8,  64, 243],\n",
       "       [  8,   4,   9],\n",
       "       [  8, 243, 125]], dtype=int32)"
      ]
     },
     "execution_count": 44,
     "metadata": {},
     "output_type": "execute_result"
    }
   ],
   "source": [
    "# 二元矩阵\n",
    "arr1 = np.random.randint(2,6,(3,3))\n",
    "arr2 = np.random.randint(2,6,(3,3))\n",
    "\n",
    "np.power(arr1,arr2)  #power函数，以arr1矩阵为底，arr2矩阵为幂，形成新的矩阵\n"
   ]
  }
 ],
 "metadata": {
  "kernelspec": {
   "display_name": "Python 3",
   "language": "python",
   "name": "python3"
  },
  "language_info": {
   "codemirror_mode": {
    "name": "ipython",
    "version": 3
   },
   "file_extension": ".py",
   "mimetype": "text/x-python",
   "name": "python",
   "nbconvert_exporter": "python",
   "pygments_lexer": "ipython3",
   "version": "3.6.8"
  }
 },
 "nbformat": 4,
 "nbformat_minor": 2
}
