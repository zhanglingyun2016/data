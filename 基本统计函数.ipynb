{
 "cells": [
  {
   "cell_type": "code",
   "execution_count": 1,
   "metadata": {},
   "outputs": [
    {
     "data": {
      "text/plain": [
       "array([[2, 4, 2, 4],\n",
       "       [3, 3, 3, 1],\n",
       "       [1, 2, 2, 4],\n",
       "       [4, 2, 2, 1]])"
      ]
     },
     "execution_count": 1,
     "metadata": {},
     "output_type": "execute_result"
    }
   ],
   "source": [
    "import numpy as np\n",
    "\n",
    "np1 = np.random.randint(1,5,(4,4))\n",
    "np1"
   ]
  },
  {
   "cell_type": "code",
   "execution_count": 5,
   "metadata": {},
   "outputs": [
    {
     "data": {
      "text/plain": [
       "array([10, 11,  9, 10])"
      ]
     },
     "execution_count": 5,
     "metadata": {},
     "output_type": "execute_result"
    }
   ],
   "source": [
    "np.sum(np1,0)"
   ]
  },
  {
   "cell_type": "code",
   "execution_count": 13,
   "metadata": {},
   "outputs": [
    {
     "name": "stdout",
     "output_type": "stream",
     "text": [
      "[10 11  9 10]\n",
      "[12 10  9  9]\n",
      "40\n"
     ]
    }
   ],
   "source": [
    "result1 = np.sum(np1,0)   #当第二个参数为0是按列计算\n",
    "print(result1)\n",
    "result2 = np.sum(np1,1)   #当第二个参数为0是按行计算\n",
    "print(result2)\n",
    "result3 = np.sum(np1)\n",
    "print(result3)\n"
   ]
  },
  {
   "cell_type": "code",
   "execution_count": 33,
   "metadata": {},
   "outputs": [
    {
     "name": "stdout",
     "output_type": "stream",
     "text": [
      "[[89 69 63 43 39]\n",
      " [86 63 17 65 68]\n",
      " [88 20 59 59 43]\n",
      " [64 15 94 89 44]\n",
      " [75 13 60  4 19]]\n",
      "23\n",
      "23\n"
     ]
    }
   ],
   "source": [
    "# 求出最小值\n",
    "arr1 = np.random.randint(2,100,(5,5))\n",
    "# arr2 = arr1.ravel()   #数组名.ravel（）函数，将二维数组转为一维数组\n",
    "# arr2\n",
    "# arr1.ravel()\n",
    "print(arr1)\n",
    "result1 = np.where(arr1.ravel()==np.min(arr1))[0][0]   # 返回最小值的下标值\n",
    "print(result1)\n",
    "result2 = np.argmin(arr1)   #返回数组最小值的下标值，等价于上面的where查询\n",
    "print(result2)\n"
   ]
  },
  {
   "cell_type": "code",
   "execution_count": 45,
   "metadata": {},
   "outputs": [
    {
     "name": "stdout",
     "output_type": "stream",
     "text": [
      "[[1 6 5 6 3]\n",
      " [7 8 8 2 7]\n",
      " [2 5 4 7 1]\n",
      " [4 2 4 8 3]\n",
      " [7 4 4 3 3]]\n",
      "[[ 1  7 12 18 21]\n",
      " [ 7 15 23 25 32]\n",
      " [ 2  7 11 18 19]\n",
      " [ 4  6 10 18 21]\n",
      " [ 7 11 15 18 21]]\n"
     ]
    }
   ],
   "source": [
    "# cumsum（）函数\n",
    "arr2 = np.random.randint(1,9,(5,5))\n",
    "print(arr2)\n",
    "result1 = np.cumsum(arr2)   #连加函数，二维数组的第一个值加第二个值，得出结果再加第三个值（适用于灰度预测）\n",
    "result2 = np.cumsum(arr2,0)   #同上，连加函数，逐行相加，\n",
    "result2 = np.cumsum(arr2,1)   #同上，连加函数，逐列相加，\n",
    "print(result2)"
   ]
  },
  {
   "cell_type": "code",
   "execution_count": 52,
   "metadata": {},
   "outputs": [
    {
     "name": "stdout",
     "output_type": "stream",
     "text": [
      "[[1 2 1 2 2]\n",
      " [1 2 1 2 1]\n",
      " [1 2 2 2 2]\n",
      " [1 2 1 1 2]\n",
      " [1 1 2 1 1]]\n",
      "----------------------------------------------------------------------------------------------------\n",
      "[   1    2    2    4    8    8   16   16   32   32   32   64  128  256\n",
      "  512  512 1024 1024 1024 2048 2048 2048 4096 4096 4096]\n",
      "----------------------------------------------------------------------------------------------------\n",
      "[[ 1  2  1  2  2]\n",
      " [ 1  4  1  4  2]\n",
      " [ 1  8  2  8  4]\n",
      " [ 1 16  2  8  8]\n",
      " [ 1 16  4  8  8]]\n",
      "----------------------------------------------------------------------------------------------------\n",
      "[[ 1  2  2  4  8]\n",
      " [ 1  2  2  4  4]\n",
      " [ 1  2  4  8 16]\n",
      " [ 1  2  2  2  4]\n",
      " [ 1  1  2  2  2]]\n"
     ]
    }
   ],
   "source": [
    "# cumprod（）函数，逐列，逐行，全部 相乘\n",
    "arr3 = np.random.randint(1,3,(5,5))\n",
    "print(arr3)\n",
    "print(\"-\"*100)\n",
    "result1 = np.cumprod(arr3)\n",
    "print(result1)\n",
    "print(\"-\"*100)\n",
    "result2 = np.cumprod(arr3,0) #逐列相乘\n",
    "print(result2)\n",
    "print(\"-\"*100)\n",
    "result3 = np.cumprod(arr3,1)\n",
    "print(result3)"
   ]
  }
 ],
 "metadata": {
  "kernelspec": {
   "display_name": "Python 3",
   "language": "python",
   "name": "python3"
  },
  "language_info": {
   "codemirror_mode": {
    "name": "ipython",
    "version": 3
   },
   "file_extension": ".py",
   "mimetype": "text/x-python",
   "name": "python",
   "nbconvert_exporter": "python",
   "pygments_lexer": "ipython3",
   "version": "3.6.8"
  }
 },
 "nbformat": 4,
 "nbformat_minor": 2
}
