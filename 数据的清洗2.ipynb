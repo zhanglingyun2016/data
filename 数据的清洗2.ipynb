{
 "cells": [
  {
   "cell_type": "code",
   "execution_count": 7,
   "metadata": {},
   "outputs": [
    {
     "name": "stdout",
     "output_type": "stream",
     "text": [
      "[[5 3 1 5 3]\n",
      " [4 5 2 5 5]\n",
      " [5 5 1 1 2]\n",
      " [3 1 5 4 4]\n",
      " [5 4 4 1 3]]\n",
      "[[4 6 3 6 5]\n",
      " [4 8 3 4 3]\n",
      " [6 5 5 4 4]\n",
      " [3 7 4 6 7]\n",
      " [8 8 6 5 5]]\n",
      "result1: [3 4 5]\n",
      "result2: [1 2 3 4 5 6 7 8]\n"
     ]
    }
   ],
   "source": [
    "import numpy as np\n",
    "\n",
    "arr1 = np.random.randint(1,6,(5,5))\n",
    "arr2 = np.random.randint(3,9,(5,5))   \n",
    "print(arr1)\n",
    "print(arr2)\n",
    "result1 = np.intersect1d(arr1,arr2)  #数组可做集合交集\n",
    "result2 = np.union1d(arr1,arr2)  #数组可做集合并集\n",
    "print(\"result1:\",result1)\n",
    "print(\"result2:\",result2)\n"
   ]
  },
  {
   "cell_type": "code",
   "execution_count": 22,
   "metadata": {},
   "outputs": [
    {
     "name": "stdout",
     "output_type": "stream",
     "text": [
      "[4 5 3 5 5 8 8 4 5 3 8 5 5 6 7]\n",
      "去重后返回重复的下标值 [ 3  4  6  7  8  9 10 11 12]\n"
     ]
    }
   ],
   "source": [
    "# 数据的清洗practice_v1\n",
    "def qingxi(arr1):\n",
    "    list1 = []  #临时列表\n",
    "    for i in range(len(arr1)-1):\n",
    "        for j in range(i+1,len(arr1),1):  #从第i个以后的元素进行对比，步长为1\n",
    "            if arr1[i] == arr1[j]:\n",
    "                list1.append(j)\n",
    "    return np.unique(list1)\n",
    "#     return list1\n",
    "\n",
    "arr11 = np.random.randint(3,9,15)\n",
    "# arr11 = [1,2,5,8,8,9,2,8,7,2,3,4,5,8,2,6,9]\n",
    "print(arr11)\n",
    "result = qingxi(arr11)\n",
    "print(\"去重后返回重复的下标值\",result)"
   ]
  },
  {
   "cell_type": "code",
   "execution_count": 97,
   "metadata": {},
   "outputs": [
    {
     "name": "stdout",
     "output_type": "stream",
     "text": [
      "[[nan 10.  7.  7. nan 11.]\n",
      " [13. nan nan 12. 18.  4.]\n",
      " [nan nan nan  9. 12. 11.]\n",
      " [12. 12. nan 12. 10. nan]\n",
      " [nan 14. 15. nan nan 15.]\n",
      " [nan nan  7. nan nan nan]]\n"
     ]
    },
    {
     "data": {
      "text/plain": [
       "array([[0., 0., 0., 0., 0., 0.],\n",
       "       [0., 0., 0., 0., 0., 0.],\n",
       "       [0., 0., 0., 0., 0., 0.],\n",
       "       [0., 0., 0., 0., 0., 0.],\n",
       "       [0., 0., 0., 0., 0., 0.],\n",
       "       [0., 0., 0., 0., 0., 0.]])"
      ]
     },
     "execution_count": 97,
     "metadata": {},
     "output_type": "execute_result"
    }
   ],
   "source": [
    "# 数据的清洗practice_v2\n",
    "def qingxi2(arr):\n",
    "    \"\"\"\n",
    "    进行数据清洗，清除去掉除去int，float类型以外的字符串\n",
    "    \"\"\"\n",
    "    r,c = np.shape(arr)\n",
    "#     print(r,c)\n",
    "    for i in range(r):\n",
    "        for j in range(c):\n",
    "            if type(arr[i,j]) == float or type(arr[i,j]) == int:  #判断是否是int或者是float类型\n",
    "                pass\n",
    "            else:\n",
    "                arr[i,j] = 0\n",
    "    return arr\n",
    "\n",
    "\n",
    "# arr22 = [[12,123,12.0],[14,23.0,23]]\n",
    "for i in range(5):\n",
    "    asf1[np.random.randint(1,6,1),np.random.randint(1,6,1)]\n",
    "asf1\n",
    "print(asf1)\n",
    "qingxi2(asf1)\n",
    "    \n",
    "    \n",
    "    \n",
    "    "
   ]
  },
  {
   "cell_type": "code",
   "execution_count": 107,
   "metadata": {},
   "outputs": [
    {
     "data": {
      "text/plain": [
       "array([[ 0.,  0.,  0., nan, nan, nan],\n",
       "       [nan,  0., nan,  0., nan, nan],\n",
       "       [ 0., nan,  0., nan,  0.,  0.],\n",
       "       [nan, nan, nan,  0.,  0., nan],\n",
       "       [ 0.,  0.,  0.,  0.,  0.,  0.],\n",
       "       [ 0.,  0., nan, nan,  0.,  0.]])"
      ]
     },
     "execution_count": 107,
     "metadata": {},
     "output_type": "execute_result"
    }
   ],
   "source": [
    "#产生nan的数组\n",
    "for i in range(5):\n",
    "    asf1[np.random.randint(0,6,1),np.random.randint(0,6,1)]\n",
    "asf1 "
   ]
  },
  {
   "cell_type": "code",
   "execution_count": 123,
   "metadata": {},
   "outputs": [
    {
     "data": {
      "text/plain": [
       "0"
      ]
     },
     "execution_count": 123,
     "metadata": {},
     "output_type": "execute_result"
    }
   ],
   "source": [
    "arr111 = np.random.randint(0,2,(4,4))\n",
    "arr = np.where(arr111==1)[1] #找到所有值为1的位置，返回数组的位置\n",
    "arr.tolist()   #返回list（）列表"
   ]
  },
  {
   "cell_type": "code",
   "execution_count": 129,
   "metadata": {},
   "outputs": [],
   "source": [
    "#数据的清洗_v3\n",
    "def qingxi3(arr):\n",
    "    arr_nr = list(np.where(arr == 0)[1])\n",
    "    if index_j in arr_nr:\n",
    "        apper_sum = arr_nr.count(index_j)\n",
    "        if apper_sum>0:\n",
    "            mean_1 = (arr[:,index_j].sum()/(np.shape(arr)[0]- apper_sum))\n",
    "            boll = arr[:,index_j] == 0\n",
    "            arr[boll,index_j] = mean_1\n",
    "    return arr\n"
   ]
  },
  {
   "cell_type": "code",
   "execution_count": 156,
   "metadata": {},
   "outputs": [
    {
     "name": "stdout",
     "output_type": "stream",
     "text": [
      "[[2 0 2 0]\n",
      " [1 2 1 1]\n",
      " [0 1 0 1]\n",
      " [2 0 0 1]]\n"
     ]
    },
    {
     "data": {
      "text/plain": [
       "1"
      ]
     },
     "execution_count": 156,
     "metadata": {},
     "output_type": "execute_result"
    }
   ],
   "source": [
    "arr_ = np.random.randint(0,3,(4,4))\n",
    "# arr_ = np.random.randint(0,3,(4,4)).count(列数)   # 返回出现满足条件的次数\n",
    "print(arr_)\n",
    "#按列计算0列出现几个1就有几个零，1列出现几个1就有几个1,2列出现几个1就有几个2,3列出现几个1就有几个3\n",
    "num = np.where(arr_ == 1)[1].tolist().count(1)   "
   ]
  }
 ],
 "metadata": {
  "kernelspec": {
   "display_name": "Python 3",
   "language": "python",
   "name": "python3"
  },
  "language_info": {
   "codemirror_mode": {
    "name": "ipython",
    "version": 3
   },
   "file_extension": ".py",
   "mimetype": "text/x-python",
   "name": "python",
   "nbconvert_exporter": "python",
   "pygments_lexer": "ipython3",
   "version": "3.6.8"
  }
 },
 "nbformat": 4,
 "nbformat_minor": 2
}
