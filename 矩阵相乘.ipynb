{
 "cells": [
  {
   "cell_type": "code",
   "execution_count": 45,
   "metadata": {},
   "outputs": [
    {
     "name": "stdout",
     "output_type": "stream",
     "text": [
      "[[1 3]\n",
      " [2 3]]\n",
      "[[0 0]\n",
      " [2 1]]\n"
     ]
    },
    {
     "data": {
      "text/plain": [
       "array([[6., 3.],\n",
       "       [6., 3.]])"
      ]
     },
     "execution_count": 45,
     "metadata": {},
     "output_type": "execute_result"
    }
   ],
   "source": [
    "import numpy as np\n",
    "\n",
    "def row_and_column(arr1,arr2):\n",
    "    \"\"\"\n",
    "    两个矩阵相乘，first\n",
    "    算法与编程\n",
    "    \"\"\"\n",
    "    if arr1.shape[1] != arr2.shape[0]:\n",
    "        return \"矩阵1和矩阵2的行和列不相等！\"\n",
    "    r = arr1.shape[0];c = arr2.shape[1]    #确定矩阵1的行和第二矩阵的列数\n",
    "    null_m = np.zeros((r,c))\n",
    "    for i in range(r):\n",
    "        for j in range(c):\n",
    "            null_m[i,j] = sum([arr1[i,k]*arr2[k,j] for k in range(arr1.shape[1])])\n",
    "    return null_m\n",
    "    \n",
    "\n",
    "arr1 = np.random.randint(1,4,(2,2))\n",
    "print(arr1)\n",
    "arr2 = np.random.randint(0,3,(2,2))\n",
    "print(arr2)\n",
    "\n",
    "row_and_column(arr1,arr2)\n"
   ]
  },
  {
   "cell_type": "code",
   "execution_count": 46,
   "metadata": {},
   "outputs": [
    {
     "data": {
      "text/plain": [
       "array([[6, 3],\n",
       "       [6, 3]])"
      ]
     },
     "execution_count": 46,
     "metadata": {},
     "output_type": "execute_result"
    }
   ],
   "source": [
    "# 两个矩阵相乘,second\n",
    "arr1@arr2"
   ]
  },
  {
   "cell_type": "code",
   "execution_count": 50,
   "metadata": {},
   "outputs": [
    {
     "data": {
      "text/plain": [
       "array([[6, 3],\n",
       "       [6, 3]])"
      ]
     },
     "execution_count": 50,
     "metadata": {},
     "output_type": "execute_result"
    }
   ],
   "source": [
    "# 两个矩阵相乘 third\n",
    "np.dot(arr1,arr2)"
   ]
  },
  {
   "cell_type": "code",
   "execution_count": 55,
   "metadata": {},
   "outputs": [
    {
     "name": "stdout",
     "output_type": "stream",
     "text": [
      "[1, 5, 6, 7, 9]\n"
     ]
    }
   ],
   "source": [
    "def pai_xu(self):\n",
    "    arr1 = np.random.randint(3,9,10)\n",
    "    print(arr1)\n",
    "result = sorted([1,6,9,7,5])\n",
    "print(result)"
   ]
  },
  {
   "cell_type": "code",
   "execution_count": 60,
   "metadata": {},
   "outputs": [
    {
     "name": "stdout",
     "output_type": "stream",
     "text": [
      "<map object at 0x000001B16B2DF160>\n",
      "[1, 5, 9, 3]\n"
     ]
    }
   ],
   "source": [
    "# 内置函数-高阶函数-map()函数\n",
    "# 功能：对可迭代对象中的每个元素放入自定义函数中，进行实现某种功能\n",
    "# 参数：可迭代对象，自定义函数\n",
    "# 返回值：可迭代对象\n",
    "# practice：\n",
    "var_list = [\"1\",\"5\",\"9\",\"3\"]\n",
    "res = map(int,var_list)\n",
    "print(res)\n",
    "print(list(res))  #使用list进行遍历\n",
    "\n"
   ]
  },
  {
   "cell_type": "code",
   "execution_count": 62,
   "metadata": {},
   "outputs": [
    {
     "name": "stdout",
     "output_type": "stream",
     "text": [
      "52113 <class 'int'>\n"
     ]
    }
   ],
   "source": [
    "# 内置函数-高阶函数-reduce（）\n",
    "from functools import reduce\n",
    "\n",
    "\"\"\"\n",
    "先导入：from functools import reduce\n",
    "\n",
    "功能：每一次从itertable中拿出两个元素，放入到func函数中进行处理，得出一个计算结果，将结果\n",
    "      再与拿到的第三个元素放入函数中进行处理得出结果，以此类推与第四个元素，第五个元素，直到\n",
    "      取出所有的元素，得出结果\n",
    "参数：func，内置函数或者自定义函数\n",
    "返回值：处理后的结果\n",
    "     \n",
    "\"\"\"\n",
    "def myfunc(x,y):\n",
    "    \"\"\"\n",
    "    将varlist= [5,2,1,1,3] 变成52113的值\n",
    "    \"\"\"\n",
    "    return x*10+y\n",
    "\n",
    "varlist = [5,2,1,1,3]\n",
    "res = reduce(myfunc,varlist)\n",
    "print(res,type(res))"
   ]
  },
  {
   "cell_type": "code",
   "execution_count": 64,
   "metadata": {},
   "outputs": [
    {
     "name": "stdout",
     "output_type": "stream",
     "text": [
      "<class 'filter'> [6, 8, 4, 2, 0]\n"
     ]
    }
   ],
   "source": [
    "# 内置函数-高阶函数-filter（） 过滤器\n",
    "\"\"\"\n",
    "filter（func，iterable）\n",
    "功能：过滤数据：\n",
    "参数：自定义函数，可迭代数据\n",
    "返回值：保留所有的数据，迭代器\n",
    "\"\"\"\n",
    "def myfunc(n):\n",
    "    \"\"\"\n",
    "    将可迭代对象intlist，进行过滤掉奇数，形成新的迭代对象。。。。\n",
    "    \"\"\"\n",
    "    if n%2==0:\n",
    "        return True\n",
    "    else:\n",
    "        return False\n",
    "    \n",
    "intlist= [9,6,7,8,5,5,-1,4,2,0]\n",
    "res = filter(myfunc,intlist)\n",
    "print(type(res),list(res))\n"
   ]
  }
 ],
 "metadata": {
  "kernelspec": {
   "display_name": "Python 3",
   "language": "python",
   "name": "python3"
  },
  "language_info": {
   "codemirror_mode": {
    "name": "ipython",
    "version": 3
   },
   "file_extension": ".py",
   "mimetype": "text/x-python",
   "name": "python",
   "nbconvert_exporter": "python",
   "pygments_lexer": "ipython3",
   "version": "3.6.8"
  }
 },
 "nbformat": 4,
 "nbformat_minor": 2
}
