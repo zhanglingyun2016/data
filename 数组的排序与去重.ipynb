{
 "cells": [
  {
   "cell_type": "code",
   "execution_count": 3,
   "metadata": {},
   "outputs": [
    {
     "name": "stdout",
     "output_type": "stream",
     "text": [
      "[[35 32 48 ... 27 49 44]\n",
      " [41 23 44 ... 23 36 29]\n",
      " [36 47 23 ... 28 22 32]\n",
      " ...\n",
      " [47 23 29 ... 41 43 36]\n",
      " [28 42 30 ... 37 27 34]\n",
      " [30 36 42 ... 24 26 32]]\n"
     ]
    }
   ],
   "source": [
    "import numpy as np\n",
    "import pandas as pd\n",
    "\n",
    "random_arr = np.random.randint(22,50,size=(80,20))\n",
    "print(random_arr)"
   ]
  },
  {
   "cell_type": "code",
   "execution_count": 4,
   "metadata": {},
   "outputs": [
    {
     "name": "stdout",
     "output_type": "stream",
     "text": [
      "总体算法： 1065\n",
      "每一组和的算法： 1065\n",
      "----------------------------------------------------------------------------------------------------\n",
      "[14 15 13 14 18 12 10 16 15 12 10 14 11 15 12 11 14 14 16 14 13 13 12 16\n",
      " 14 13 16 14 17 13 16 16 11 13  9 11 13 11 10 17 14 14 15 10  8 14 15 15\n",
      " 13 14 16 14 15 10 13 15 14 13 15 11 12  8 10 13 10 12 11 15 14 11 16 12\n",
      " 17 13 18 15 11 14 11 16]\n"
     ]
    }
   ],
   "source": [
    "bool_123 = (random_arr<60)&(random_arr>30)\n",
    "# print(bool_123)  #返回True 和 False\n",
    "result = np.sum(bool_123)   #一次性计算二维全部的\n",
    "print(\"总体算法：\",result)\n",
    "\n",
    "# 一次取出每一个数组符合条件的和，最后再相加.....\n",
    "#                               条件后每一组的和                                 一维数组的个数\n",
    "#               -------------------------------------------           -------------------------------\n",
    "result1 = sum([((random_arr[:,j]<60) & (random_arr[:,j]>30)).sum() for j in range(random_arr.shape[1])])\n",
    "print(\"每一组和的算法：\",result1)\n",
    "print(\"-\"*100)\n",
    "\n",
    "result3 = np.sum(bool_123,1)  #将每一行的true加起来，总共80行\n",
    "print(result3)"
   ]
  },
  {
   "cell_type": "code",
   "execution_count": 88,
   "metadata": {},
   "outputs": [
    {
     "data": {
      "text/plain": [
       "array([[ 0.13804004,  0.93730185,  1.90065952,  3.53765915,  4.89495635],\n",
       "       [-1.61069056,  1.35319324,  2.18506601,  5.40527889,  6.13772942],\n",
       "       [ 1.71011631,  1.78608621,  2.15643428,  2.82005296,  5.83364029],\n",
       "       [ 2.17473258,  3.73375416,  4.90770241,  7.15489357,  7.19126716]])"
      ]
     },
     "execution_count": 88,
     "metadata": {},
     "output_type": "execute_result"
    }
   ],
   "source": [
    "# 数组的排序与去重\n",
    "#     3为数组元素的值的大小在3位置分布，1.9为离散程度，\n",
    "np2 = np.random.normal(3,1.9,(4,5))    #四行五列\n",
    "np.random.seed(123)\n",
    "np2.sort(1) #按行排序\n",
    "np2.sort(0) #按列排序\n",
    "np2"
   ]
  }
 ],
 "metadata": {
  "kernelspec": {
   "display_name": "Python 3",
   "language": "python",
   "name": "python3"
  },
  "language_info": {
   "codemirror_mode": {
    "name": "ipython",
    "version": 3
   },
   "file_extension": ".py",
   "mimetype": "text/x-python",
   "name": "python",
   "nbconvert_exporter": "python",
   "pygments_lexer": "ipython3",
   "version": "3.6.8"
  }
 },
 "nbformat": 4,
 "nbformat_minor": 2
}
