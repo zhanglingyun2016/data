{
 "cells": [
  {
   "cell_type": "code",
   "execution_count": 1,
   "metadata": {},
   "outputs": [],
   "source": [
    "import numpy as np"
   ]
  },
  {
   "cell_type": "code",
   "execution_count": 4,
   "metadata": {},
   "outputs": [
    {
     "data": {
      "text/plain": [
       "array([12, 36, 47, 69])"
      ]
     },
     "execution_count": 4,
     "metadata": {},
     "output_type": "execute_result"
    }
   ],
   "source": [
    "# arr1中存放数组，dtype控制数据类型\n",
    "arr1 = np.array([12,36,47,69.4],dtype=int)\n",
    "arr1\n"
   ]
  },
  {
   "cell_type": "code",
   "execution_count": 8,
   "metadata": {},
   "outputs": [
    {
     "name": "stdout",
     "output_type": "stream",
     "text": [
      "维度为: 1\n"
     ]
    },
    {
     "data": {
      "text/plain": [
       "array([12. , 36. , 47. , 69.4])"
      ]
     },
     "execution_count": 8,
     "metadata": {},
     "output_type": "execute_result"
    }
   ],
   "source": [
    "# 浮点数数，将多出一个小数点\n",
    "arr1 = np.array([12,36,47,69.4],dtype=float)\n",
    "res = arr1.ndim  # 返回数组的维度\n",
    "print(\"维度为:\",res)\n",
    "arr1"
   ]
  },
  {
   "cell_type": "code",
   "execution_count": 9,
   "metadata": {},
   "outputs": [
    {
     "name": "stdout",
     "output_type": "stream",
     "text": [
      "维度为: 2\n"
     ]
    },
    {
     "data": {
      "text/plain": [
       "array([[12. , 36. , 47. , 69.4]])"
      ]
     },
     "execution_count": 9,
     "metadata": {},
     "output_type": "execute_result"
    }
   ],
   "source": [
    "# 二维数组\n",
    "arr1 = np.array([[12,36,47,69.4]],dtype=float)\n",
    "res = arr1.ndim\n",
    "print(\"维度为:\",res)\n",
    "arr1"
   ]
  },
  {
   "cell_type": "code",
   "execution_count": 14,
   "metadata": {},
   "outputs": [
    {
     "name": "stdout",
     "output_type": "stream",
     "text": [
      "一维外形: (4,)\n",
      "二维外形 (2, 4)\n"
     ]
    }
   ],
   "source": [
    "# shape 函数，返回数组外形\n",
    "arr1 = np.array([12,36,47,69.4],dtype=float)\n",
    "print(\"一维外形:\",arr1.shape)\n",
    "arr2 = np.array([[12,36,47,69.4],[12,3,47,64]],dtype=float)\n",
    "print(\"二维外形\",arr2.shape)"
   ]
  },
  {
   "cell_type": "code",
   "execution_count": 18,
   "metadata": {},
   "outputs": [
    {
     "name": "stdout",
     "output_type": "stream",
     "text": [
      "一维长度: 4\n",
      "二维长度: 8\n"
     ]
    }
   ],
   "source": [
    "# size函数，返回数组的个数\n",
    "arr1 = np.array([12,36,47,69.4],dtype=float)\n",
    "print(\"一维长度:\",arr1.size)\n",
    "arr2 = np.array([[12,36,47,69.4],[12,3,47,64]],dtype=float)\n",
    "print(\"二维长度:\",arr2.size)"
   ]
  },
  {
   "cell_type": "code",
   "execution_count": 23,
   "metadata": {},
   "outputs": [
    {
     "name": "stdout",
     "output_type": "stream",
     "text": [
      "[12.0, 36.0, 47.0, 69.4]\n",
      "[[12.0, 36.0, 47.0, 69.4], [12.0, 3.0, 47.0, 64.0]]\n"
     ]
    }
   ],
   "source": [
    "# tolist()函数，将数组转为列表\n",
    "arr1 = np.array([12,36,47,69.4],dtype=float)\n",
    "print(arr1.tolist())\n",
    "arr2 = np.array([[12,36,47,69.4],[12,3,47,64]],dtype=float)\n",
    "print(arr2.tolist())"
   ]
  },
  {
   "cell_type": "code",
   "execution_count": 31,
   "metadata": {},
   "outputs": [
    {
     "name": "stdout",
     "output_type": "stream",
     "text": [
      "[ 38  60 202  94]\n",
      "[ 24  35 106  52]\n"
     ]
    }
   ],
   "source": [
    "# 一维数组的简单运算\n",
    "arr3 = np.array([14,25,96,42])\n",
    "arr4 = arr3*2+10\n",
    "print(arr4)\n",
    "res = arr4 - arr3\n",
    "print(res)"
   ]
  },
  {
   "cell_type": "code",
   "execution_count": 36,
   "metadata": {},
   "outputs": [
    {
     "name": "stdout",
     "output_type": "stream",
     "text": [
      "[[12 36 47 69]\n",
      " [12  3 47 64]]\n"
     ]
    },
    {
     "data": {
      "text/plain": [
       "array([[ 25,  73,  95, 139],\n",
       "       [ 25,   7,  95, 129]])"
      ]
     },
     "execution_count": 36,
     "metadata": {},
     "output_type": "execute_result"
    }
   ],
   "source": [
    "# 二维数组的简单运算\n",
    "arr2 = np.array([[12,36,47,69],[12,3,47,64]])\n",
    "print(arr2)\n",
    "arr2*2+1"
   ]
  },
  {
   "cell_type": "code",
   "execution_count": 45,
   "metadata": {},
   "outputs": [
    {
     "data": {
      "text/plain": [
       "array([14.  , 25.  , 37.32, 42.  ])"
      ]
     },
     "execution_count": 45,
     "metadata": {},
     "output_type": "execute_result"
    }
   ],
   "source": [
    "# 替换数组的值\n",
    "arr3 = np.array([14,25,96,42],dtype=np.float)\n",
    "arr3[2] = 12*3.11\n",
    "arr3\n"
   ]
  },
  {
   "cell_type": "code",
   "execution_count": 47,
   "metadata": {},
   "outputs": [
    {
     "data": {
      "text/plain": [
       "array([ 2,  5, 12,  5,  4,  8, 11,  9,  5,  5])"
      ]
     },
     "execution_count": 47,
     "metadata": {},
     "output_type": "execute_result"
    }
   ],
   "source": [
    "# 通过随机数自动生成\n",
    "arr1 = np.random.randint(2,13,10)\n",
    "arr1"
   ]
  },
  {
   "cell_type": "code",
   "execution_count": 53,
   "metadata": {},
   "outputs": [
    {
     "data": {
      "text/plain": [
       "array([ 7,  8, 10,  8,  3,  8,  6, 10,  3, 10])"
      ]
     },
     "execution_count": 53,
     "metadata": {},
     "output_type": "execute_result"
    }
   ],
   "source": [
    "# 生成的随机数加上随机种子seed()，每次生成的数组将不发生改变\n",
    "np.random.seed(9)\n",
    "arr1 = np.random.randint(2,12,10)\n",
    "arr1"
   ]
  },
  {
   "cell_type": "code",
   "execution_count": 56,
   "metadata": {},
   "outputs": [
    {
     "data": {
      "text/plain": [
       "array([1. , 1.1, 1.2, 1.3, 1.4, 1.5, 1.6, 1.7, 1.8, 1.9, 2. , 2.1, 2.2,\n",
       "       2.3, 2.4, 2.5, 2.6, 2.7, 2.8, 2.9, 3. , 3.1, 3.2, 3.3, 3.4, 3.5,\n",
       "       3.6, 3.7, 3.8, 3.9, 4. , 4.1, 4.2, 4.3, 4.4, 4.5, 4.6, 4.7, 4.8,\n",
       "       4.9])"
      ]
     },
     "execution_count": 56,
     "metadata": {},
     "output_type": "execute_result"
    }
   ],
   "source": [
    "# 通过arange库函数生成随机数\n",
    "# 参数,前开后闭,第三个参数为步长\n",
    "arr2 = np.arange(1,5,0.1)\n",
    "arr2"
   ]
  },
  {
   "cell_type": "code",
   "execution_count": 60,
   "metadata": {},
   "outputs": [
    {
     "data": {
      "text/plain": [
       "array([ 2.        ,  2.88888889,  3.77777778,  4.66666667,  5.55555556,\n",
       "        6.44444444,  7.33333333,  8.22222222,  9.11111111, 10.        ])"
      ]
     },
     "execution_count": 60,
     "metadata": {},
     "output_type": "execute_result"
    }
   ],
   "source": [
    "# 通过区间的均匀切割自动生成，第三个参数是将平均分成份数\n",
    "arr3 = np.linspace(2,10,10)\n",
    "arr3"
   ]
  }
 ],
 "metadata": {
  "kernelspec": {
   "display_name": "Python 3",
   "language": "python",
   "name": "python3"
  },
  "language_info": {
   "codemirror_mode": {
    "name": "ipython",
    "version": 3
   },
   "file_extension": ".py",
   "mimetype": "text/x-python",
   "name": "python",
   "nbconvert_exporter": "python",
   "pygments_lexer": "ipython3",
   "version": "3.6.8"
  }
 },
 "nbformat": 4,
 "nbformat_minor": 2
}
