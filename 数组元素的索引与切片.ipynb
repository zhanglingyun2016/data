{
 "cells": [
  {
   "cell_type": "markdown",
   "metadata": {},
   "source": [
    "# 数组元素的切片与索引"
   ]
  },
  {
   "cell_type": "code",
   "execution_count": 2,
   "metadata": {},
   "outputs": [],
   "source": [
    "# 数组元素的切片与索引\n",
    "import numpy as np"
   ]
  },
  {
   "cell_type": "code",
   "execution_count": 22,
   "metadata": {},
   "outputs": [
    {
     "data": {
      "text/plain": [
       "array([ 9, 11,  3, 26, 24, 11, 26, 13, 31, 13])"
      ]
     },
     "execution_count": 22,
     "metadata": {},
     "output_type": "execute_result"
    }
   ],
   "source": [
    "arr1 = np.random.randint(3,36,10)\n",
    "arr1"
   ]
  },
  {
   "cell_type": "markdown",
   "metadata": {},
   "source": [
    "### 一维数组的切片"
   ]
  },
  {
   "cell_type": "code",
   "execution_count": 50,
   "metadata": {},
   "outputs": [
    {
     "name": "stdout",
     "output_type": "stream",
     "text": [
      "[31 21  7  3 32 22  7  5 33 29]\n"
     ]
    },
    {
     "data": {
      "text/plain": [
       "array([ 31, 111, 222, 333, 444,  22,   7,   5,  33,  29])"
      ]
     },
     "execution_count": 50,
     "metadata": {},
     "output_type": "execute_result"
    }
   ],
   "source": [
    "# 一维数组的索引切片\n",
    "arr2 = np.random.randint(2,36,10)\n",
    "print(arr2)\n",
    "arr2[1:5] = [111,222,333,444]\n",
    "arr2"
   ]
  },
  {
   "cell_type": "code",
   "execution_count": 45,
   "metadata": {},
   "outputs": [
    {
     "data": {
      "text/plain": [
       "array([13, 31, 13, 26, 11, 24, 26])"
      ]
     },
     "execution_count": 45,
     "metadata": {},
     "output_type": "execute_result"
    }
   ],
   "source": [
    "arr1[-1:2:-1]"
   ]
  },
  {
   "cell_type": "code",
   "execution_count": 52,
   "metadata": {},
   "outputs": [
    {
     "name": "stdout",
     "output_type": "stream",
     "text": [
      "[26 31 18 15 19 16 13 13 19  9]\n"
     ]
    },
    {
     "data": {
      "text/plain": [
       "array([ 26,  31,  18,  15,  19,  16,  13, 777, 888, 999])"
      ]
     },
     "execution_count": 52,
     "metadata": {},
     "output_type": "execute_result"
    }
   ],
   "source": [
    "arr2 = np.random.randint(2,36,10)\n",
    "print(arr2)\n",
    "arr2[-1:6:-1] = np.array([999,888,777])\n",
    "arr2"
   ]
  },
  {
   "cell_type": "markdown",
   "metadata": {},
   "source": [
    "### 二维数组的切片"
   ]
  },
  {
   "cell_type": "markdown",
   "metadata": {},
   "source": [
    "#### 二维数组的下标"
   ]
  },
  {
   "cell_type": "code",
   "execution_count": 60,
   "metadata": {},
   "outputs": [
    {
     "data": {
      "text/plain": [
       "array([[36, 66, 26, 23, 32],\n",
       "       [64, 21, 34, 54, 13],\n",
       "       [68, 44, 67, 49, 46],\n",
       "       [68, 12, 18, 40, 31]])"
      ]
     },
     "execution_count": 60,
     "metadata": {},
     "output_type": "execute_result"
    }
   ],
   "source": [
    "arr1 = np.random.randint(12,69,(4,5))\n",
    "arr1"
   ]
  },
  {
   "cell_type": "code",
   "execution_count": 57,
   "metadata": {},
   "outputs": [
    {
     "data": {
      "text/plain": [
       "13"
      ]
     },
     "execution_count": 57,
     "metadata": {},
     "output_type": "execute_result"
    }
   ],
   "source": [
    "# 第一个值为负数的时候，为负行开始\n",
    "arr1[-1,2]   # -1行2列"
   ]
  },
  {
   "cell_type": "code",
   "execution_count": 59,
   "metadata": {},
   "outputs": [
    {
     "data": {
      "text/plain": [
       "64"
      ]
     },
     "execution_count": 59,
     "metadata": {},
     "output_type": "execute_result"
    }
   ],
   "source": [
    "# 第一个值为正，行与列都从零开始\n",
    "arr1[2,2]"
   ]
  },
  {
   "cell_type": "code",
   "execution_count": 62,
   "metadata": {},
   "outputs": [
    {
     "data": {
      "text/plain": [
       "array([[49, 32, 31, 15, 17],\n",
       "       [60, 41, 56, 50, 50],\n",
       "       [29, 61, 51, 61, 17],\n",
       "       [12, 46, 39, 65, 27]])"
      ]
     },
     "execution_count": 62,
     "metadata": {},
     "output_type": "execute_result"
    }
   ],
   "source": [
    "# 二维数组的行选区\n",
    "arr1 = np.random.randint(12,69,(4,5))\n",
    "arr1"
   ]
  },
  {
   "cell_type": "code",
   "execution_count": 63,
   "metadata": {},
   "outputs": [
    {
     "data": {
      "text/plain": [
       "array([29, 61, 51, 61, 17])"
      ]
     },
     "execution_count": 63,
     "metadata": {},
     "output_type": "execute_result"
    }
   ],
   "source": [
    "arr1[2]"
   ]
  },
  {
   "cell_type": "code",
   "execution_count": 65,
   "metadata": {},
   "outputs": [
    {
     "data": {
      "text/plain": [
       "array([31, 56, 51, 39])"
      ]
     },
     "execution_count": 65,
     "metadata": {},
     "output_type": "execute_result"
    }
   ],
   "source": [
    "# 二维数组的列选区\n",
    "arr1[:,2]"
   ]
  },
  {
   "cell_type": "code",
   "execution_count": 69,
   "metadata": {},
   "outputs": [
    {
     "data": {
      "text/plain": [
       "array([56, 51, 39])"
      ]
     },
     "execution_count": 69,
     "metadata": {},
     "output_type": "execute_result"
    }
   ],
   "source": [
    "arr1[1:,2]"
   ]
  },
  {
   "cell_type": "code",
   "execution_count": 70,
   "metadata": {},
   "outputs": [
    {
     "data": {
      "text/plain": [
       "array([56])"
      ]
     },
     "execution_count": 70,
     "metadata": {},
     "output_type": "execute_result"
    }
   ],
   "source": [
    "arr1[1:2,2]"
   ]
  },
  {
   "cell_type": "code",
   "execution_count": 75,
   "metadata": {},
   "outputs": [
    {
     "data": {
      "text/plain": [
       "array([[31, 56],\n",
       "       [51, 39]])"
      ]
     },
     "execution_count": 75,
     "metadata": {},
     "output_type": "execute_result"
    }
   ],
   "source": [
    "# reshape进行维度重建\n",
    "arr1[:,2].reshape(2,2)"
   ]
  },
  {
   "cell_type": "code",
   "execution_count": 76,
   "metadata": {},
   "outputs": [
    {
     "data": {
      "text/plain": [
       "array([[31],\n",
       "       [56],\n",
       "       [51],\n",
       "       [39]])"
      ]
     },
     "execution_count": 76,
     "metadata": {},
     "output_type": "execute_result"
    }
   ],
   "source": [
    "arr1[:,2].reshape(len(arr1[:,2]),1)"
   ]
  },
  {
   "cell_type": "code",
   "execution_count": 78,
   "metadata": {},
   "outputs": [
    {
     "data": {
      "text/plain": [
       "array([[56, 50],\n",
       "       [51, 61]])"
      ]
     },
     "execution_count": 78,
     "metadata": {},
     "output_type": "execute_result"
    }
   ],
   "source": [
    "# 二维数组的一般选区\n",
    "arr1[1:3,2:4]"
   ]
  },
  {
   "cell_type": "code",
   "execution_count": 81,
   "metadata": {},
   "outputs": [
    {
     "data": {
      "text/plain": [
       "array([[40, 49, 23, 41, 58],\n",
       "       [61, 49, 48, 32, 63],\n",
       "       [61, 66, 47, 53, 65],\n",
       "       [43, 57, 15, 36, 41],\n",
       "       [38, 27, 55, 42, 43]])"
      ]
     },
     "execution_count": 81,
     "metadata": {},
     "output_type": "execute_result"
    }
   ],
   "source": [
    "# 二维数组的赋值\n",
    "# 二维数组的赋值必定会破坏原数组\n",
    "arr1 = np.random.randint(12,69,(5,5))\n",
    "arr1"
   ]
  },
  {
   "cell_type": "code",
   "execution_count": 84,
   "metadata": {},
   "outputs": [
    {
     "data": {
      "text/plain": [
       "array([[  40,   49,   23,   41,   58],\n",
       "       [  61,   49,   48,   32,   63],\n",
       "       [  61,   66,   47,   53,   65],\n",
       "       [  43,   57,   15, 9999,   41],\n",
       "       [  38,   27,   55,   42,   43]])"
      ]
     },
     "execution_count": 84,
     "metadata": {},
     "output_type": "execute_result"
    }
   ],
   "source": [
    "arr1[3,3] = 9999\n",
    "arr1"
   ]
  },
  {
   "cell_type": "code",
   "execution_count": 88,
   "metadata": {},
   "outputs": [
    {
     "data": {
      "text/plain": [
       "array([[  40,   49,  999,   41,   58],\n",
       "       [  61,   49,  999,   32,   63],\n",
       "       [  61,   66,  999,   53,   65],\n",
       "       [  43,   57,  999, 9999,   41],\n",
       "       [  38,   27,  999,   42,   43]])"
      ]
     },
     "execution_count": 88,
     "metadata": {},
     "output_type": "execute_result"
    }
   ],
   "source": [
    "# 二维数组的选区赋值\n",
    "arr1[:,2] = 999\n",
    "arr1"
   ]
  },
  {
   "cell_type": "code",
   "execution_count": 91,
   "metadata": {},
   "outputs": [
    {
     "data": {
      "text/plain": [
       "array([[  40,   49,  999,   41,   58],\n",
       "       [  61,   49,    0,    0,   63],\n",
       "       [  61,   66,    0,    0,   65],\n",
       "       [  43,   57,  999, 9999,   41],\n",
       "       [  38,   27,  999,   42,   43]])"
      ]
     },
     "execution_count": 91,
     "metadata": {},
     "output_type": "execute_result"
    }
   ],
   "source": [
    "arr1[1:3,2:4] = 0\n",
    "arr1"
   ]
  },
  {
   "cell_type": "code",
   "execution_count": 101,
   "metadata": {},
   "outputs": [
    {
     "data": {
      "text/plain": [
       "array([[55, 52, 67, 14, 38],\n",
       "       [17, 21, 23, 41, 55],\n",
       "       [20, 26, 48, 33, 37],\n",
       "       [14, 50, 40, 65, 57],\n",
       "       [39, 16, 15, 19, 36]], dtype=object)"
      ]
     },
     "execution_count": 101,
     "metadata": {},
     "output_type": "execute_result"
    }
   ],
   "source": [
    "# 嵌套列表的替换\n",
    "# 将二维数组改为object型，方便插入字符\n",
    "arr1 = np.random.randint(12,69,(5,5)).astype(object)\n",
    "arr1"
   ]
  },
  {
   "cell_type": "code",
   "execution_count": 103,
   "metadata": {},
   "outputs": [
    {
     "data": {
      "text/plain": [
       "array([[55, 52, 67, 14, 38],\n",
       "       [17, 21, 999, 999, 55],\n",
       "       [20, 26, 666, 666, 37],\n",
       "       [14, 50, 40, 65, 57],\n",
       "       [39, 16, 15, 19, 36]], dtype=object)"
      ]
     },
     "execution_count": 103,
     "metadata": {},
     "output_type": "execute_result"
    }
   ],
   "source": [
    "arr1[1:3,2:4] = [[999,999],[666,666]]\n",
    "arr1"
   ]
  },
  {
   "cell_type": "code",
   "execution_count": 106,
   "metadata": {},
   "outputs": [
    {
     "data": {
      "text/plain": [
       "array([[55, 52, 67, 14, 38],\n",
       "       [17, 21, 999, 999, 55],\n",
       "       [20, 26, 666, 666, 37],\n",
       "       ['M', 'M', 40, 65, 57],\n",
       "       ['T', 'T', 15, 19, 36]], dtype=object)"
      ]
     },
     "execution_count": 106,
     "metadata": {},
     "output_type": "execute_result"
    }
   ],
   "source": [
    "arr1[3:,0:2] = [[\"M\",\"M\"],[\"T\",\"T\"]]\n",
    "arr1"
   ]
  },
  {
   "cell_type": "code",
   "execution_count": 109,
   "metadata": {},
   "outputs": [
    {
     "data": {
      "text/plain": [
       "array([[[39, 10, 56, 50],\n",
       "        [55, 45, 72, 67],\n",
       "        [53, 64, 79, 77],\n",
       "        [25, 64, 26, 15]],\n",
       "\n",
       "       [[96, 76, 62, 82],\n",
       "        [38, 92, 21, 16],\n",
       "        [83, 58, 50, 96],\n",
       "        [20, 21, 54, 72]],\n",
       "\n",
       "       [[90, 76, 87, 19],\n",
       "        [71, 45, 28, 66],\n",
       "        [48, 73, 73, 72],\n",
       "        [82, 71, 43, 37]]])"
      ]
     },
     "execution_count": 109,
     "metadata": {},
     "output_type": "execute_result"
    }
   ],
   "source": [
    "# 三维数组的索引与选取\n",
    "# 创建三维数组，参数为3个二维数组，一个二维数组有4行4列\n",
    "arr2 = np.random.randint(10,99,(3,4,4))\n",
    "arr2"
   ]
  },
  {
   "cell_type": "code",
   "execution_count": 115,
   "metadata": {},
   "outputs": [
    {
     "data": {
      "text/plain": [
       "92"
      ]
     },
     "execution_count": 115,
     "metadata": {},
     "output_type": "execute_result"
    }
   ],
   "source": [
    "# 三维数组的选取\n",
    "# 参数为第一个二维数组，第一行第一列的值\n",
    "arr2[1,1,1]"
   ]
  },
  {
   "cell_type": "code",
   "execution_count": 116,
   "metadata": {},
   "outputs": [
    {
     "data": {
      "text/plain": [
       "array([[96, 76, 62, 82],\n",
       "       [38, 92, 21, 16],\n",
       "       [83, 58, 50, 96],\n",
       "       [20, 21, 54, 72]])"
      ]
     },
     "execution_count": 116,
     "metadata": {},
     "output_type": "execute_result"
    }
   ],
   "source": [
    "# 先选出为1的二维数组\n",
    "arr2[1]"
   ]
  },
  {
   "cell_type": "code",
   "execution_count": 117,
   "metadata": {},
   "outputs": [
    {
     "data": {
      "text/plain": [
       "92"
      ]
     },
     "execution_count": 117,
     "metadata": {},
     "output_type": "execute_result"
    }
   ],
   "source": [
    "# 再通过下标值选择\n",
    "arr2[1][1,1]"
   ]
  },
  {
   "cell_type": "code",
   "execution_count": 122,
   "metadata": {},
   "outputs": [
    {
     "data": {
      "text/plain": [
       "array([[87],\n",
       "       [28],\n",
       "       [73],\n",
       "       [43]])"
      ]
     },
     "execution_count": 122,
     "metadata": {},
     "output_type": "execute_result"
    }
   ],
   "source": [
    "\n",
    "arr2[2][:,2:3]"
   ]
  },
  {
   "cell_type": "code",
   "execution_count": 125,
   "metadata": {},
   "outputs": [
    {
     "data": {
      "text/plain": [
       "array([[27, 25, 21, 19, 11],\n",
       "       [34, 14, 24, 14, 22],\n",
       "       [32, 19, 15, 20, 34],\n",
       "       [15, 12, 28, 23, 12],\n",
       "       [27, 21, 35, 27, 26]])"
      ]
     },
     "execution_count": 125,
     "metadata": {},
     "output_type": "execute_result"
    }
   ],
   "source": [
    "# bool类型替代\n",
    "bool1 = np.array([False,True,False,True,False])\n",
    "arr1 = np.random.randint(11,36,(5,5))\n",
    "arr1"
   ]
  },
  {
   "cell_type": "code",
   "execution_count": 126,
   "metadata": {},
   "outputs": [
    {
     "data": {
      "text/plain": [
       "array([[34, 14, 24, 14, 22],\n",
       "       [15, 12, 28, 23, 12]])"
      ]
     },
     "execution_count": 126,
     "metadata": {},
     "output_type": "execute_result"
    }
   ],
   "source": [
    "# 使用bool1类型进行替换行\n",
    "# 取出行数为True的行\n",
    "arr1[bool1]"
   ]
  },
  {
   "cell_type": "code",
   "execution_count": 127,
   "metadata": {},
   "outputs": [
    {
     "data": {
      "text/plain": [
       "array([[25, 19],\n",
       "       [14, 14],\n",
       "       [19, 20],\n",
       "       [12, 23],\n",
       "       [21, 27]])"
      ]
     },
     "execution_count": 127,
     "metadata": {},
     "output_type": "execute_result"
    }
   ],
   "source": [
    "# 使用bool1替换列\n",
    "# 取出列数为true的列\n",
    "arr1[:,bool1]"
   ]
  },
  {
   "cell_type": "code",
   "execution_count": 131,
   "metadata": {},
   "outputs": [
    {
     "data": {
      "text/plain": [
       "array([[ 18,  51,  38,  94, 145,  59,  59,  91,  52],\n",
       "       [121,  66, 126,  14,  55, 138,  54, 139,  35],\n",
       "       [112, 122,  78, 113, 105, 110, 134,  67,  14],\n",
       "       [ 68, 108,  93,  21,  64,  38,  67, 134,  34],\n",
       "       [121,  89,  76,  22, 121,  40, 128,  20,  56],\n",
       "       [ 55,  92,  78,  34,  73,  81, 112,  61, 108],\n",
       "       [ 11,  79,  95, 130,  78,  97,  39,  83,  75],\n",
       "       [ 91,  44,  76, 143, 148, 145,  80,  21,  23],\n",
       "       [ 47,  26,  94,  12,  52, 135,  53,  35,  46]])"
      ]
     },
     "execution_count": 131,
     "metadata": {},
     "output_type": "execute_result"
    }
   ],
   "source": [
    "# 自动产生bool数组\n",
    "arr2 = np.random.randint(10,150,(9,9))\n",
    "arr2"
   ]
  },
  {
   "cell_type": "code",
   "execution_count": 132,
   "metadata": {},
   "outputs": [
    {
     "data": {
      "text/plain": [
       "array([[False, False, False, False,  True, False, False, False, False],\n",
       "       [ True, False,  True, False, False,  True, False,  True, False],\n",
       "       [ True,  True, False,  True,  True,  True,  True, False, False],\n",
       "       [False,  True, False, False, False, False, False,  True, False],\n",
       "       [ True, False, False, False,  True, False,  True, False, False],\n",
       "       [False, False, False, False, False, False,  True, False,  True],\n",
       "       [False, False, False,  True, False, False, False, False, False],\n",
       "       [False, False, False,  True,  True,  True, False, False, False],\n",
       "       [False, False, False, False, False,  True, False, False, False]])"
      ]
     },
     "execution_count": 132,
     "metadata": {},
     "output_type": "execute_result"
    }
   ],
   "source": [
    "# 筛选出大于100的值，\n",
    "# 得到bool数组\n",
    "arr2>100"
   ]
  },
  {
   "cell_type": "code",
   "execution_count": 134,
   "metadata": {},
   "outputs": [
    {
     "data": {
      "text/plain": [
       "array([145, 121, 126, 138, 139, 112, 122, 113, 105, 110, 134, 108, 134,\n",
       "       121, 121, 128, 112, 108, 130, 143, 148, 145, 135])"
      ]
     },
     "execution_count": 134,
     "metadata": {},
     "output_type": "execute_result"
    }
   ],
   "source": [
    "# 将得到的bool数组放到索引位置\n",
    "# 刷选出大于100的值\n",
    "arr2[arr2>100]"
   ]
  },
  {
   "cell_type": "code",
   "execution_count": 142,
   "metadata": {},
   "outputs": [
    {
     "name": "stdout",
     "output_type": "stream",
     "text": [
      "[[7 5 5 7 3]\n",
      " [8 3 5 3 4]]\n",
      "------------------------------\n",
      "[7 3 3 5 7]\n"
     ]
    },
    {
     "data": {
      "text/plain": [
       "array([[7, 4, 4, 8, 8],\n",
       "       [5, 7, 7, 2, 5],\n",
       "       [5, 6, 3, 2, 2],\n",
       "       [6, 8, 4, 4, 2],\n",
       "       [8, 5, 5, 8, 4]])"
      ]
     },
     "execution_count": 142,
     "metadata": {},
     "output_type": "execute_result"
    }
   ],
   "source": [
    "# 扩展，广播功能再计算中的作用\n",
    "arr3 = np.random.randint(2,9,(5,5))\n",
    "arr4 = np.random.randint(2,9,5)\n",
    "arr5 = np.random.randint(2,9,(2,5))\n",
    "print(arr5)\n",
    "print(\"-\"*30)\n",
    "print(arr4)\n",
    "arr3"
   ]
  },
  {
   "cell_type": "code",
   "execution_count": 139,
   "metadata": {},
   "outputs": [
    {
     "data": {
      "text/plain": [
       "array([[56, 12, 16, 30, 12],\n",
       "       [28, 14, 16, 40, 12],\n",
       "       [49, 12, 20, 25, 16],\n",
       "       [35,  4, 28, 20, 10],\n",
       "       [28, 16, 24, 15,  4]])"
      ]
     },
     "execution_count": 139,
     "metadata": {},
     "output_type": "execute_result"
    }
   ],
   "source": [
    "# 一维数组与二维数组的相乘\n",
    "# 单行乘以多行，且不能多行诚意不相等的行数\n",
    "arr3*arr4"
   ]
  },
  {
   "cell_type": "code",
   "execution_count": 145,
   "metadata": {},
   "outputs": [
    {
     "data": {
      "text/plain": [
       "array([[4],\n",
       "       [7],\n",
       "       [6],\n",
       "       [8],\n",
       "       [5]])"
      ]
     },
     "execution_count": 145,
     "metadata": {},
     "output_type": "execute_result"
    }
   ],
   "source": [
    "arr = arr3[:,1:2]\n",
    "arr"
   ]
  },
  {
   "cell_type": "code",
   "execution_count": 146,
   "metadata": {},
   "outputs": [
    {
     "data": {
      "text/plain": [
       "array([[28, 16, 16, 32, 32],\n",
       "       [35, 49, 49, 14, 35],\n",
       "       [30, 36, 18, 12, 12],\n",
       "       [48, 64, 32, 32, 16],\n",
       "       [40, 25, 25, 40, 20]])"
      ]
     },
     "execution_count": 146,
     "metadata": {},
     "output_type": "execute_result"
    }
   ],
   "source": [
    "# 列与列的相乘\n",
    "arr3*arr"
   ]
  },
  {
   "cell_type": "code",
   "execution_count": 148,
   "metadata": {},
   "outputs": [
    {
     "data": {
      "text/plain": [
       "array([[69, 95, 68, 44, 87, 55, 32, 19, 47, 46, 81],\n",
       "       [49, 39, 39, 43, 14, 13, 52, 92, 62, 78, 95],\n",
       "       [25, 97, 55, 47, 32, 98, 89, 32, 58, 26, 97],\n",
       "       [85, 92, 22, 47, 58, 60, 30, 81, 72, 86, 73],\n",
       "       [25, 33, 79, 67, 43, 36, 11, 80, 94, 50, 40],\n",
       "       [69, 23, 13, 70, 38, 42, 97, 12, 49, 35, 47],\n",
       "       [34, 18, 70, 13, 45, 71, 23, 55, 75, 85, 85],\n",
       "       [61, 94, 26, 98, 87, 42, 71, 47, 43, 37, 28],\n",
       "       [57, 67, 71, 49, 27, 53, 83, 60, 23, 61, 56],\n",
       "       [50, 97, 54, 80, 19, 40, 47, 74, 30, 21, 76],\n",
       "       [16, 23, 78, 58, 48, 95, 64, 17, 56, 48, 55]])"
      ]
     },
     "execution_count": 148,
     "metadata": {},
     "output_type": "execute_result"
    }
   ],
   "source": [
    "# 拓展，花式索引\n",
    "# 多行选区\n",
    "arr = np.random.randint(11,99,(11,11))\n",
    "arr\n"
   ]
  },
  {
   "cell_type": "code",
   "execution_count": 149,
   "metadata": {},
   "outputs": [
    {
     "data": {
      "text/plain": [
       "array([[69, 95, 68, 44, 87, 55, 32, 19, 47, 46, 81],\n",
       "       [25, 97, 55, 47, 32, 98, 89, 32, 58, 26, 97],\n",
       "       [25, 33, 79, 67, 43, 36, 11, 80, 94, 50, 40]])"
      ]
     },
     "execution_count": 149,
     "metadata": {},
     "output_type": "execute_result"
    }
   ],
   "source": [
    "# 多行选取\n",
    "arr[[0,2,4],:]"
   ]
  },
  {
   "cell_type": "code",
   "execution_count": 150,
   "metadata": {},
   "outputs": [
    {
     "data": {
      "text/plain": [
       "array([[69, 68, 44],\n",
       "       [49, 39, 43],\n",
       "       [25, 55, 47],\n",
       "       [85, 22, 47],\n",
       "       [25, 79, 67],\n",
       "       [69, 13, 70],\n",
       "       [34, 70, 13],\n",
       "       [61, 26, 98],\n",
       "       [57, 71, 49],\n",
       "       [50, 54, 80],\n",
       "       [16, 78, 58]])"
      ]
     },
     "execution_count": 150,
     "metadata": {},
     "output_type": "execute_result"
    }
   ],
   "source": [
    "# 多列选取\n",
    "arr[:,[0,2,3]]"
   ]
  },
  {
   "cell_type": "code",
   "execution_count": 161,
   "metadata": {},
   "outputs": [
    {
     "data": {
      "text/plain": [
       "array([[69, 95],\n",
       "       [49, 39],\n",
       "       [25, 97]])"
      ]
     },
     "execution_count": 161,
     "metadata": {},
     "output_type": "execute_result"
    }
   ],
   "source": [
    "# 精确选取\n",
    "# 选取0,1,2行下的，所有行下的0,1列\n",
    "arr[[0,1,2]][:,[0,1]]"
   ]
  },
  {
   "cell_type": "markdown",
   "metadata": {},
   "source": [
    "### 空值在numpy中的表示"
   ]
  },
  {
   "cell_type": "code",
   "execution_count": 163,
   "metadata": {},
   "outputs": [
    {
     "data": {
      "text/plain": [
       "array([[nan,  6.,  9.],\n",
       "       [ 3., nan,  9.]])"
      ]
     },
     "execution_count": 163,
     "metadata": {},
     "output_type": "execute_result"
    }
   ],
   "source": [
    "arr4 = np.array([[np.nan,6,9],[3,np.nan,9]])\n",
    "arr4"
   ]
  },
  {
   "cell_type": "code",
   "execution_count": 166,
   "metadata": {},
   "outputs": [
    {
     "data": {
      "text/plain": [
       "array([[ True, False, False],\n",
       "       [False,  True, False]])"
      ]
     },
     "execution_count": 166,
     "metadata": {},
     "output_type": "execute_result"
    }
   ],
   "source": [
    "# np.isnan()判断是否为空值，返回为bool型\n",
    "np.isnan(arr4)"
   ]
  },
  {
   "cell_type": "code",
   "execution_count": 169,
   "metadata": {},
   "outputs": [
    {
     "data": {
      "text/plain": [
       "array([nan, nan])"
      ]
     },
     "execution_count": 169,
     "metadata": {},
     "output_type": "execute_result"
    }
   ],
   "source": [
    "# 将返回的布尔类型返回为nan值\n",
    "arr4[np.isnan(arr4)]"
   ]
  },
  {
   "cell_type": "code",
   "execution_count": 171,
   "metadata": {},
   "outputs": [
    {
     "data": {
      "text/plain": [
       "nan"
      ]
     },
     "execution_count": 171,
     "metadata": {},
     "output_type": "execute_result"
    }
   ],
   "source": [
    "arr4[np.isnan(arr4)][0]"
   ]
  },
  {
   "cell_type": "markdown",
   "metadata": {},
   "source": [
    "#### 值的筛选"
   ]
  },
  {
   "cell_type": "code",
   "execution_count": 173,
   "metadata": {},
   "outputs": [
    {
     "data": {
      "text/plain": [
       "array([20, 22, 14, 14, 86, 55, 11, 76, 22, 94, 22, 57, 95, 47, 11, 78, 85,\n",
       "       73, 22, 47])"
      ]
     },
     "execution_count": 173,
     "metadata": {},
     "output_type": "execute_result"
    }
   ],
   "source": [
    "# 值的筛选\n",
    "arr5 = np.random.randint(11,99,(20))\n",
    "arr5"
   ]
  },
  {
   "cell_type": "code",
   "execution_count": 175,
   "metadata": {},
   "outputs": [
    {
     "data": {
      "text/plain": [
       "array([False, False, False, False,  True,  True, False,  True, False,\n",
       "        True, False,  True,  True, False, False,  True,  True,  True,\n",
       "       False, False])"
      ]
     },
     "execution_count": 175,
     "metadata": {},
     "output_type": "execute_result"
    }
   ],
   "source": [
    "# 得到布尔类型的数组\n",
    "arr5>50"
   ]
  },
  {
   "cell_type": "code",
   "execution_count": 176,
   "metadata": {},
   "outputs": [
    {
     "data": {
      "text/plain": [
       "array([86, 55, 76, 94, 57, 95, 78, 85, 73])"
      ]
     },
     "execution_count": 176,
     "metadata": {},
     "output_type": "execute_result"
    }
   ],
   "source": [
    "# 将布尔类型的数组放到索引位置\n",
    "# 得出arr5数组中大于50的值\n",
    "arr5[arr5>50]"
   ]
  },
  {
   "cell_type": "markdown",
   "metadata": {},
   "source": [
    "### 实战题目"
   ]
  },
  {
   "cell_type": "code",
   "execution_count": 178,
   "metadata": {},
   "outputs": [
    {
     "data": {
      "text/plain": [
       "array([[ 3.18,  3.2 , -5.8 , -2.21,  1.85, -3.03,  1.03, -0.79],\n",
       "       [-1.72, -6.53,  2.86, -1.93, -0.51,  0.67,  3.41,  1.44],\n",
       "       [-1.74,  1.55, -3.78, -2.27, -0.21,  2.99,  5.72, -1.52],\n",
       "       [ 3.38,  0.67,  0.68, -5.46, -5.86,  0.64,  0.36, -0.77],\n",
       "       [ 1.36,  1.54,  4.62, -3.51, -5.66,  0.48, -5.39,  1.64],\n",
       "       [ 0.77, -1.61, -2.85, -3.35, -3.07,  0.07,  3.43, -0.78],\n",
       "       [ 0.14, -0.04, -5.46, -0.15, -5.2 ,  1.8 , -6.75, -4.98],\n",
       "       [ 1.74, -1.75,  1.37, -2.68,  2.99,  2.57,  2.06,  1.98]])"
      ]
     },
     "execution_count": 178,
     "metadata": {},
     "output_type": "execute_result"
    }
   ],
   "source": [
    "# 创建数组，-1值附近，散度为2.6，8乘8，保留两位小数\n",
    "# 需求：判断第二列中受否有-6.53和-0.04的值，如果有，将两行打印出来\n",
    "arr1 = np.round(np.random.normal(-1,2.6,(8,8)),2)\n",
    "arr1"
   ]
  },
  {
   "cell_type": "code",
   "execution_count": 188,
   "metadata": {},
   "outputs": [
    {
     "data": {
      "text/plain": [
       "array([False,  True, False, False, False, False, False, False])"
      ]
     },
     "execution_count": 188,
     "metadata": {},
     "output_type": "execute_result"
    }
   ],
   "source": [
    "# 进行判断是否有值\n",
    "# 返回的有true值，代表存在\n",
    "arr1[:,1]==-6.53"
   ]
  },
  {
   "cell_type": "code",
   "execution_count": 189,
   "metadata": {},
   "outputs": [
    {
     "data": {
      "text/plain": [
       "array([[-1.72, -6.53,  2.86, -1.93, -0.51,  0.67,  3.41,  1.44],\n",
       "       [ 0.14, -0.04, -5.46, -0.15, -5.2 ,  1.8 , -6.75, -4.98]])"
      ]
     },
     "execution_count": 189,
     "metadata": {},
     "output_type": "execute_result"
    }
   ],
   "source": [
    "arr1[(arr1[:,1]==-6.53) | (arr1[:,1]==-0.04)]"
   ]
  },
  {
   "cell_type": "code",
   "execution_count": 198,
   "metadata": {},
   "outputs": [
    {
     "data": {
      "text/plain": [
       "array([[27., 13., 29., 49., 17.],\n",
       "       [46., 25., 39., 46., 25.],\n",
       "       [18., 22., 45., 19., 44.],\n",
       "       [34., 17., 29., 48., 21.],\n",
       "       [23., 20., 21., 30., 29.],\n",
       "       [44., 42., 19., 40., 35.],\n",
       "       [15., 18., 38., 26., 42.],\n",
       "       [22., 35., 34., 26., 15.]])"
      ]
     },
     "execution_count": 198,
     "metadata": {},
     "output_type": "execute_result"
    }
   ],
   "source": [
    "# 第二题\n",
    "# 中位数补值\n",
    "# 生成一个随机含有空值的数据集\n",
    "arr2 = np.random.randint(12,50,(8,5)).astype(float)\n",
    "arr2"
   ]
  },
  {
   "cell_type": "code",
   "execution_count": 227,
   "metadata": {},
   "outputs": [
    {
     "data": {
      "text/plain": [
       "array([[nan, 13., nan, nan, 17.],\n",
       "       [46., 25., 39., nan, nan],\n",
       "       [18., nan, 45., 19., 44.],\n",
       "       [34., 17., nan, nan, 21.],\n",
       "       [23., 20., 21., nan, nan],\n",
       "       [nan, 42., 19., 40., 35.],\n",
       "       [15., 18., nan, nan, 42.],\n",
       "       [nan, 35., 34., nan, 15.]])"
      ]
     },
     "execution_count": 227,
     "metadata": {},
     "output_type": "execute_result"
    }
   ],
   "source": [
    "# 产生随机的空值\n",
    "arr2[np.random.randint(0,8,5),np.random.randint(0,5,5)] = np.nan\n",
    "arr2"
   ]
  },
  {
   "cell_type": "code",
   "execution_count": 222,
   "metadata": {},
   "outputs": [],
   "source": [
    "# 先判断是否有空值,返回bool类型，空值为True\n",
    "# np.isnan(arr2)\n",
    "\n",
    "# shape 函数返回数据集的维度，\n",
    "# c,r = arr2.shape"
   ]
  },
  {
   "cell_type": "code",
   "execution_count": 241,
   "metadata": {},
   "outputs": [],
   "source": [
    "def fillup(arr3):\n",
    "    # 判断，返回含有空值的布尔类型数据集\n",
    "    arr2_bool = np.isnan(arr3)\n",
    "    index_list = []\n",
    "    r,c = arr3.shape\n",
    "    for col in range(c):\n",
    "        for row in range(r):\n",
    "            if arr2[row,col] == True:\n",
    "                index_list.append((row,col))\n",
    "                print(index_list)\n",
    "    for indices in index_list:\n",
    "        print(\"sdwad\")\n",
    "        print(indices)\n",
    "        row2,col2 = indices\n",
    "        arr[row2,col2] = np.median(arr[:,col2][~np.isnan(arr[:,col2])])\n",
    "    \n",
    "    return arr3\n",
    "                "
   ]
  },
  {
   "cell_type": "code",
   "execution_count": 243,
   "metadata": {},
   "outputs": [
    {
     "data": {
      "text/plain": [
       "array([[nan, 13., nan, nan, 17.],\n",
       "       [46., 25., 39., nan, nan],\n",
       "       [18., nan, 45., 19., 44.],\n",
       "       [34., 17., nan, nan, 21.],\n",
       "       [23., 20., 21., nan, nan],\n",
       "       [nan, 42., 19., 40., 35.],\n",
       "       [15., 18., nan, nan, 42.],\n",
       "       [nan, 35., 34., nan, 15.]])"
      ]
     },
     "execution_count": 243,
     "metadata": {},
     "output_type": "execute_result"
    }
   ],
   "source": [
    "fillup(arr2)"
   ]
  }
 ],
 "metadata": {
  "kernelspec": {
   "display_name": "Python 3",
   "language": "python",
   "name": "python3"
  },
  "language_info": {
   "codemirror_mode": {
    "name": "ipython",
    "version": 3
   },
   "file_extension": ".py",
   "mimetype": "text/x-python",
   "name": "python",
   "nbconvert_exporter": "python",
   "pygments_lexer": "ipython3",
   "version": "3.6.8"
  }
 },
 "nbformat": 4,
 "nbformat_minor": 2
}
