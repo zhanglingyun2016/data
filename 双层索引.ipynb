{
 "cells": [
  {
   "cell_type": "code",
   "execution_count": 25,
   "metadata": {},
   "outputs": [
    {
     "name": "stdout",
     "output_type": "stream",
     "text": [
      "r1    19\n",
      "r2    20\n",
      "r3    32\n",
      "r4    16\n",
      "dtype: int32\n",
      "r1    19\n",
      "r2    20\n",
      "r3    32\n",
      "r4    16\n",
      "dtype: int32\n"
     ]
    }
   ],
   "source": [
    "# 双层索引\n",
    "import pandas as pd \n",
    "import numpy as np\n",
    "\n",
    "pd1 = pd.Series(np.random.randint(12,36,10),index = [list(\"aaaabbbbcc\"),list([\"r%u\" %i for i in range(1,11)])])\n",
    "pd1\n",
    "print(pd1[\"a\"])\n",
    "print(pd1[\"a\"][\"r1\":\"r4\"])\n",
    "\n"
   ]
  },
  {
   "cell_type": "markdown",
   "metadata": {},
   "source": [
    "# 双层索引Series的索引与选取\n",
    "\n",
    "\n",
    "\n",
    "\n",
    "\n"
   ]
  },
  {
   "cell_type": "code",
   "execution_count": 31,
   "metadata": {},
   "outputs": [
    {
     "name": "stdout",
     "output_type": "stream",
     "text": [
      "     r1   r10    r2    r3    r4    r5    r6    r7    r8    r9\n",
      "a  34.0   NaN  32.0  16.0  24.0   NaN   NaN   NaN   NaN   NaN\n",
      "b   NaN   NaN   NaN   NaN   NaN  31.0  21.0  12.0  16.0   NaN\n",
      "c   NaN  27.0   NaN   NaN   NaN   NaN   NaN   NaN   NaN  34.0\n"
     ]
    },
    {
     "data": {
      "text/plain": [
       "a  r1     34\n",
       "   r2     32\n",
       "   r3     16\n",
       "   r4     24\n",
       "b  r5     31\n",
       "   r6     21\n",
       "   r7     12\n",
       "   r8     16\n",
       "c  r9     34\n",
       "   r10    27\n",
       "dtype: int32"
      ]
     },
     "execution_count": 31,
     "metadata": {},
     "output_type": "execute_result"
    }
   ],
   "source": [
    "# unstack-Series转数据框\n",
    "import pandas as pd \n",
    "import numpy as np\n",
    "\n",
    "pd1 = pd.Series(np.random.randint(12,36,10),index = [list(\"aaaabbbbcc\"),list([\"r%u\" %i for i in range(1,11)])])\n",
    "result = pd1.unstack(-1)  #unstack（）函数,将会产生空值\n",
    "print(result)  \n",
    "pd1\n",
    "\n"
   ]
  },
  {
   "cell_type": "code",
   "execution_count": 36,
   "metadata": {},
   "outputs": [
    {
     "name": "stdout",
     "output_type": "stream",
     "text": [
      "    1   2   3   4   5\n",
      "a  37  15  21  23  35\n",
      "b  31  21  39  37  19\n",
      "c  23  26  29  34  31\n",
      "d  28  21  18  27  23\n",
      "e  17  28  31  22  18\n"
     ]
    },
    {
     "data": {
      "text/plain": [
       "a  1    37\n",
       "   2    15\n",
       "   3    21\n",
       "   4    23\n",
       "   5    35\n",
       "b  1    31\n",
       "   2    21\n",
       "   3    39\n",
       "   4    37\n",
       "   5    19\n",
       "c  1    23\n",
       "   2    26\n",
       "   3    29\n",
       "   4    34\n",
       "   5    31\n",
       "d  1    28\n",
       "   2    21\n",
       "   3    18\n",
       "   4    27\n",
       "   5    23\n",
       "e  1    17\n",
       "   2    28\n",
       "   3    31\n",
       "   4    22\n",
       "   5    18\n",
       "dtype: int32"
      ]
     },
     "execution_count": 36,
     "metadata": {},
     "output_type": "execute_result"
    }
   ],
   "source": [
    "# stack函数\n",
    "pd1 = pd.DataFrame(np.random.randint(13,40,(5,5)),index = list(\"abcde\"),columns = list(\"12345\"))\n",
    "print(pd1)\n",
    "pd1.stack()   #将每一行抽出来进行平放\n",
    "\n",
    "\n",
    "\n"
   ]
  }
 ],
 "metadata": {
  "kernelspec": {
   "display_name": "Python 3",
   "language": "python",
   "name": "python3"
  },
  "language_info": {
   "codemirror_mode": {
    "name": "ipython",
    "version": 3
   },
   "file_extension": ".py",
   "mimetype": "text/x-python",
   "name": "python",
   "nbconvert_exporter": "python",
   "pygments_lexer": "ipython3",
   "version": "3.6.8"
  }
 },
 "nbformat": 4,
 "nbformat_minor": 2
}
