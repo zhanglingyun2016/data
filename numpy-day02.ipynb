{
 "cells": [
  {
   "cell_type": "markdown",
   "metadata": {},
   "source": [
    "# 数组的切片"
   ]
  },
  {
   "cell_type": "code",
   "execution_count": 8,
   "metadata": {},
   "outputs": [],
   "source": [
    "import numpy as np\n",
    "\n",
    "np1 = np.arange(12,20,0.05)   #生成数组，第三个参数为间隔值\n",
    "# np1"
   ]
  },
  {
   "cell_type": "code",
   "execution_count": 12,
   "metadata": {},
   "outputs": [],
   "source": [
    "np1 = np.random.randint(2,18,(3,6,7))\n",
    "# np1"
   ]
  },
  {
   "cell_type": "markdown",
   "metadata": {},
   "source": [
    "# 布尔值做索引"
   ]
  },
  {
   "cell_type": "code",
   "execution_count": 15,
   "metadata": {},
   "outputs": [
    {
     "name": "stdout",
     "output_type": "stream",
     "text": [
      "[5 6 2 5 5]\n"
     ]
    },
    {
     "data": {
      "text/plain": [
       "array([5, 2, 5])"
      ]
     },
     "execution_count": 15,
     "metadata": {},
     "output_type": "execute_result"
    }
   ],
   "source": [
    "np1 = np.random.randint(2,9,5)\n",
    "print(np1)\n",
    "\n",
    "bool1 = np.array([True,False,True,False,True])    #布尔值做索引，选取为true的相对应元素\n",
    "np1[bool1]"
   ]
  },
  {
   "cell_type": "code",
   "execution_count": 19,
   "metadata": {},
   "outputs": [
    {
     "name": "stdout",
     "output_type": "stream",
     "text": [
      "[[ 0  1  2  3]\n",
      " [ 4  5  6  7]\n",
      " [ 8  9 10 11]\n",
      " [12 13 14 15]]\n"
     ]
    },
    {
     "data": {
      "text/plain": [
       "array([[ 2,  3],\n",
       "       [10, 11]])"
      ]
     },
     "execution_count": 19,
     "metadata": {},
     "output_type": "execute_result"
    }
   ],
   "source": [
    "np23 = np.arange(0,16).reshape(4,4)\n",
    "print(np23)\n",
    "np23[[True,False,True,False],:]    #使用bool变量进行切片\n",
    "np23[[True,False,True,False],2:] "
   ]
  },
  {
   "cell_type": "code",
   "execution_count": 23,
   "metadata": {},
   "outputs": [
    {
     "data": {
      "text/plain": [
       "array([ 7,  5, -5,  1,  6,  7, -5, -6,  4, -1, -6, -1, -6, -6, -6,  3,  5,\n",
       "       -1,  6, -2,  0, -6,  3,  0,  0,  4,  1, -1,  6, -6,  6, -4, -4,  7])"
      ]
     },
     "execution_count": 23,
     "metadata": {},
     "output_type": "execute_result"
    }
   ],
   "source": [
    "np1 = np.random.randint(-8,8,(6,6))\n",
    "np1[np1>-7]"
   ]
  },
  {
   "cell_type": "code",
   "execution_count": 33,
   "metadata": {},
   "outputs": [
    {
     "data": {
      "text/plain": [
       "array([[15, 33, 31],\n",
       "       [50,  5, 25],\n",
       "       [ 7, 53, 44],\n",
       "       [35, 55, 57],\n",
       "       [27, 48, 50],\n",
       "       [44, 57, 16],\n",
       "       [39,  8, 49],\n",
       "       [52, 41, 24],\n",
       "       [50, 57, 58],\n",
       "       [ 5, 12, 46],\n",
       "       [27,  7, 34],\n",
       "       [ 5, 32, 35],\n",
       "       [19, 35,  7],\n",
       "       [11, 26, 46],\n",
       "       [13, 17, 25]])"
      ]
     },
     "execution_count": 33,
     "metadata": {},
     "output_type": "execute_result"
    }
   ],
   "source": [
    "# 花式索引\n",
    "\n",
    "import numpy as np\n",
    "\n",
    "np1 = np.random.randint(3,60,(15,6))\n",
    "np1[[2,3,4]]   #花式索引，一次选中多行\n",
    "\n",
    "# 数组的随机筛选\n",
    "np1[np.random.randint(2,8,5).tolist()]\n",
    "\n",
    "np1[:,[2,3,4]]   #随机挑选列"
   ]
  },
  {
   "cell_type": "code",
   "execution_count": 34,
   "metadata": {},
   "outputs": [
    {
     "name": "stdout",
     "output_type": "stream",
     "text": [
      "[[26 40 13 53 16 55]\n",
      " [39 42 55 17 34 25]\n",
      " [ 7 32  6 43 30  5]\n",
      " [53 20 42 51 53 49]\n",
      " [14 50 12 31 58 53]\n",
      " [58 31 57 54  3 40]]\n"
     ]
    },
    {
     "data": {
      "text/plain": [
       "array([[26, 39,  7, 53, 14, 58],\n",
       "       [40, 42, 32, 20, 50, 31],\n",
       "       [13, 55,  6, 42, 12, 57],\n",
       "       [53, 17, 43, 51, 31, 54],\n",
       "       [16, 34, 30, 53, 58,  3],\n",
       "       [55, 25,  5, 49, 53, 40]])"
      ]
     },
     "execution_count": 34,
     "metadata": {},
     "output_type": "execute_result"
    }
   ],
   "source": [
    "# 二维数组的转置就是行列元素进换位\n",
    "np1 = np.random.randint(3,60,(6,6))\n",
    "print(np1)\n",
    "np1.T"
   ]
  },
  {
   "cell_type": "code",
   "execution_count": 4,
   "metadata": {},
   "outputs": [
    {
     "data": {
      "text/plain": [
       "array([[[ 3,  8,  6, 15,  3],\n",
       "        [ 8,  4,  5, 13,  5],\n",
       "        [ 7,  2, 10, 15,  7],\n",
       "        [ 2, 15,  8, 15,  2],\n",
       "        [13,  9,  6, 15,  4]],\n",
       "\n",
       "       [[12,  4, 10,  3, 11],\n",
       "        [14,  6,  6, 10,  5],\n",
       "        [14,  7, 12, 13, 14],\n",
       "        [ 5,  2,  3, 10, 10],\n",
       "        [ 6, 14,  3, 11,  6]]])"
      ]
     },
     "execution_count": 4,
     "metadata": {},
     "output_type": "execute_result"
    }
   ],
   "source": [
    "#高维数组的转置\n",
    "import numpy as np\n",
    "\n",
    "np_gao = np.random.randint(2,16,(2,5,5))\n",
    "\"\"\"\n",
    "起始外形（2,5,5）012,随数组的维度转变\n",
    "\"\"\"\n",
    "np_gao"
   ]
  },
  {
   "cell_type": "code",
   "execution_count": 5,
   "metadata": {},
   "outputs": [
    {
     "data": {
      "text/plain": [
       "array([[[ 3, 12],\n",
       "        [ 8, 14],\n",
       "        [ 7, 14],\n",
       "        [ 2,  5],\n",
       "        [13,  6]],\n",
       "\n",
       "       [[ 8,  4],\n",
       "        [ 4,  6],\n",
       "        [ 2,  7],\n",
       "        [15,  2],\n",
       "        [ 9, 14]],\n",
       "\n",
       "       [[ 6, 10],\n",
       "        [ 5,  6],\n",
       "        [10, 12],\n",
       "        [ 8,  3],\n",
       "        [ 6,  3]],\n",
       "\n",
       "       [[15,  3],\n",
       "        [13, 10],\n",
       "        [15, 13],\n",
       "        [15, 10],\n",
       "        [15, 11]],\n",
       "\n",
       "       [[ 3, 11],\n",
       "        [ 5,  5],\n",
       "        [ 7, 14],\n",
       "        [ 2, 10],\n",
       "        [ 4,  6]]])"
      ]
     },
     "execution_count": 5,
     "metadata": {},
     "output_type": "execute_result"
    }
   ],
   "source": [
    "np_gao.transpose(2,1,0)#起始位0,1,2的维度，转为2,1,0三维和一维度进行换位"
   ]
  },
  {
   "cell_type": "code",
   "execution_count": 9,
   "metadata": {},
   "outputs": [
    {
     "data": {
      "text/plain": [
       "array([[[ 3, 12],\n",
       "        [ 8, 14],\n",
       "        [ 7, 14],\n",
       "        [ 2,  5],\n",
       "        [13,  6]],\n",
       "\n",
       "       [[ 8,  4],\n",
       "        [ 4,  6],\n",
       "        [ 2,  7],\n",
       "        [15,  2],\n",
       "        [ 9, 14]],\n",
       "\n",
       "       [[ 6, 10],\n",
       "        [ 5,  6],\n",
       "        [10, 12],\n",
       "        [ 8,  3],\n",
       "        [ 6,  3]],\n",
       "\n",
       "       [[15,  3],\n",
       "        [13, 10],\n",
       "        [15, 13],\n",
       "        [15, 10],\n",
       "        [15, 11]],\n",
       "\n",
       "       [[ 3, 11],\n",
       "        [ 5,  5],\n",
       "        [ 7, 14],\n",
       "        [ 2, 10],\n",
       "        [ 4,  6]]])"
      ]
     },
     "execution_count": 9,
     "metadata": {},
     "output_type": "execute_result"
    }
   ],
   "source": [
    "# 高维数组的全转置，等价于transpose（2,1,0）函数的维度倒序，原始维度为0,1,2\n",
    "np_gao.T   #高位数组的全转置"
   ]
  }
 ],
 "metadata": {
  "kernelspec": {
   "display_name": "Python 3",
   "language": "python",
   "name": "python3"
  },
  "language_info": {
   "codemirror_mode": {
    "name": "ipython",
    "version": 3
   },
   "file_extension": ".py",
   "mimetype": "text/x-python",
   "name": "python",
   "nbconvert_exporter": "python",
   "pygments_lexer": "ipython3",
   "version": "3.6.8"
  }
 },
 "nbformat": 4,
 "nbformat_minor": 2
}
