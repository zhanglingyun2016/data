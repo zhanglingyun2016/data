{
 "cells": [
  {
   "cell_type": "markdown",
   "metadata": {},
   "source": [
    "# 数组的转置day01"
   ]
  },
  {
   "cell_type": "code",
   "execution_count": 1,
   "metadata": {},
   "outputs": [],
   "source": [
    "# 数组的转置\n",
    "import numpy as np"
   ]
  },
  {
   "cell_type": "code",
   "execution_count": 3,
   "metadata": {},
   "outputs": [
    {
     "data": {
      "text/plain": [
       "array([[-0.71285458,  1.23468268, -1.14376342,  0.63195286],\n",
       "       [-1.14022751, -0.00642247,  0.68278044,  0.36845138],\n",
       "       [-0.69491152,  0.24957828,  0.96666805, -0.00912048]])"
      ]
     },
     "execution_count": 3,
     "metadata": {},
     "output_type": "execute_result"
    }
   ],
   "source": [
    "# randn函数返回一个或一组样本，具有标准正态分布。\n",
    "# dn表格每个维度\n",
    "# 返回值为指定维度的array\n",
    "arr1 = np.random.randn(3,4)\n",
    "arr1"
   ]
  },
  {
   "cell_type": "code",
   "execution_count": 4,
   "metadata": {},
   "outputs": [
    {
     "data": {
      "text/plain": [
       "array([[-0.71285458, -1.14022751, -0.69491152],\n",
       "       [ 1.23468268, -0.00642247,  0.24957828],\n",
       "       [-1.14376342,  0.68278044,  0.96666805],\n",
       "       [ 0.63195286,  0.36845138, -0.00912048]])"
      ]
     },
     "execution_count": 4,
     "metadata": {},
     "output_type": "execute_result"
    }
   ],
   "source": [
    "# 二维数组的转置\n",
    "arr1.T"
   ]
  },
  {
   "cell_type": "markdown",
   "metadata": {},
   "source": [
    "### 高维数组的转置"
   ]
  },
  {
   "cell_type": "code",
   "execution_count": 5,
   "metadata": {},
   "outputs": [
    {
     "data": {
      "text/plain": [
       "array([[[28, 19, 29, 47],\n",
       "        [61, 32, 31, 53],\n",
       "        [46, 87, 46, 25],\n",
       "        [46, 62, 43, 44],\n",
       "        [76, 49, 60, 72]],\n",
       "\n",
       "       [[46, 32, 74, 55],\n",
       "        [35, 65, 70, 68],\n",
       "        [66, 70, 40, 50],\n",
       "        [61, 89, 36, 68],\n",
       "        [44, 45, 23, 98]],\n",
       "\n",
       "       [[42, 98, 37, 25],\n",
       "        [43, 46, 51, 82],\n",
       "        [53, 59, 39, 76],\n",
       "        [60, 75, 11, 81],\n",
       "        [33, 98, 51, 60]]])"
      ]
     },
     "execution_count": 5,
     "metadata": {},
     "output_type": "execute_result"
    }
   ],
   "source": [
    "# 高维数组的转置\n",
    "# 转置就是把轴序列任意两个索引值进行交换一次\n",
    "arr2 = np.random.randint(11,99,(3,5,4))\n",
    "arr2"
   ]
  },
  {
   "cell_type": "code",
   "execution_count": 6,
   "metadata": {},
   "outputs": [
    {
     "data": {
      "text/plain": [
       "(3, 5, 4)"
      ]
     },
     "execution_count": 6,
     "metadata": {},
     "output_type": "execute_result"
    }
   ],
   "source": [
    "# 返回的轴序列就是shape返回的索引编号序列0，1，2\n",
    "arr2.shape"
   ]
  },
  {
   "cell_type": "code",
   "execution_count": 8,
   "metadata": {},
   "outputs": [
    {
     "data": {
      "text/plain": [
       "array([[[28, 46, 42],\n",
       "        [61, 35, 43],\n",
       "        [46, 66, 53],\n",
       "        [46, 61, 60],\n",
       "        [76, 44, 33]],\n",
       "\n",
       "       [[19, 32, 98],\n",
       "        [32, 65, 46],\n",
       "        [87, 70, 59],\n",
       "        [62, 89, 75],\n",
       "        [49, 45, 98]],\n",
       "\n",
       "       [[29, 74, 37],\n",
       "        [31, 70, 51],\n",
       "        [46, 40, 39],\n",
       "        [43, 36, 11],\n",
       "        [60, 23, 51]],\n",
       "\n",
       "       [[47, 55, 25],\n",
       "        [53, 68, 82],\n",
       "        [25, 50, 76],\n",
       "        [44, 68, 81],\n",
       "        [72, 98, 60]]])"
      ]
     },
     "execution_count": 8,
     "metadata": {},
     "output_type": "execute_result"
    }
   ],
   "source": [
    "# 一次转置和二次转置，造成数据的外形发生改变和，每个元素的索引改变\n",
    "# (0,1,2) -->(2,1,0) 元素的坐标也将随着转置规律发生改变\n",
    "# 全转置倒叙转置\n",
    "# 四维数组shape的索引序号序列的为0，1，2，3\n",
    "arr2.transpose(2,1,0)"
   ]
  },
  {
   "cell_type": "markdown",
   "metadata": {},
   "source": [
    "### 一元常用函数"
   ]
  },
  {
   "cell_type": "code",
   "execution_count": 12,
   "metadata": {},
   "outputs": [
    {
     "data": {
      "text/plain": [
       "array([[30, 36, 14, 52],\n",
       "       [27, 59, 52, 29],\n",
       "       [43, 32, 19,  9],\n",
       "       [31, 47, 33, 34]])"
      ]
     },
     "execution_count": 12,
     "metadata": {},
     "output_type": "execute_result"
    }
   ],
   "source": [
    "arr1 = np.random.randint(9,63,(4,4))\n",
    "arr1"
   ]
  },
  {
   "cell_type": "code",
   "execution_count": 13,
   "metadata": {},
   "outputs": [
    {
     "data": {
      "text/plain": [
       "array([[5.47722558, 6.        , 3.74165739, 7.21110255],\n",
       "       [5.19615242, 7.68114575, 7.21110255, 5.38516481],\n",
       "       [6.55743852, 5.65685425, 4.35889894, 3.        ],\n",
       "       [5.56776436, 6.8556546 , 5.74456265, 5.83095189]])"
      ]
     },
     "execution_count": 13,
     "metadata": {},
     "output_type": "execute_result"
    }
   ],
   "source": [
    "# 一元函数的开放\n",
    "np.sqrt(arr1)"
   ]
  },
  {
   "cell_type": "code",
   "execution_count": 14,
   "metadata": {},
   "outputs": [
    {
     "data": {
      "text/plain": [
       "array([[1.06864746e+13, 4.31123155e+15, 1.20260428e+06, 3.83100800e+22],\n",
       "       [5.32048241e+11, 4.20121040e+25, 3.83100800e+22, 3.93133430e+12],\n",
       "       [4.72783947e+18, 7.89629602e+13, 1.78482301e+08, 8.10308393e+03],\n",
       "       [2.90488497e+13, 2.58131289e+20, 2.14643580e+14, 5.83461743e+14]])"
      ]
     },
     "execution_count": 14,
     "metadata": {},
     "output_type": "execute_result"
    }
   ],
   "source": [
    "# 求exe^{x}e \n",
    "# 一元函数的exp函数\n",
    "np.exp(arr1)\n"
   ]
  },
  {
   "cell_type": "code",
   "execution_count": 16,
   "metadata": {},
   "outputs": [
    {
     "data": {
      "text/plain": [
       "array([[-8, -6, -8, -2],\n",
       "       [-6, -6, -5, -4],\n",
       "       [-6, -1, -7, -4],\n",
       "       [-3, -4, -3, -9]])"
      ]
     },
     "execution_count": 16,
     "metadata": {},
     "output_type": "execute_result"
    }
   ],
   "source": [
    "arr2 = np.random.randint(-9,0,(4,4))\n",
    "arr2"
   ]
  },
  {
   "cell_type": "code",
   "execution_count": 17,
   "metadata": {},
   "outputs": [
    {
     "data": {
      "text/plain": [
       "array([[8, 6, 8, 2],\n",
       "       [6, 6, 5, 4],\n",
       "       [6, 1, 7, 4],\n",
       "       [3, 4, 3, 9]])"
      ]
     },
     "execution_count": 17,
     "metadata": {},
     "output_type": "execute_result"
    }
   ],
   "source": [
    "# 取绝对值函数\n",
    "np.abs(arr2)"
   ]
  },
  {
   "cell_type": "code",
   "execution_count": 21,
   "metadata": {},
   "outputs": [
    {
     "data": {
      "text/plain": [
       "array([[ 3.25377894,  0.75639376, -3.05748816,  5.01044451],\n",
       "       [ 3.86146348,  3.47149915,  5.70410324,  4.82293748],\n",
       "       [ 0.24248089,  2.96878278,  0.60697835,  4.3994074 ],\n",
       "       [-0.7390649 ,  2.63796613, -0.44118209,  2.51835323]])"
      ]
     },
     "execution_count": 21,
     "metadata": {},
     "output_type": "execute_result"
    }
   ],
   "source": [
    "arr3 = np.random.normal(2,2.3,(4,4))\n",
    "arr3"
   ]
  },
  {
   "cell_type": "code",
   "execution_count": 22,
   "metadata": {},
   "outputs": [
    {
     "data": {
      "text/plain": [
       "array([[ 3.,  0., -4.,  5.],\n",
       "       [ 3.,  3.,  5.,  4.],\n",
       "       [ 0.,  2.,  0.,  4.],\n",
       "       [-1.,  2., -1.,  2.]])"
      ]
     },
     "execution_count": 22,
     "metadata": {},
     "output_type": "execute_result"
    }
   ],
   "source": [
    "# 向下取整函数\n",
    "np.floor(arr3)"
   ]
  },
  {
   "cell_type": "code",
   "execution_count": 23,
   "metadata": {},
   "outputs": [
    {
     "data": {
      "text/plain": [
       "array([[ 4.,  1., -3.,  6.],\n",
       "       [ 4.,  4.,  6.,  5.],\n",
       "       [ 1.,  3.,  1.,  5.],\n",
       "       [-0.,  3., -0.,  3.]])"
      ]
     },
     "execution_count": 23,
     "metadata": {},
     "output_type": "execute_result"
    }
   ],
   "source": [
    "# 向上取整ceil\n",
    "np.ceil(arr3)"
   ]
  },
  {
   "cell_type": "code",
   "execution_count": 24,
   "metadata": {},
   "outputs": [
    {
     "data": {
      "text/plain": [
       "array([[ 1.,  1., -1.,  1.],\n",
       "       [ 1.,  1.,  1.,  1.],\n",
       "       [ 1.,  1.,  1.,  1.],\n",
       "       [-1.,  1., -1.,  1.]])"
      ]
     },
     "execution_count": 24,
     "metadata": {},
     "output_type": "execute_result"
    }
   ],
   "source": [
    "# sign函数，正数返回+1，负数返回-1\n",
    "np.sign(arr3)"
   ]
  },
  {
   "cell_type": "markdown",
   "metadata": {},
   "source": [
    "### 二元函数"
   ]
  },
  {
   "cell_type": "code",
   "execution_count": 27,
   "metadata": {},
   "outputs": [
    {
     "data": {
      "text/plain": [
       "array([[27, 22, 16, 16],\n",
       "       [28,  9, 32, 30],\n",
       "       [34, 27, 20, 22],\n",
       "       [12, 29, 20, 33]])"
      ]
     },
     "execution_count": 27,
     "metadata": {},
     "output_type": "execute_result"
    }
   ],
   "source": [
    "# 比较两个数据集的大小，返回大值的函数maximum\n",
    "# 同理，minimum()函数，取出两个数据集中的最小值\n",
    "arr1 = np.random.randint(1,36,(4,4))\n",
    "arr2 = np.random.randint(1,36,(4,4))\n",
    "np.maximum(arr1,arr2)\n",
    "# np.minimum(arr1,arr2)"
   ]
  },
  {
   "cell_type": "code",
   "execution_count": 28,
   "metadata": {},
   "outputs": [
    {
     "data": {
      "text/plain": [
       "array([[0.66666667, 0.45454545, 0.9375    , 0.6875    ],\n",
       "       [0.21428571, 3.        , 0.5625    , 1.76470588],\n",
       "       [0.05882353, 0.66666667, 1.66666667, 0.04545455],\n",
       "       [6.        , 0.48275862, 2.        , 1.03125   ]])"
      ]
     },
     "execution_count": 28,
     "metadata": {},
     "output_type": "execute_result"
    }
   ],
   "source": [
    "# 加减乘除函数\n",
    "np.add(arr1,arr2)\n",
    "np.subtract(arr1,arr2)\n",
    "np.multiply(arr1,arr2)\n",
    "np.divide(arr1,arr2)\n",
    "# 以参数1为底，参数2为幂,要避免值的溢出\n",
    "np.power(arr1,arr2)"
   ]
  },
  {
   "cell_type": "markdown",
   "metadata": {},
   "source": [
    "#### 产生一个坐标群"
   ]
  },
  {
   "cell_type": "code",
   "execution_count": 32,
   "metadata": {},
   "outputs": [
    {
     "name": "stdout",
     "output_type": "stream",
     "text": [
      "[-3 -2 -1  0  1  2  3]\n",
      "[-2 -1  0  1  2  3  4]\n"
     ]
    }
   ],
   "source": [
    "# 产生一个坐标点\n",
    "x = np.arange(-3,4)\n",
    "y = np.arange(-2,5)\n",
    "print(x)\n",
    "print(y)"
   ]
  },
  {
   "cell_type": "code",
   "execution_count": 34,
   "metadata": {},
   "outputs": [
    {
     "name": "stdout",
     "output_type": "stream",
     "text": [
      "[[-3 -2 -1  0  1  2  3]\n",
      " [-3 -2 -1  0  1  2  3]\n",
      " [-3 -2 -1  0  1  2  3]\n",
      " [-3 -2 -1  0  1  2  3]\n",
      " [-3 -2 -1  0  1  2  3]\n",
      " [-3 -2 -1  0  1  2  3]\n",
      " [-3 -2 -1  0  1  2  3]]\n"
     ]
    },
    {
     "data": {
      "text/plain": [
       "array([[-2, -2, -2, -2, -2, -2, -2],\n",
       "       [-1, -1, -1, -1, -1, -1, -1],\n",
       "       [ 0,  0,  0,  0,  0,  0,  0],\n",
       "       [ 1,  1,  1,  1,  1,  1,  1],\n",
       "       [ 2,  2,  2,  2,  2,  2,  2],\n",
       "       [ 3,  3,  3,  3,  3,  3,  3],\n",
       "       [ 4,  4,  4,  4,  4,  4,  4]])"
      ]
     },
     "execution_count": 34,
     "metadata": {},
     "output_type": "execute_result"
    }
   ],
   "source": [
    "# 使用meshgrid()函数\n",
    "sx,sy = np.meshgrid(x,y)\n",
    "print(sx)\n",
    "sy"
   ]
  },
  {
   "cell_type": "code",
   "execution_count": 41,
   "metadata": {},
   "outputs": [
    {
     "data": {
      "text/plain": [
       "array([-3, -2, -1,  0,  1,  2,  3, -3, -2, -1,  0,  1,  2,  3, -3, -2, -1,\n",
       "        0,  1,  2,  3, -3, -2, -1,  0,  1,  2,  3, -3, -2, -1,  0,  1,  2,\n",
       "        3, -3, -2, -1,  0,  1,  2,  3, -3, -2, -1,  0,  1,  2,  3])"
      ]
     },
     "execution_count": 41,
     "metadata": {},
     "output_type": "execute_result"
    }
   ],
   "source": [
    "# 使用ravel()函数将两个数据集进行展开为一维数组\n",
    "np.ravel(sx)"
   ]
  },
  {
   "cell_type": "code",
   "execution_count": 46,
   "metadata": {},
   "outputs": [],
   "source": [
    "# 将两个数据集进行压缩\n",
    "res_zip = zip(np.ravel(sx),np.ravel(sy))\n",
    "# list(res_zip)"
   ]
  },
  {
   "cell_type": "code",
   "execution_count": 47,
   "metadata": {},
   "outputs": [],
   "source": [
    "# 写入csv\n",
    "import csv\n",
    "\n",
    "with open(\"dian.csv\",\"w\",newline=\"\",) as f_csv:\n",
    "    csv_w = csv.writer(f_csv)  # 生成一个写对象\n",
    "    for res_row in res_zip:\n",
    "        csv_w.writerow(res_row)"
   ]
  }
 ],
 "metadata": {
  "kernelspec": {
   "display_name": "Python 3",
   "language": "python",
   "name": "python3"
  },
  "language_info": {
   "codemirror_mode": {
    "name": "ipython",
    "version": 3
   },
   "file_extension": ".py",
   "mimetype": "text/x-python",
   "name": "python",
   "nbconvert_exporter": "python",
   "pygments_lexer": "ipython3",
   "version": "3.6.8"
  }
 },
 "nbformat": 4,
 "nbformat_minor": 2
}
