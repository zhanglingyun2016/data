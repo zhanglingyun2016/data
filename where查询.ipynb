{
 "cells": [
  {
   "cell_type": "code",
   "execution_count": 17,
   "metadata": {},
   "outputs": [
    {
     "data": {
      "text/plain": [
       "'整数'"
      ]
     },
     "execution_count": 17,
     "metadata": {},
     "output_type": "execute_result"
    }
   ],
   "source": [
    "import numpy as np\n",
    "\n",
    "a = 23 \n",
    "result = np.where([type(a)==int],\"整数\",\"浮点数\")\n",
    "result[0]\n"
   ]
  },
  {
   "cell_type": "code",
   "execution_count": 22,
   "metadata": {},
   "outputs": [
    {
     "data": {
      "text/plain": [
       "array([['1', 'second'],\n",
       "       ['张凌云', '木马']], dtype='<U11')"
      ]
     },
     "execution_count": 22,
     "metadata": {},
     "output_type": "execute_result"
    }
   ],
   "source": [
    "# 复杂array数组的筛选\n",
    "#                 相当于条件                 value1                             value2\n",
    "#          --------------------------  ========================== ------------------------------------\n",
    "result = np.where([[True,False],[True,False]],[[1,2],[\"张凌云\",\"王晓静\"]],[[\"first\",\"second\"],[\"嘬一口\",\"木马\"]])\n",
    "\n",
    "# result=》都是相对位置 【1，second】，【\"张凌云\",\"木马\"】\n",
    "result\n"
   ]
  },
  {
   "cell_type": "code",
   "execution_count": 23,
   "metadata": {},
   "outputs": [
    {
     "data": {
      "text/plain": [
       "(array([0, 1], dtype=int64), array([0, 0], dtype=int64))"
      ]
     },
     "execution_count": 23,
     "metadata": {},
     "output_type": "execute_result"
    }
   ],
   "source": [
    "\"\"\"\n",
    "如果没有后面的多余的值，将返回两个二维数组中拼凑起来true的下标的位置\n",
    "\"\"\"\n",
    "result = np.where([[True,False],[True,False]])\n",
    "#   array(0,1)  ,  array(0,0)\n",
    "result"
   ]
  },
  {
   "cell_type": "code",
   "execution_count": null,
   "metadata": {},
   "outputs": [],
   "source": []
  },
  {
   "cell_type": "code",
   "execution_count": 38,
   "metadata": {},
   "outputs": [
    {
     "data": {
      "text/plain": [
       "array([[5, 8, 6, 3, 3, 7],\n",
       "       [3, 5, 4, 4, 8, 4],\n",
       "       [3, 8, 5, 8, 7, 6],\n",
       "       [7, 3, 4, 6, 8, 4],\n",
       "       [6, 6, 6, 7, 8, 3],\n",
       "       [6, 7, 5, 6, 3, 3]])"
      ]
     },
     "execution_count": 38,
     "metadata": {},
     "output_type": "execute_result"
    }
   ],
   "source": [
    "np1 = np.random.randint(3,9,(6,6))\n",
    "np1"
   ]
  },
  {
   "cell_type": "code",
   "execution_count": 39,
   "metadata": {},
   "outputs": [
    {
     "data": {
      "text/plain": [
       "array([[False,  True, False,  True,  True, False],\n",
       "       [ True,  True,  True, False, False, False],\n",
       "       [False,  True,  True, False,  True,  True],\n",
       "       [ True,  True, False, False, False,  True],\n",
       "       [ True,  True,  True, False, False, False],\n",
       "       [False, False,  True,  True, False,  True]])"
      ]
     },
     "execution_count": 39,
     "metadata": {},
     "output_type": "execute_result"
    }
   ],
   "source": [
    "# 挑选出6乘6的二维数组中大于5的值得下标\n",
    "np1 = np.random.randint(3,9,(6,6))\n",
    "np1>5"
   ]
  },
  {
   "cell_type": "code",
   "execution_count": 40,
   "metadata": {},
   "outputs": [
    {
     "data": {
      "text/plain": [
       "(array([0, 0, 0, 1, 1, 1, 2, 2, 2, 2, 3, 3, 3, 4, 4, 4, 5, 5, 5],\n",
       "       dtype=int64),\n",
       " array([1, 3, 4, 0, 1, 2, 1, 2, 4, 5, 0, 1, 5, 0, 1, 2, 2, 3, 5],\n",
       "       dtype=int64))"
      ]
     },
     "execution_count": 40,
     "metadata": {},
     "output_type": "execute_result"
    }
   ],
   "source": [
    "# 生成 航与列相对位置合成的下标\n",
    "np.where(np1>5)  "
   ]
  },
  {
   "cell_type": "code",
   "execution_count": 42,
   "metadata": {},
   "outputs": [
    {
     "data": {
      "text/plain": [
       "array([['4', 'True', '5', 'True', 'True', '3'],\n",
       "       ['True', 'True', 'True', '5', '3', '3'],\n",
       "       ['3', 'True', 'True', '3', 'True', 'True'],\n",
       "       ['True', 'True', '3', '3', '3', 'True'],\n",
       "       ['True', 'True', 'True', '3', '3', '3'],\n",
       "       ['4', '4', 'True', 'True', '3', 'True']], dtype='<U11')"
      ]
     },
     "execution_count": 42,
     "metadata": {},
     "output_type": "execute_result"
    }
   ],
   "source": [
    "# 大于5的设置为True，小于5的为原始值\n",
    "np.where(np1>5,\"True\",np1) "
   ]
  },
  {
   "cell_type": "code",
   "execution_count": 47,
   "metadata": {},
   "outputs": [
    {
     "name": "stdout",
     "output_type": "stream",
     "text": [
      "[[63 85 49 92]\n",
      " [62 43 27 91]\n",
      " [89 19 22 78]\n",
      " [ 4 26 57  4]\n",
      " [26 15 32 76]\n",
      " [84 59 65 82]]\n",
      "[array([63, 62, 89,  4, 26, 84]), array([85, 43, 19, 26, 15, 59]), array([49, 27, 22, 57, 32, 65]), array([92, 91, 78,  4, 76, 82])]\n"
     ]
    }
   ],
   "source": [
    "# np.column_stac 函数进行行列转换\n",
    "np3 = [np.random.randint(2,99,6) for i in range(4)]\n",
    "np2 = np.column_stack(np3)\n",
    "print(np2)\n",
    "print(np3)"
   ]
  },
  {
   "cell_type": "code",
   "execution_count": 69,
   "metadata": {},
   "outputs": [
    {
     "data": {
      "text/plain": [
       "False"
      ]
     },
     "execution_count": 69,
     "metadata": {},
     "output_type": "execute_result"
    }
   ],
   "source": [
    "import numpy as np \n",
    "\n",
    "np1 = np.random.randint(-12,24,(5000,6))\n",
    "# # result = np.shape(np1)\n",
    "# print(result)\n",
    "# print(np1)\n",
    "# np1[:,1]   #第一行的所有列\n",
    "\n",
    "bool_ = np1[:,0] == -80\n",
    "bool_.any()\n"
   ]
  }
 ],
 "metadata": {
  "kernelspec": {
   "display_name": "Python 3",
   "language": "python",
   "name": "python3"
  },
  "language_info": {
   "codemirror_mode": {
    "name": "ipython",
    "version": 3
   },
   "file_extension": ".py",
   "mimetype": "text/x-python",
   "name": "python",
   "nbconvert_exporter": "python",
   "pygments_lexer": "ipython3",
   "version": "3.6.8"
  }
 },
 "nbformat": 4,
 "nbformat_minor": 2
}
