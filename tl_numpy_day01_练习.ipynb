{
 "cells": [
  {
   "cell_type": "code",
   "execution_count": 2,
   "metadata": {},
   "outputs": [],
   "source": [
    "import numpy as np"
   ]
  },
  {
   "cell_type": "code",
   "execution_count": 4,
   "metadata": {},
   "outputs": [
    {
     "data": {
      "text/plain": [
       "array([ 4,  9, 16, 25, 36, 49, 64, 81])"
      ]
     },
     "execution_count": 4,
     "metadata": {},
     "output_type": "execute_result"
    }
   ],
   "source": [
    "# 用列表推导式创建一维数组\n",
    "arr1 = np.array([i**2 for i in range(2,10)])\n",
    "arr1"
   ]
  },
  {
   "cell_type": "code",
   "execution_count": 6,
   "metadata": {},
   "outputs": [
    {
     "data": {
      "text/plain": [
       "[array([ 4,  9, 16, 25, 36, 49, 64, 81]),\n",
       " array([ 5, 10, 17, 26, 37, 50, 65, 82]),\n",
       " array([ 6, 11, 18, 27, 38, 51, 66, 83]),\n",
       " array([ 7, 12, 19, 28, 39, 52, 67, 84]),\n",
       " array([ 8, 13, 20, 29, 40, 53, 68, 85])]"
      ]
     },
     "execution_count": 6,
     "metadata": {},
     "output_type": "execute_result"
    }
   ],
   "source": [
    "arr3 = [np.array([i**2+j for i in range(2,10)])for j in range(5)]\n",
    "arr3"
   ]
  },
  {
   "cell_type": "code",
   "execution_count": 7,
   "metadata": {},
   "outputs": [
    {
     "data": {
      "text/plain": [
       "array([[ 4,  9, 16, 25, 36, 49, 64, 81],\n",
       "       [ 5, 10, 17, 26, 37, 50, 65, 82],\n",
       "       [ 6, 11, 18, 27, 38, 51, 66, 83],\n",
       "       [ 7, 12, 19, 28, 39, 52, 67, 84],\n",
       "       [ 8, 13, 20, 29, 40, 53, 68, 85]])"
      ]
     },
     "execution_count": 7,
     "metadata": {},
     "output_type": "execute_result"
    }
   ],
   "source": [
    "# 生成二维数组\n",
    "arr4 = np.array([np.array([i**2+j for i in range(2,10)])for j in range(5)])\n",
    "arr4"
   ]
  },
  {
   "cell_type": "code",
   "execution_count": 12,
   "metadata": {},
   "outputs": [
    {
     "name": "stdout",
     "output_type": "stream",
     "text": [
      "[3 5 7 2 4 4 4 6 3 4]\n"
     ]
    },
    {
     "data": {
      "text/plain": [
       "(array([ 0.14112001, -0.95892427,  0.6569866 ,  0.90929743, -0.7568025 ,\n",
       "        -0.7568025 , -0.7568025 , -0.2794155 ,  0.14112001, -0.7568025 ]),\n",
       " array([-0.9899925 ,  0.28366219,  0.75390225, -0.41614684, -0.65364362,\n",
       "        -0.65364362, -0.65364362,  0.96017029, -0.9899925 , -0.65364362]))"
      ]
     },
     "execution_count": 12,
     "metadata": {},
     "output_type": "execute_result"
    }
   ],
   "source": [
    "# 用一维数组创建三角函数\n",
    "arr5 = np.random.randint(2,10,10)\n",
    "print(arr5)\n",
    "np.sin(arr5),np.cos(arr5)"
   ]
  },
  {
   "cell_type": "code",
   "execution_count": 36,
   "metadata": {},
   "outputs": [
    {
     "name": "stdout",
     "output_type": "stream",
     "text": [
      "[-4.         -3.11111111 -2.22222222 -1.33333333 -0.44444444  0.44444444\n",
      "  1.33333333  2.22222222  3.11111111  4.        ]\n",
      "----------------------------------------------------------------------\n",
      "[ 12.10883992  -0.29498554  -3.92701263  -1.7278896   -0.08492965\n",
      "   0.08492965   1.7278896    3.92701263   0.29498554 -12.10883992]\n",
      "----------------------------------------------------------------------\n"
     ]
    },
    {
     "data": {
      "text/plain": [
       "[(-4.0, 12.108839924926851),\n",
       " (-3.111111111111111, -0.29498554130218946),\n",
       " (-2.2222222222222223, -3.927012627274317),\n",
       " (-1.3333333333333335, -1.7278896024236676),\n",
       " (-0.44444444444444464, -0.08492965205498393),\n",
       " (0.44444444444444464, 0.08492965205498393),\n",
       " (1.333333333333333, 1.7278896024236663),\n",
       " (2.2222222222222214, 3.9270126272743164),\n",
       " (3.1111111111111107, 0.2949855413021937),\n",
       " (4.0, -12.108839924926851)]"
      ]
     },
     "execution_count": 36,
     "metadata": {},
     "output_type": "execute_result"
    }
   ],
   "source": [
    "import csv\n",
    "\n",
    "x = np.linspace(-4,4,10)\n",
    "f = lambda x:x**2*np.sin(x)\n",
    "# np.savetext(\"lab.csv\",(x,f(x)),delimiter=\",\")\n",
    "print(x)\n",
    "print(\"-\"*70)\n",
    "print(f(x))\n",
    "print(\"-\"*70)\n",
    "\n",
    "# x数组和f()函数数组进行压缩,生成元组（x,f(y)）\n",
    "data_zip = list(zip(x,f(x)))\n",
    "data_zip"
   ]
  },
  {
   "cell_type": "code",
   "execution_count": 39,
   "metadata": {},
   "outputs": [],
   "source": [
    "# 写入csv文件中 \n",
    "# newline参数，不让空行\n",
    "with open(\"data.csv\",\"w\",newline=\"\",) as f_csv:\n",
    "    csv_w = csv.writer(f_csv)  # 生成一个写对象\n",
    "    for data_row in data_zip:\n",
    "        csv_w.writerow(data_row)"
   ]
  },
  {
   "cell_type": "code",
   "execution_count": null,
   "metadata": {},
   "outputs": [],
   "source": [
    "# 打开music包中的data.csv文件，点击插入，生成散点图"
   ]
  },
  {
   "cell_type": "code",
   "execution_count": 46,
   "metadata": {},
   "outputs": [
    {
     "data": {
      "text/plain": [
       "array([0.82474227, 0.02061856, 0.32989691, 0.50515464, 0.4742268 ,\n",
       "       0.77319588, 0.08247423, 0.18556701, 0.01030928, 0.01030928,\n",
       "       0.16494845, 0.22680412, 0.78350515, 0.18556701, 0.35051546,\n",
       "       0.6185567 , 0.44329897, 0.64948454, 0.79381443, 1.        ,\n",
       "       0.87628866, 0.12371134, 0.98969072, 0.74226804, 0.62886598,\n",
       "       0.73195876, 0.30927835, 0.09278351, 0.56701031, 0.21649485,\n",
       "       0.        , 0.71134021, 0.94845361, 0.03092784, 0.89690722,\n",
       "       0.75257732, 0.28865979, 0.18556701, 0.29896907, 0.06185567,\n",
       "       0.17525773, 0.20618557, 0.64948454, 0.28865979, 0.62886598,\n",
       "       1.        , 0.7628866 , 0.18556701, 0.90721649, 0.62886598])"
      ]
     },
     "execution_count": 46,
     "metadata": {},
     "output_type": "execute_result"
    }
   ],
   "source": [
    "# 生成一个随机数组，变成列表\n",
    "arr = np.random.randint(1,100,50)\n",
    "arr1 = arr.tolist()\n",
    "# 将数组的每一个元素减去列表的最小值，除以列表最大值减去最小值的差\n",
    "res = (arr-min(arr1))/(max(arr1)-min(arr1))\n",
    "res"
   ]
  },
  {
   "cell_type": "code",
   "execution_count": 50,
   "metadata": {},
   "outputs": [
    {
     "data": {
      "text/plain": [
       "[(3, 51),\n",
       " (4, 52),\n",
       " (5, 42),\n",
       " (6, 53),\n",
       " (7, 46),\n",
       " (8, 39),\n",
       " (9, 39),\n",
       " (10, 44),\n",
       " (11, 42),\n",
       " (12, 34),\n",
       " (13, 66),\n",
       " (14, 39),\n",
       " (15, 53)]"
      ]
     },
     "execution_count": 50,
     "metadata": {},
     "output_type": "execute_result"
    }
   ],
   "source": [
    "# 生成一个随机数组,并对数组元素进行计数，保存到csv中，进行画图\n",
    "arr1 = np.random.randint(3,16,600)\n",
    "data_index = [(index,arr1.tolist().count(index)) for index in set(arr1)]\n",
    "data_index"
   ]
  },
  {
   "cell_type": "code",
   "execution_count": 56,
   "metadata": {},
   "outputs": [],
   "source": [
    "# 保存csv文件中\n",
    "# csv文件中插入柱状图，漏斗筛选进行选择数据，序列一去掉进行编辑\n",
    "# 选中一行数据作为参数\n",
    "with open(\"data_index.csv\",\"w\",newline=\"\") as f_csv:\n",
    "    csv_w = csv.writer(f_csv)\n",
    "    for data1 in data_index:\n",
    "        csv_w.writerow(data1)"
   ]
  },
  {
   "cell_type": "markdown",
   "metadata": {},
   "source": [
    "# 二维数组创建"
   ]
  },
  {
   "cell_type": "code",
   "execution_count": 62,
   "metadata": {},
   "outputs": [
    {
     "data": {
      "text/plain": [
       "array([[12, 14, 63, 47],\n",
       "       [18, 19, 36, 45]])"
      ]
     },
     "execution_count": 62,
     "metadata": {},
     "output_type": "execute_result"
    }
   ],
   "source": [
    "# 通过嵌套列表和嵌套元组创建数组\n",
    "toup1 = ((12,14,63,47),(18,19,36,45))\n",
    "list1 = [[12,14,63,47],[18,19,36,45]]\n",
    "arr1 = np.array(list1)\n",
    "toup1 = np.array(toup1)\n",
    "arr1"
   ]
  },
  {
   "cell_type": "code",
   "execution_count": null,
   "metadata": {},
   "outputs": [],
   "source": [
    "# 线代数和python的维度定义是不同的"
   ]
  },
  {
   "cell_type": "code",
   "execution_count": 75,
   "metadata": {},
   "outputs": [
    {
     "name": "stdout",
     "output_type": "stream",
     "text": [
      "二维数组形状: (2, 4)\n",
      "二维数组的长度: 8\n",
      "维度: 2\n",
      "转为列表: [[12, 14, 63, 47], [18, 19, 36, 45]]\n",
      "长度为2个小数组\n",
      "类型为: int32\n"
     ]
    }
   ],
   "source": [
    "shap = arr1.shape  # 形状\n",
    "print(\"二维数组形状:\",shap)\n",
    "size = arr1.size\n",
    "print(\"二维数组的长度:\",size)\n",
    "ndim = arr1.ndim\n",
    "print(\"维度:\",ndim)\n",
    "list1 = arr1.tolist()\n",
    "print(\"转为列表:\",list1)\n",
    "length = len(arr1)\n",
    "print(\"长度为{}个小数组\".format(length))\n",
    "type1 = arr1.dtype\n",
    "print(\"类型为:\",type1)"
   ]
  },
  {
   "cell_type": "code",
   "execution_count": 77,
   "metadata": {},
   "outputs": [
    {
     "data": {
      "text/plain": [
       "array([[13,  8, 22, 15, 10,  9],\n",
       "       [15, 24, 17,  3, 22, 18],\n",
       "       [15,  7, 18,  9, 16, 17],\n",
       "       [ 2, 11, 22, 24, 18,  1]])"
      ]
     },
     "execution_count": 77,
     "metadata": {},
     "output_type": "execute_result"
    }
   ],
   "source": [
    "# 二维数组的自动创建\n",
    "# randint()函数创建，4乘6\n",
    "arr1 = np.random.randint(1,25,(4,6))\n",
    "arr1"
   ]
  },
  {
   "cell_type": "code",
   "execution_count": 85,
   "metadata": {},
   "outputs": [
    {
     "data": {
      "text/plain": [
       "array([[1. , 1.1, 1.2, 1.3, 1.4, 1.5, 1.6, 1.7, 1.8, 1.9],\n",
       "       [2. , 2.1, 2.2, 2.3, 2.4, 2.5, 2.6, 2.7, 2.8, 2.9],\n",
       "       [3. , 3.1, 3.2, 3.3, 3.4, 3.5, 3.6, 3.7, 3.8, 3.9],\n",
       "       [4. , 4.1, 4.2, 4.3, 4.4, 4.5, 4.6, 4.7, 4.8, 4.9],\n",
       "       [5. , 5.1, 5.2, 5.3, 5.4, 5.5, 5.6, 5.7, 5.8, 5.9]])"
      ]
     },
     "execution_count": 85,
     "metadata": {},
     "output_type": "execute_result"
    }
   ],
   "source": [
    "# arange()函数创建,步数为0.1\n",
    "arr2 = np.arange(1,6,0.1)\n",
    "res = arr2.reshape(5,10) # 进行维度重建\n",
    "res"
   ]
  },
  {
   "cell_type": "code",
   "execution_count": 89,
   "metadata": {},
   "outputs": [
    {
     "name": "stdout",
     "output_type": "stream",
     "text": [
      "[[18 15 13 31 22]\n",
      " [31 16 17  5 19]\n",
      " [ 2 23  3 11 14]]\n"
     ]
    },
    {
     "data": {
      "text/plain": [
       "array([18, 15, 13, 31, 22, 31, 16, 17,  5, 19,  2, 23,  3, 11, 14])"
      ]
     },
     "execution_count": 89,
     "metadata": {},
     "output_type": "execute_result"
    }
   ],
   "source": [
    "# 使用ravel函数进行拆分成一位数组\n",
    "arr3 = np.random.randint(2,34,(3,5))\n",
    "print(arr3)\n",
    "arr3.ravel()\n"
   ]
  },
  {
   "cell_type": "code",
   "execution_count": 97,
   "metadata": {},
   "outputs": [],
   "source": [
    "# 产生高维数组\n",
    "# 四个三维数组，一个三维数组中有5个二维数组，一个二维数组中有4x3数组\n",
    "arr3 = np.random.randint(3,35,(4,5,4,3))\n",
    "# arr3"
   ]
  },
  {
   "cell_type": "code",
   "execution_count": 100,
   "metadata": {},
   "outputs": [
    {
     "data": {
      "text/plain": [
       "array([1., 1., 1., 1., 1., 1.])"
      ]
     },
     "execution_count": 100,
     "metadata": {},
     "output_type": "execute_result"
    }
   ],
   "source": [
    "# 生成6个为1元素的数组\n",
    "np.ones(6)"
   ]
  },
  {
   "cell_type": "code",
   "execution_count": 101,
   "metadata": {},
   "outputs": [
    {
     "data": {
      "text/plain": [
       "array([[0., 0., 0., 0., 0., 0.],\n",
       "       [0., 0., 0., 0., 0., 0.],\n",
       "       [0., 0., 0., 0., 0., 0.],\n",
       "       [0., 0., 0., 0., 0., 0.]])"
      ]
     },
     "execution_count": 101,
     "metadata": {},
     "output_type": "execute_result"
    }
   ],
   "source": [
    "# 生成二维数组的0元素\n",
    "np.zeros((4,6))"
   ]
  },
  {
   "cell_type": "code",
   "execution_count": 112,
   "metadata": {},
   "outputs": [
    {
     "data": {
      "text/plain": [
       "array([[ 0, 12, 11, 12, 12, 10,  9],\n",
       "       [ 0,  5, 13,  8, 13, 16, 22],\n",
       "       [ 0, 11, 11, 17, 10,  4, 17],\n",
       "       [ 0,  4, 12,  6, 13, 22,  6]])"
      ]
     },
     "execution_count": 112,
     "metadata": {},
     "output_type": "execute_result"
    }
   ],
   "source": [
    "# 在二维数组中添加一列元素,加入0\n",
    "arr2 = np.random.randint(3,25,(4,6))\n",
    "np.array([[0] + i  for i in arr2.tolist()])"
   ]
  },
  {
   "cell_type": "code",
   "execution_count": 115,
   "metadata": {},
   "outputs": [
    {
     "data": {
      "text/plain": [
       "array([[1., 0., 0., 0., 0., 0.],\n",
       "       [0., 1., 0., 0., 0., 0.],\n",
       "       [0., 0., 1., 0., 0., 0.],\n",
       "       [0., 0., 0., 1., 0., 0.],\n",
       "       [0., 0., 0., 0., 1., 0.],\n",
       "       [0., 0., 0., 0., 0., 1.]])"
      ]
     },
     "execution_count": 115,
     "metadata": {},
     "output_type": "execute_result"
    }
   ],
   "source": [
    "# 单位数组，只有对角线才是1，其他都是0\n",
    "np.identity(6)"
   ]
  },
  {
   "cell_type": "code",
   "execution_count": 116,
   "metadata": {},
   "outputs": [
    {
     "data": {
      "text/plain": [
       "array([[22., 24., 14., 15.,  2.],\n",
       "       [26., 27., 23., 32., 29.],\n",
       "       [22., 32.,  4., 17., 15.]])"
      ]
     },
     "execution_count": 116,
     "metadata": {},
     "output_type": "execute_result"
    }
   ],
   "source": [
    "# 生成的数组，将int型转为float类型\n",
    "arr3 = np.random.randint(2,34,(3,5))\n",
    "arr3.astype(float)"
   ]
  },
  {
   "cell_type": "code",
   "execution_count": 120,
   "metadata": {},
   "outputs": [
    {
     "name": "stdout",
     "output_type": "stream",
     "text": [
      "[[0 0 0 0 0]\n",
      " [0 0 0 0 0]\n",
      " [0 0 0 0 0]]\n",
      "------------------------------\n",
      "[[1 1 1 1 1]\n",
      " [1 1 1 1 1]\n",
      " [1 1 1 1 1]]\n"
     ]
    }
   ],
   "source": [
    "# 根据维度形状产生0元素1元素的数组、\n",
    "res1 = np.zeros_like(arr3)\n",
    "res2 = np.ones_like(arr3)\n",
    "print(res1)\n",
    "print(\"-\"*30)\n",
    "print(res2)"
   ]
  },
  {
   "cell_type": "markdown",
   "metadata": {},
   "source": [
    "# 一维数组的水平拼接"
   ]
  },
  {
   "cell_type": "code",
   "execution_count": 126,
   "metadata": {},
   "outputs": [
    {
     "data": {
      "text/plain": [
       "array([12, 14, 19, 18, 12, 14, 18, 10, 13,  7, -9])"
      ]
     },
     "execution_count": 126,
     "metadata": {},
     "output_type": "execute_result"
    }
   ],
   "source": [
    "# 一维数组的水平拼接\n",
    "# hstack\n",
    "arr1 = np.random.randint(2,20,10)\n",
    "np.hstack((arr1,np.random.randint(-10,0,1)))"
   ]
  },
  {
   "cell_type": "code",
   "execution_count": 132,
   "metadata": {},
   "outputs": [
    {
     "data": {
      "text/plain": [
       "array([ 3,  2,  9, 15, 19, 17, 15, -4, -6, -8])"
      ]
     },
     "execution_count": 132,
     "metadata": {},
     "output_type": "execute_result"
    }
   ],
   "source": [
    "# 一维数组与一维数组的拼接\n",
    "arr1 = np.random.randint(2,20,7)\n",
    "arr2 = np.random.randint(-10,0,3)\n",
    "res = np.hstack((arr1,arr2))\n",
    "res"
   ]
  },
  {
   "cell_type": "markdown",
   "metadata": {},
   "source": [
    "### hstack行拼接"
   ]
  },
  {
   "cell_type": "code",
   "execution_count": 137,
   "metadata": {},
   "outputs": [
    {
     "name": "stdout",
     "output_type": "stream",
     "text": [
      "[[3 3 7]\n",
      " [4 4 4]\n",
      " [1 7 4]\n",
      " [7 9 2]\n",
      " [2 1 9]]\n",
      "[[-5 -6 -3 -2]\n",
      " [-1 -5 -5 -1]\n",
      " [-5 -3 -4 -7]\n",
      " [-5 -1 -8 -3]\n",
      " [-2 -2 -4 -9]]\n",
      "------------------------------\n"
     ]
    },
    {
     "data": {
      "text/plain": [
       "array([[ 3,  3,  7, -5, -6, -3, -2],\n",
       "       [ 4,  4,  4, -1, -5, -5, -1],\n",
       "       [ 1,  7,  4, -5, -3, -4, -7],\n",
       "       [ 7,  9,  2, -5, -1, -8, -3],\n",
       "       [ 2,  1,  9, -2, -2, -4, -9]])"
      ]
     },
     "execution_count": 137,
     "metadata": {},
     "output_type": "execute_result"
    }
   ],
   "source": [
    "# 二维数组与二维数组的拼接\n",
    "# 二维数组的拼接，行数要相等\n",
    "arr3 = np.random.randint(1,10,(5,3))\n",
    "arr4 = np.random.randint(-10,0,(5,4))\n",
    "print(arr3)\n",
    "print(arr4)\n",
    "print(\"-\"*30)\n",
    "np.hstack((arr3,arr4))"
   ]
  },
  {
   "cell_type": "code",
   "execution_count": 140,
   "metadata": {},
   "outputs": [
    {
     "name": "stdout",
     "output_type": "stream",
     "text": [
      "[16] [28]\n"
     ]
    },
    {
     "data": {
      "text/plain": [
       "array([44])"
      ]
     },
     "execution_count": 140,
     "metadata": {},
     "output_type": "execute_result"
    }
   ],
   "source": [
    "# 数组的合并\n",
    "arr1 = np.random.randint(12,32,1)\n",
    "arr2 = np.random.randint(12,32,1)\n",
    "print(arr1,arr2)\n",
    "arr1 + arr2"
   ]
  },
  {
   "cell_type": "markdown",
   "metadata": {},
   "source": [
    "### vstack列拼接"
   ]
  },
  {
   "cell_type": "code",
   "execution_count": 150,
   "metadata": {},
   "outputs": [
    {
     "name": "stdout",
     "output_type": "stream",
     "text": [
      "[6 7 6 6 9] [2 1 5 5 7]\n"
     ]
    },
    {
     "data": {
      "text/plain": [
       "array([[6, 7, 6, 6, 9],\n",
       "       [2, 1, 5, 5, 7]])"
      ]
     },
     "execution_count": 150,
     "metadata": {},
     "output_type": "execute_result"
    }
   ],
   "source": [
    "arr3 = np.random.randint(1,10,5)\n",
    "arr4 = np.random.randint(1,10,5)\n",
    "print(arr3,arr4)\n",
    "res = np.vstack((arr3,arr4))\n",
    "res"
   ]
  },
  {
   "cell_type": "code",
   "execution_count": 156,
   "metadata": {},
   "outputs": [
    {
     "name": "stderr",
     "output_type": "stream",
     "text": [
      "G:\\Anaconda1\\lib\\site-packages\\ipykernel_launcher.py:2: FutureWarning: arrays to stack must be passed as a \"sequence\" type such as list or tuple. Support for non-sequence iterables such as generators is deprecated as of NumPy 1.16 and will raise an error in the future.\n",
      "  \n"
     ]
    },
    {
     "data": {
      "text/plain": [
       "array([[19,  8,  9, 10, 30],\n",
       "       [33, 20, 27, 19,  7],\n",
       "       [ 6, 29, 32, 32, 13],\n",
       "       [32, 15,  2,  6, 25],\n",
       "       [30, 33, 25, 12,  5],\n",
       "       [24, 33,  1, 28, 18]])"
      ]
     },
     "execution_count": 156,
     "metadata": {},
     "output_type": "execute_result"
    }
   ],
   "source": [
    "# 多个数组进行拼接\n",
    "res = np.vstack(np.random.randint(1,36,(i,5))for i in range(1,4))\n",
    "res"
   ]
  },
  {
   "cell_type": "code",
   "execution_count": 160,
   "metadata": {},
   "outputs": [
    {
     "name": "stdout",
     "output_type": "stream",
     "text": [
      "[1 7 6 2 6] [1 3 1 1 5]\n"
     ]
    },
    {
     "data": {
      "text/plain": [
       "60"
      ]
     },
     "execution_count": 160,
     "metadata": {},
     "output_type": "execute_result"
    }
   ],
   "source": [
    "# 两个数组相乘,在求和\n",
    "# 内积计算\n",
    "arr3 = np.random.randint(1,10,5)\n",
    "arr4 = np.random.randint(1,10,5)\n",
    "print(arr3,arr4)\n",
    "res = sum(arr3*arr4)\n",
    "res"
   ]
  },
  {
   "cell_type": "code",
   "execution_count": 161,
   "metadata": {},
   "outputs": [
    {
     "data": {
      "text/plain": [
       "60"
      ]
     },
     "execution_count": 161,
     "metadata": {},
     "output_type": "execute_result"
    }
   ],
   "source": [
    "# 计算内积函数和\n",
    "# 计算内积函数和\n",
    "np.dot(arr3,arr4)"
   ]
  },
  {
   "cell_type": "code",
   "execution_count": 166,
   "metadata": {},
   "outputs": [
    {
     "data": {
      "text/plain": [
       "array([[ 6.2 ,  8.93,  2.07,  1.8 ],\n",
       "       [-0.66,  5.72,  2.19,  8.85],\n",
       "       [11.83,  2.94,  1.96,  2.28],\n",
       "       [ 1.4 , 10.69,  2.65,  9.59]])"
      ]
     },
     "execution_count": 166,
     "metadata": {},
     "output_type": "execute_result"
    }
   ],
   "source": [
    "# numpy.random.normal(loc=0.0, scale=1.0, size=None)\n",
    "# 此概率分布的标准差（对应于分布的宽度，scale越大越矮胖，scale越小，越瘦高）\n",
    "arr1 = np.random.normal(6,5.3,(4,4))\n",
    "# 保留两位小数\n",
    "res = np.round(arr1,2)  \n",
    "res\n"
   ]
  },
  {
   "cell_type": "code",
   "execution_count": 167,
   "metadata": {},
   "outputs": [
    {
     "data": {
      "text/plain": [
       "array([[ 6,  8,  2,  1],\n",
       "       [ 0,  5,  2,  8],\n",
       "       [11,  2,  1,  2],\n",
       "       [ 1, 10,  2,  9]])"
      ]
     },
     "execution_count": 167,
     "metadata": {},
     "output_type": "execute_result"
    }
   ],
   "source": [
    "# 通过astype()改变数组的数据类型\n",
    "res.astype(int)"
   ]
  },
  {
   "cell_type": "code",
   "execution_count": 168,
   "metadata": {},
   "outputs": [
    {
     "data": {
      "text/plain": [
       "array([['6.2', '8.93', '2.07', '1.8'],\n",
       "       ['-0.66', '5.72', '2.19', '8.85'],\n",
       "       ['11.83', '2.94', '1.96', '2.28'],\n",
       "       ['1.4', '10.69', '2.65', '9.59']], dtype='<U5')"
      ]
     },
     "execution_count": 168,
     "metadata": {},
     "output_type": "execute_result"
    }
   ],
   "source": [
    "# 通过dtype()改变数据类型\n",
    "np.array(res.tolist(),dtype=str)"
   ]
  }
 ],
 "metadata": {
  "kernelspec": {
   "display_name": "Python 3",
   "language": "python",
   "name": "python3"
  },
  "language_info": {
   "codemirror_mode": {
    "name": "ipython",
    "version": 3
   },
   "file_extension": ".py",
   "mimetype": "text/x-python",
   "name": "python",
   "nbconvert_exporter": "python",
   "pygments_lexer": "ipython3",
   "version": "3.6.8"
  }
 },
 "nbformat": 4,
 "nbformat_minor": 2
}
