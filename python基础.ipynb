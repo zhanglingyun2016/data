{
 "cells": [
  {
   "cell_type": "markdown",
   "metadata": {},
   "source": [
    "# 练习"
   ]
  },
  {
   "cell_type": "code",
   "execution_count": 76,
   "metadata": {},
   "outputs": [
    {
     "name": "stdout",
     "output_type": "stream",
     "text": [
      "键盘启动了.....\n",
      "可以单击鼠标了....\n"
     ]
    }
   ],
   "source": [
    "# 面向对象 --- 多态\n",
    "\n",
    "\"\"\"\n",
    "调用实例化的对象obj11的usb函数时，传入不同的对象\n",
    "\"\"\"\n",
    "class computer(object):\n",
    "    def usb(self,obj):\n",
    "        obj.start()\n",
    "\n",
    "class jianpan(object):\n",
    "    def start(self):\n",
    "        print(\"键盘启动了.....\")\n",
    "\n",
    "class shubiao(object):\n",
    "    def start(self):\n",
    "        print(\"可以单击鼠标了....\")\n",
    "\n",
    "\n",
    "obj11 = computer()\n",
    "j = jianpan()\n",
    "s = shubiao()\n",
    "obj11.usb(j)\n",
    "obj11.usb(s)\n",
    "        \n",
    "        "
   ]
  },
  {
   "cell_type": "code",
   "execution_count": 15,
   "metadata": {},
   "outputs": [
    {
     "name": "stdout",
     "output_type": "stream",
     "text": [
      "实现了php代码的开发....\n"
     ]
    }
   ],
   "source": [
    "# 抽象类是一个特殊的类\n",
    "\"\"\"\n",
    "1.抽象类不能用，不能直接实例化一个对象\n",
    "2.抽象类包含了抽象方法，抽象方法就是没有实现代码的方法\n",
    "3.抽象类需要子类继承，并重写父类的抽象方法，才可以使用\n",
    "\"\"\"\n",
    "\n",
    "import abc\n",
    "\n",
    "class writeCode(metaclass=abc.ABCMeta):\n",
    "    # 需要抽象的方法，需要用装饰器进行装饰\n",
    "    @abc.abstractmethod\n",
    "    def write_php(self):\n",
    "        pass\n",
    "    \n",
    "    def write_python(self):\n",
    "        print(\"实现了python代码的开发.....\")\n",
    "    \n",
    "    def write_java(self):\n",
    "        print(\"实现了java代码的开发....\")\n",
    "    \n",
    "\n",
    "\n",
    "# wr = writeCode()\n",
    "# wr.write_java()\n",
    "\n",
    "\n",
    "#子类继承并且重写父类的抽象方法\n",
    "class code(writeCode):      \n",
    "    def write_php(self):  #进行重写\n",
    "        print(\"实现了php代码的开发....\")\n",
    "\n",
    "c = code()   \n",
    "c.write_php()\n",
    "        \n",
    "        \n",
    "        "
   ]
  },
  {
   "cell_type": "code",
   "execution_count": 16,
   "metadata": {},
   "outputs": [],
   "source": [
    "# 面向对象-高阶方法\n",
    "# 装饰器是给函数进行装饰，为了不改变函数的调用和代码的情况下进行添加新的功能...\n",
    "\n",
    "class person(object):\n",
    "    \n",
    "    #普通类方法\n",
    "    def func1(self):\n",
    "        #使用对象调用func1\n",
    "        print(\"我是普通的类方法.....\")\n",
    "        \n",
    "    #绑定类方法\n",
    "    @classmethod\n",
    "    def func2():\n",
    "        #绑定方法只能通过类名调用\n",
    "        print(\"我是绑定类方法.....\")\n",
    "    \n",
    "    #静态方法 \n",
    "    @staticmethod\n",
    "    def func3():\n",
    "        #静态方法只能通过类名调用\n",
    "        print(\"我是静态方法.....\")\n",
    "    \n",
    "# p = person()\n",
    "# p.func1()\n",
    "# person.func2()\n",
    "# person.func3()\n"
   ]
  },
  {
   "cell_type": "code",
   "execution_count": 73,
   "metadata": {},
   "outputs": [
    {
     "name": "stdout",
     "output_type": "stream",
     "text": [
      "我是内部函数1....\n",
      "我是一个原有的函数.....\n",
      "我是内部函数2....\n"
     ]
    }
   ],
   "source": [
    "#装饰器例子\n",
    "# 装饰器是给函数进行装饰，为了不改变函数的调用和代码的情况下进行添加新的功能...\n",
    "\n",
    "def outer(func1):\n",
    "    def inner():\n",
    "        print(\"我是内部函数1....\")\n",
    "        func1()\n",
    "        print(\"我是内部函数2....\")\n",
    "    return inner\n",
    "\n",
    "\n",
    "@outer  #使用装饰器将调入outer函数，将old函数作为参数传入进入 old = outer(old) 将可以直接省去\n",
    "def old():\n",
    "    print(\"我是一个原有的函数.....\")\n",
    "\n",
    "# old = outer(old)   #将old（）函数作为一个参数传入outer中\n",
    "old()\n",
    "\n",
    "\n",
    "\n",
    "\n"
   ]
  },
  {
   "cell_type": "code",
   "execution_count": 43,
   "metadata": {},
   "outputs": [
    {
     "name": "stdout",
     "output_type": "stream",
     "text": [
      "0  1  2  3  4  5  6  7  8  9  程序所执行的时间为： 241.2131496\n"
     ]
    }
   ],
   "source": [
    "# 装饰器的_例题二\n",
    "import time\n",
    "\n",
    "def outer(func1):\n",
    "    def inner():\n",
    "        start = time.perf_counter()  #开始执行时间\n",
    "        func1()\n",
    "        end = time.perf_counter()\n",
    "        over = end - start\n",
    "        print(f\"程序所执行的时间为：{over}\")\n",
    "    return inner\n",
    "\n",
    "\n",
    "@outer  #使用装饰器\n",
    "def old():\n",
    "    for i in range(10):\n",
    "        print(i,end=\"  \")\n",
    "        time.sleep(0.5)  #睡0.5s\n",
    "        \n",
    "        \n",
    "# c = outer(old)  #使用装饰器之前调用的办法\n",
    "c()     \n",
    "    \n",
    "        \n",
    "\n",
    "\n",
    "\n"
   ]
  },
  {
   "cell_type": "code",
   "execution_count": 56,
   "metadata": {},
   "outputs": [
    {
     "name": "stdout",
     "output_type": "stream",
     "text": [
      "我是内部函数3....\n",
      "我是内部函数1....\n",
      "约妹子.....5...\n",
      "我是内部函数2....\n",
      "我是内部函数4....\n"
     ]
    }
   ],
   "source": [
    "\"\"\"\n",
    "装饰器的_例题3  实现扩展功能\n",
    "为一个函数添加两个装饰器\n",
    "\n",
    "调用步骤：先近后远，然后在调用参数函数，紧接着剩余部分.....\n",
    "\"\"\"\n",
    "def outer(func1):\n",
    "    def inner():\n",
    "        print(\"我是内部函数1....\")\n",
    "        func1()\n",
    "        print(\"我是内部函数2....\")\n",
    "    return inner\n",
    "\n",
    "\n",
    "def kuozhan(func1):\n",
    "    def inner():\n",
    "        print(\"我是内部函数3....\")\n",
    "        func1()\n",
    "        print(\"我是内部函数4....\")\n",
    "    return inner\n",
    " \n",
    "@kuozhan  #使用双层装饰器\n",
    "@outer  #使用装饰器\n",
    "def old():\n",
    "    print(\"约妹子.....5...\")\n",
    "        \n",
    "# c = outer(old)  #使用装饰器之前调用的办法\n",
    "old()\n",
    "\n"
   ]
  },
  {
   "cell_type": "code",
   "execution_count": 61,
   "metadata": {},
   "outputs": [
    {
     "name": "stdout",
     "output_type": "stream",
     "text": [
      "添加王晓静的微信，进行邀约....\n",
      "和王晓静妹子畅谈人生.....\n",
      "和王晓静看一场午夜电影，进行.......\n"
     ]
    }
   ],
   "source": [
    "#装饰带有参数的函数\n",
    "\n",
    "def outer(func1):\n",
    "    def inner(param):\n",
    "        print(f\"添加{param}的微信，进行邀约....\")\n",
    "        func1(param)\n",
    "        print(f\"和{param}看一场午夜电影，进行.......\")\n",
    "        \n",
    "    return inner  #相当于调用了inner内部函数，需要将参数从内部函数传入，再到调用的函数中\n",
    "\n",
    "\n",
    "@outer #为lover有参函数进行添加装饰器\n",
    "def love(var1):\n",
    "    print(f\"和{var1}妹子畅谈人生.....\")\n",
    "\n",
    "love(\"王晓静\")\n",
    "\n",
    "\n"
   ]
  },
  {
   "cell_type": "code",
   "execution_count": 64,
   "metadata": {},
   "outputs": [
    {
     "name": "stdout",
     "output_type": "stream",
     "text": [
      "添加王晓静的微信，进行邀约....\n",
      "和王晓静妹子畅谈人生.....\n",
      "一起吃七块钱的麻辣烫,然后一起去压马路....\n",
      "和王晓静看一场午夜电影，进行.......\n"
     ]
    }
   ],
   "source": [
    "# 装饰带有多参数的函数 \n",
    "\n",
    "def outer(func1):\n",
    "    def inner(param1,param2):\n",
    "        print(f\"添加{param1}的微信，进行邀约....\")\n",
    "        func1(param1,param2)\n",
    "        print(f\"和{param1}看一场午夜电影，进行.......\")\n",
    "        \n",
    "    return inner  #相当于调用了inner内部函数，需要将参数从内部函数传入，再到调用的函数中\n",
    "\n",
    "\n",
    "@outer #为lover有参函数进行添加装饰器\n",
    "def love(param1,param2):\n",
    "    print(f\"和{param1}妹子畅谈人生.....\")\n",
    "    print(f\"一起吃{param2},然后一起去压马路....\")\n",
    "\n",
    "love(\"王晓静\",\"七块钱的麻辣烫\")\n",
    "\n"
   ]
  },
  {
   "cell_type": "code",
   "execution_count": 72,
   "metadata": {},
   "outputs": [
    {
     "name": "stdout",
     "output_type": "stream",
     "text": [
      "不需要添加微信，可以直接结婚了....\n",
      "畅谈人生.....\n"
     ]
    }
   ],
   "source": [
    "# 装饰器中带有参数\n",
    "\n",
    "def kuozhan(param):\n",
    "    def outer(func1):\n",
    "        def inner1():\n",
    "            print(\"王晓静愿意主动添加了微信....\")\n",
    "            func1()\n",
    "            \n",
    "        def inner2():\n",
    "            print(\"不需要添加微信，可以直接结婚了....\")\n",
    "            func1()\n",
    "            \n",
    "        if param == \"张凌云\":\n",
    "            \"\"\"\n",
    "            如果参数中的值和“张凌云”相同，则返回内部函数inner，然后在返回outer函数，\n",
    "            相当于直接调用了inner\n",
    "            \"\"\"\n",
    "            return inner2\n",
    "        else:\n",
    "            return inner1\n",
    "    return outer\n",
    "        \n",
    "@kuozhan(\"张凌云\")   #装饰器中带有参数\n",
    "def love():\n",
    "    print(\"畅谈人生.....\")\n",
    "        \n",
    "love()\n",
    "\n",
    "\n"
   ]
  },
  {
   "cell_type": "code",
   "execution_count": null,
   "metadata": {},
   "outputs": [],
   "source": [
    "# 使用装饰器装饰一个类...\n"
   ]
  },
  {
   "cell_type": "code",
   "execution_count": 79,
   "metadata": {},
   "outputs": [
    {
     "name": "stdout",
     "output_type": "stream",
     "text": [
      "invalid literal for int() with base 10: 'zhangLingYun'\n"
     ]
    }
   ],
   "source": [
    "# 异常处理\n",
    "\n",
    "num1 = \"123\"\n",
    "num2 = \"zhangLingYun\"\n",
    "\n",
    "try:\n",
    "    int(num2)\n",
    "    print(num2)\n",
    "except Exception as e:   #异常处理\n",
    "    print(e)\n",
    "\n",
    "\n"
   ]
  },
  {
   "cell_type": "code",
   "execution_count": null,
   "metadata": {},
   "outputs": [],
   "source": [
    "# 导入包和模块\n",
    "\"\"\"\n",
    "import 包.模块\n",
    "from 模块 import 内容\n",
    "from 包 import 模块\n",
    "from 包 import 模块.内容\n",
    "\n",
    "\"\"\"\n",
    "\n"
   ]
  }
 ],
 "metadata": {
  "kernelspec": {
   "display_name": "Python 3",
   "language": "python",
   "name": "python3"
  },
  "language_info": {
   "codemirror_mode": {
    "name": "ipython",
    "version": 3
   },
   "file_extension": ".py",
   "mimetype": "text/x-python",
   "name": "python",
   "nbconvert_exporter": "python",
   "pygments_lexer": "ipython3",
   "version": "3.6.8"
  }
 },
 "nbformat": 4,
 "nbformat_minor": 2
}
