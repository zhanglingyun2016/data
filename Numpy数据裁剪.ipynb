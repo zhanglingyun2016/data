{
 "cells": [
  {
   "cell_type": "markdown",
   "metadata": {},
   "source": [
    "# Numpy数据裁剪"
   ]
  },
  {
   "cell_type": "code",
   "execution_count": 3,
   "metadata": {},
   "outputs": [
    {
     "name": "stdout",
     "output_type": "stream",
     "text": [
      "[17.00301984  9.31726837 23.48446829  1.77760919 23.29201749 22.47549087]\n"
     ]
    },
    {
     "data": {
      "text/plain": [
       "array([17.  ,  9.32, 23.48,  1.78, 23.29, 22.48])"
      ]
     },
     "execution_count": 3,
     "metadata": {},
     "output_type": "execute_result"
    }
   ],
   "source": [
    "import numpy as np\n",
    "\n",
    "# 生成随机小数uniform()函数\n",
    "arr1 = np.random.uniform(1,24,6)\n",
    "print(arr1)\n",
    "result = np.round(arr1,2)  #对数组进行设置小数位数\n",
    "result"
   ]
  },
  {
   "cell_type": "code",
   "execution_count": 14,
   "metadata": {},
   "outputs": [
    {
     "name": "stdout",
     "output_type": "stream",
     "text": [
      "[21.54  3.17 21.42  2.72  4.03  3.03]\n",
      "[10.35 13.42  1.4   9.07  9.95 20.72]\n"
     ]
    },
    {
     "data": {
      "text/plain": [
       "array([21.54,  3.17, 21.42,  2.72,  4.03,  3.03, 10.35, 13.42,  1.4 ,\n",
       "        9.07,  9.95, 20.72])"
      ]
     },
     "execution_count": 14,
     "metadata": {},
     "output_type": "execute_result"
    }
   ],
   "source": [
    "# numpy数据裁剪\n",
    "import numpy as np\n",
    "\n",
    "# hstack()  对两个一维数组进行头对尾的拼接\n",
    "res1 = np.random.uniform(1,24,6)\n",
    "re1 = np.round(res1,2)  #保留两位小数\n",
    "res2 = np.random.uniform(1,23,6)\n",
    "re2 = np.round(res2,2) \n",
    "print(re1)\n",
    "print(re2)\n",
    "\n",
    "result = np.hstack((re1,re2))\n",
    "result\n",
    "\n",
    "\n"
   ]
  },
  {
   "cell_type": "markdown",
   "metadata": {},
   "source": [
    "## 一维数组和二维数组的无法拼接"
   ]
  },
  {
   "cell_type": "code",
   "execution_count": 34,
   "metadata": {},
   "outputs": [
    {
     "name": "stdout",
     "output_type": "stream",
     "text": [
      "[[10.5 21.9 12.3  4.4]\n",
      " [12.6 12.8 12.4 17.3]\n",
      " [21.8 22.   8.6  3.5]]\n",
      "--------------------------------------------------\n",
      "[[ 6.  11.1 18.4 17.6]\n",
      " [17.4 16.4  6.9 11.2]\n",
      " [17.8 27.2 22.5 15.9]]\n"
     ]
    },
    {
     "data": {
      "text/plain": [
       "array([[10.5, 21.9, 12.3,  4.4,  6. , 11.1, 18.4, 17.6],\n",
       "       [12.6, 12.8, 12.4, 17.3, 17.4, 16.4,  6.9, 11.2],\n",
       "       [21.8, 22. ,  8.6,  3.5, 17.8, 27.2, 22.5, 15.9]])"
      ]
     },
     "execution_count": 34,
     "metadata": {},
     "output_type": "execute_result"
    }
   ],
   "source": [
    "# 两个二维数组的数据框拼接\n",
    "# 进行每一行的数据拼接\n",
    "# 行数必须相同\n",
    "\n",
    "arr1 = np.round(np.random.uniform(3,23,(3,4)),1)\n",
    "print(arr1)\n",
    "print(\"-\"*50)\n",
    "arr5 = np.round(np.random.uniform(6,29,(3,4)),1)\n",
    "print(arr5)\n",
    "\n",
    "result = np.hstack((arr1,arr5))\n",
    "result"
   ]
  },
  {
   "cell_type": "markdown",
   "metadata": {},
   "source": [
    "# vstack 纵向拼接"
   ]
  },
  {
   "cell_type": "code",
   "execution_count": 37,
   "metadata": {},
   "outputs": [
    {
     "name": "stdout",
     "output_type": "stream",
     "text": [
      "[23.66 10.35 13.39  3.92  5.31  3.09]\n",
      "[14.4  10.2  14.92 11.9   9.92  7.86]\n"
     ]
    },
    {
     "data": {
      "text/plain": [
       "array([[23.66, 10.35, 13.39,  3.92,  5.31,  3.09],\n",
       "       [14.4 , 10.2 , 14.92, 11.9 ,  9.92,  7.86]])"
      ]
     },
     "execution_count": 37,
     "metadata": {},
     "output_type": "execute_result"
    }
   ],
   "source": [
    "# 两个一维数组的拼接，数组的长度必须相同\n",
    "# 也可以实现多处拼接\n",
    "\n",
    "res1 = np.random.uniform(1,24,6)\n",
    "re1 = np.round(res1,2)  #保留两位小数\n",
    "res2 = np.random.uniform(1,23,6)\n",
    "re2 = np.round(res2,2) \n",
    "print(re1)\n",
    "print(re2)\n",
    "\n",
    "np.vstack((re1,re2))"
   ]
  },
  {
   "cell_type": "code",
   "execution_count": 46,
   "metadata": {},
   "outputs": [
    {
     "name": "stdout",
     "output_type": "stream",
     "text": [
      "[34 15  4 26 14  5]\n",
      "[[35.11 25.75 23.58 10.49 33.93 16.84]\n",
      " [35.15 20.23  3.79 30.28 30.83 19.96]]\n"
     ]
    },
    {
     "data": {
      "text/plain": [
       "array([[34.  , 15.  ,  4.  , 26.  , 14.  ,  5.  ],\n",
       "       [35.11, 25.75, 23.58, 10.49, 33.93, 16.84],\n",
       "       [35.15, 20.23,  3.79, 30.28, 30.83, 19.96]])"
      ]
     },
     "execution_count": 46,
     "metadata": {},
     "output_type": "execute_result"
    }
   ],
   "source": [
    "# 一组数组与二维数组进行vstack（）拼接\n",
    "# 一维与Erwin拼接必须长度相同\n",
    "\n",
    "import numpy as np\n",
    "\n",
    "ar1 = np.random.randint(2,36,6)\n",
    "print(ar1)\n",
    "ar2 = np.round(np.random.uniform(3,38,(2,6)),2)\n",
    "print(ar2)\n",
    "\n",
    "result = np.vstack((ar1,ar2))\n",
    "result\n"
   ]
  },
  {
   "cell_type": "code",
   "execution_count": 50,
   "metadata": {},
   "outputs": [
    {
     "name": "stdout",
     "output_type": "stream",
     "text": [
      "[[16.25 26.01 13.79  9.07  4.02 36.5 ]\n",
      " [32.77 19.63 15.76 14.18  8.27 27.84]]\n",
      "[[19.65 37.95 24.18  6.92 27.27 25.3 ]\n",
      " [18.93  8.06 12.25 30.18 14.58 35.74]]\n",
      "------------------------------\n"
     ]
    },
    {
     "data": {
      "text/plain": [
       "array([[16.25, 26.01, 13.79,  9.07,  4.02, 36.5 ],\n",
       "       [32.77, 19.63, 15.76, 14.18,  8.27, 27.84],\n",
       "       [19.65, 37.95, 24.18,  6.92, 27.27, 25.3 ],\n",
       "       [18.93,  8.06, 12.25, 30.18, 14.58, 35.74]])"
      ]
     },
     "execution_count": 50,
     "metadata": {},
     "output_type": "execute_result"
    }
   ],
   "source": [
    "# 两个二位数组的拼接\n",
    "# 将两个二位数组拼接成一个整体数组\n",
    "\n",
    "ar4 = np.round(np.random.uniform(3,38,(2,6)),2)\n",
    "ar3 = np.round(np.random.uniform(3,38,(2,6)),2)\n",
    "print(ar3)\n",
    "print(ar4)\n",
    "print(\"-\"*30)\n",
    "\n",
    "np.vstack((ar3,ar4))"
   ]
  },
  {
   "cell_type": "markdown",
   "metadata": {},
   "source": [
    "# concatenate()"
   ]
  },
  {
   "cell_type": "code",
   "execution_count": 4,
   "metadata": {},
   "outputs": [
    {
     "name": "stdout",
     "output_type": "stream",
     "text": [
      "[ 9 30 14  8 20]\n",
      "[44 21 25 18 35]\n",
      "------------------------------\n"
     ]
    },
    {
     "data": {
      "text/plain": [
       "array([ 9, 30, 14,  8, 20, 44, 21, 25, 18, 35])"
      ]
     },
     "execution_count": 4,
     "metadata": {},
     "output_type": "execute_result"
    }
   ],
   "source": [
    "# \n",
    "\n",
    "arr1 = np.random.randint(2,45,5)\n",
    "arr2 = np.random.randint(2,45,5)\n",
    "print(arr1)\n",
    "print(arr2)\n",
    "print(\"-\"*30)\n",
    "\n",
    "res = np.concatenate((arr1,arr2),axis=0)\n",
    "res\n"
   ]
  },
  {
   "cell_type": "code",
   "execution_count": 7,
   "metadata": {},
   "outputs": [
    {
     "data": {
      "text/plain": [
       "array([[43],\n",
       "       [52],\n",
       "       [32],\n",
       "       [51],\n",
       "       [37],\n",
       "       [36]])"
      ]
     },
     "execution_count": 7,
     "metadata": {},
     "output_type": "execute_result"
    }
   ],
   "source": [
    "arr = np.random.randint(32,56,6)\n",
    "\n",
    "arr1 = arr.reshape(6,1)  #将一维数组转为6行1列的二维数组\n",
    "arr1"
   ]
  },
  {
   "cell_type": "markdown",
   "metadata": {},
   "source": [
    "# column_stack() 和row_stack()"
   ]
  },
  {
   "cell_type": "code",
   "execution_count": 19,
   "metadata": {},
   "outputs": [
    {
     "name": "stdout",
     "output_type": "stream",
     "text": [
      "[[24  7 35 22 24]\n",
      " [22  4 34 15 17]\n",
      " [20 12 28  3 25]\n",
      " [10 18 30  8 13]\n",
      " [30 19 24 29  9]\n",
      " [ 4 18 34 31 13]]\n"
     ]
    },
    {
     "data": {
      "text/plain": [
       "[array([24, 22, 20, 10, 30,  4]),\n",
       " array([ 7,  4, 12, 18, 19, 18]),\n",
       " array([35, 34, 28, 30, 24, 34]),\n",
       " array([22, 15,  3,  8, 29, 31]),\n",
       " array([24, 17, 25, 13,  9, 13])]"
      ]
     },
     "execution_count": 19,
     "metadata": {},
     "output_type": "execute_result"
    }
   ],
   "source": [
    "# 一维与一维的拼接\n",
    "\n",
    "arr1 = [np.random.randint(3,36,6) for i in range(5)]\n",
    "\n",
    "result = np.column_stack(arr1)\n",
    "print(result)\n",
    "arr1"
   ]
  },
  {
   "cell_type": "code",
   "execution_count": 29,
   "metadata": {},
   "outputs": [
    {
     "name": "stdout",
     "output_type": "stream",
     "text": [
      "[[56 35 65 37 52 68]\n",
      " [68 65 61 52 61 53]\n",
      " [42 58 18 16 39 15]\n",
      " [55 67 19 22 62 46]\n",
      " [65 34 53 20 61 33]]\n",
      "[5028 6316 2943 4327 3909]\n"
     ]
    },
    {
     "data": {
      "text/plain": [
       "array([[  56,   35,   65,   37,   52,   68, 5028],\n",
       "       [  68,   65,   61,   52,   61,   53, 6316],\n",
       "       [  42,   58,   18,   16,   39,   15, 2943],\n",
       "       [  55,   67,   19,   22,   62,   46, 4327],\n",
       "       [  65,   34,   53,   20,   61,   33, 3909]])"
      ]
     },
     "execution_count": 29,
     "metadata": {},
     "output_type": "execute_result"
    }
   ],
   "source": [
    "# 二维和一维的拼接 column_stack()  只能是行行拼接\n",
    "\n",
    "arr1 = np.random.randint(12,69,(5,6))\n",
    "arr2 = np.random.randint(1000,9000,5)\n",
    "print(arr1)\n",
    "print(arr2)\n",
    "\n",
    "result = np.column_stack((arr1,arr2))\n",
    "result"
   ]
  },
  {
   "cell_type": "code",
   "execution_count": 32,
   "metadata": {},
   "outputs": [
    {
     "name": "stdout",
     "output_type": "stream",
     "text": [
      "[[33 48 40 64 30 28]\n",
      " [33 27 57 27 13 58]\n",
      " [16 65 66 56 37 13]\n",
      " [53 44 68 42 43 33]\n",
      " [52 30 64 13 53 34]]\n",
      "[5762 3192 4356 2100 1477 3253]\n"
     ]
    },
    {
     "data": {
      "text/plain": [
       "array([[  33,   48,   40,   64,   30,   28],\n",
       "       [  33,   27,   57,   27,   13,   58],\n",
       "       [  16,   65,   66,   56,   37,   13],\n",
       "       [  53,   44,   68,   42,   43,   33],\n",
       "       [  52,   30,   64,   13,   53,   34],\n",
       "       [5762, 3192, 4356, 2100, 1477, 3253]])"
      ]
     },
     "execution_count": 32,
     "metadata": {},
     "output_type": "execute_result"
    }
   ],
   "source": [
    "# 二维和一维的拼接 row_stack()  只能是列列拼接\n",
    "\n",
    "arr1 = np.random.randint(12,69,(5,6))\n",
    "arr2 = np.random.randint(1000,9000,6)\n",
    "print(arr1)\n",
    "print(arr2)\n",
    "\n",
    "res = np.row_stack((arr1,arr2))\n",
    "res"
   ]
  },
  {
   "cell_type": "markdown",
   "metadata": {},
   "source": [
    "# 数据框的分割 hsplit和vsplit"
   ]
  },
  {
   "cell_type": "code",
   "execution_count": 40,
   "metadata": {},
   "outputs": [
    {
     "data": {
      "text/plain": [
       "[array([[42, 66, 57, 33],\n",
       "        [61, 60, 56, 34],\n",
       "        [63, 63, 42, 51],\n",
       "        [64, 46, 52, 39]]), array([[53, 44, 49, 34],\n",
       "        [63, 48, 43, 54],\n",
       "        [55, 66, 55, 66],\n",
       "        [47, 61, 58, 54]])]"
      ]
     },
     "execution_count": 40,
     "metadata": {},
     "output_type": "execute_result"
    }
   ],
   "source": [
    "arr1 = np.random.randint(31,69,(4,8))\n",
    "\n",
    "np.hsplit(arr1,2)  #将arr1数据框垂直分割成两份，只能均分，需要被整除\n",
    "\n",
    "\n"
   ]
  },
  {
   "cell_type": "code",
   "execution_count": 43,
   "metadata": {},
   "outputs": [
    {
     "data": {
      "text/plain": [
       "[array([[42, 66, 57, 33, 53, 44, 49, 34],\n",
       "        [61, 60, 56, 34, 63, 48, 43, 54]]),\n",
       " array([[63, 63, 42, 51, 55, 66, 55, 66],\n",
       "        [64, 46, 52, 39, 47, 61, 58, 54]])]"
      ]
     },
     "execution_count": 43,
     "metadata": {},
     "output_type": "execute_result"
    }
   ],
   "source": [
    "# 将arr1水平切割成两份\n",
    "result = np.vsplit(arr1,2)\n",
    "result\n"
   ]
  },
  {
   "cell_type": "code",
   "execution_count": null,
   "metadata": {},
   "outputs": [],
   "source": [
    "# 数据框"
   ]
  },
  {
   "cell_type": "code",
   "execution_count": 52,
   "metadata": {},
   "outputs": [
    {
     "data": {
      "text/html": [
       "<div>\n",
       "<style scoped>\n",
       "    .dataframe tbody tr th:only-of-type {\n",
       "        vertical-align: middle;\n",
       "    }\n",
       "\n",
       "    .dataframe tbody tr th {\n",
       "        vertical-align: top;\n",
       "    }\n",
       "\n",
       "    .dataframe thead th {\n",
       "        text-align: right;\n",
       "    }\n",
       "</style>\n",
       "<table border=\"1\" class=\"dataframe\">\n",
       "  <thead>\n",
       "    <tr style=\"text-align: right;\">\n",
       "      <th></th>\n",
       "      <th>0</th>\n",
       "      <th>1</th>\n",
       "      <th>2</th>\n",
       "      <th>3</th>\n",
       "      <th>4</th>\n",
       "      <th>5</th>\n",
       "      <th>key1</th>\n",
       "      <th>key2</th>\n",
       "    </tr>\n",
       "  </thead>\n",
       "  <tbody>\n",
       "    <tr>\n",
       "      <th>0</th>\n",
       "      <td>43</td>\n",
       "      <td>25</td>\n",
       "      <td>67</td>\n",
       "      <td>19</td>\n",
       "      <td>53</td>\n",
       "      <td>56</td>\n",
       "      <td>a</td>\n",
       "      <td>m</td>\n",
       "    </tr>\n",
       "    <tr>\n",
       "      <th>1</th>\n",
       "      <td>64</td>\n",
       "      <td>34</td>\n",
       "      <td>32</td>\n",
       "      <td>33</td>\n",
       "      <td>59</td>\n",
       "      <td>52</td>\n",
       "      <td>b</td>\n",
       "      <td>n</td>\n",
       "    </tr>\n",
       "    <tr>\n",
       "      <th>2</th>\n",
       "      <td>16</td>\n",
       "      <td>13</td>\n",
       "      <td>48</td>\n",
       "      <td>65</td>\n",
       "      <td>43</td>\n",
       "      <td>54</td>\n",
       "      <td>c</td>\n",
       "      <td>b</td>\n",
       "    </tr>\n",
       "    <tr>\n",
       "      <th>3</th>\n",
       "      <td>14</td>\n",
       "      <td>41</td>\n",
       "      <td>26</td>\n",
       "      <td>33</td>\n",
       "      <td>36</td>\n",
       "      <td>15</td>\n",
       "      <td>d</td>\n",
       "      <td>v</td>\n",
       "    </tr>\n",
       "  </tbody>\n",
       "</table>\n",
       "</div>"
      ],
      "text/plain": [
       "    0   1   2   3   4   5 key1 key2\n",
       "0  43  25  67  19  53  56    a    m\n",
       "1  64  34  32  33  59  52    b    n\n",
       "2  16  13  48  65  43  54    c    b\n",
       "3  14  41  26  33  36  15    d    v"
      ]
     },
     "execution_count": 52,
     "metadata": {},
     "output_type": "execute_result"
    }
   ],
   "source": [
    "# \n",
    "import pandas as pd\n",
    "import numpy as np\n",
    "arr1 = pd.DataFrame(np.random.randint(12,69,(4,6)))\n",
    "\n",
    "arr1[\"key1\"] = list(\"abcd\")\n",
    "arr1[\"key2\"] = list(\"mnbv\")\n",
    "arr1\n"
   ]
  },
  {
   "cell_type": "code",
   "execution_count": 56,
   "metadata": {},
   "outputs": [
    {
     "data": {
      "text/html": [
       "<div>\n",
       "<style scoped>\n",
       "    .dataframe tbody tr th:only-of-type {\n",
       "        vertical-align: middle;\n",
       "    }\n",
       "\n",
       "    .dataframe tbody tr th {\n",
       "        vertical-align: top;\n",
       "    }\n",
       "\n",
       "    .dataframe thead th {\n",
       "        text-align: right;\n",
       "    }\n",
       "</style>\n",
       "<table border=\"1\" class=\"dataframe\">\n",
       "  <thead>\n",
       "    <tr style=\"text-align: right;\">\n",
       "      <th></th>\n",
       "      <th></th>\n",
       "      <th>0</th>\n",
       "      <th>1</th>\n",
       "      <th>2</th>\n",
       "      <th>3</th>\n",
       "      <th>4</th>\n",
       "      <th>5</th>\n",
       "    </tr>\n",
       "    <tr>\n",
       "      <th>key1</th>\n",
       "      <th>key2</th>\n",
       "      <th></th>\n",
       "      <th></th>\n",
       "      <th></th>\n",
       "      <th></th>\n",
       "      <th></th>\n",
       "      <th></th>\n",
       "    </tr>\n",
       "  </thead>\n",
       "  <tbody>\n",
       "    <tr>\n",
       "      <th>a</th>\n",
       "      <th>m</th>\n",
       "      <td>43</td>\n",
       "      <td>25</td>\n",
       "      <td>67</td>\n",
       "      <td>19</td>\n",
       "      <td>53</td>\n",
       "      <td>56</td>\n",
       "    </tr>\n",
       "    <tr>\n",
       "      <th>b</th>\n",
       "      <th>n</th>\n",
       "      <td>64</td>\n",
       "      <td>34</td>\n",
       "      <td>32</td>\n",
       "      <td>33</td>\n",
       "      <td>59</td>\n",
       "      <td>52</td>\n",
       "    </tr>\n",
       "    <tr>\n",
       "      <th>c</th>\n",
       "      <th>b</th>\n",
       "      <td>16</td>\n",
       "      <td>13</td>\n",
       "      <td>48</td>\n",
       "      <td>65</td>\n",
       "      <td>43</td>\n",
       "      <td>54</td>\n",
       "    </tr>\n",
       "    <tr>\n",
       "      <th>d</th>\n",
       "      <th>v</th>\n",
       "      <td>14</td>\n",
       "      <td>41</td>\n",
       "      <td>26</td>\n",
       "      <td>33</td>\n",
       "      <td>36</td>\n",
       "      <td>15</td>\n",
       "    </tr>\n",
       "  </tbody>\n",
       "</table>\n",
       "</div>"
      ],
      "text/plain": [
       "            0   1   2   3   4   5\n",
       "key1 key2                        \n",
       "a    m     43  25  67  19  53  56\n",
       "b    n     64  34  32  33  59  52\n",
       "c    b     16  13  48  65  43  54\n",
       "d    v     14  41  26  33  36  15"
      ]
     },
     "execution_count": 56,
     "metadata": {},
     "output_type": "execute_result"
    }
   ],
   "source": [
    "# 设置键列\n",
    "arr1.set_index([\"key1\",\"key2\"])\n",
    "\n"
   ]
  },
  {
   "cell_type": "markdown",
   "metadata": {},
   "source": [
    "# panel"
   ]
  },
  {
   "cell_type": "code",
   "execution_count": 65,
   "metadata": {},
   "outputs": [
    {
     "ename": "TypeError",
     "evalue": "object() takes no parameters",
     "output_type": "error",
     "traceback": [
      "\u001b[1;31m---------------------------------------------------------------------------\u001b[0m",
      "\u001b[1;31mTypeError\u001b[0m                                 Traceback (most recent call last)",
      "\u001b[1;32m<ipython-input-65-e0dd5c41f262>\u001b[0m in \u001b[0;36m<module>\u001b[1;34m\u001b[0m\n\u001b[0;32m      3\u001b[0m          \"C\":np.random.randint(12,399,(7,6))}\n\u001b[0;32m      4\u001b[0m \u001b[1;33m\u001b[0m\u001b[0m\n\u001b[1;32m----> 5\u001b[1;33m \u001b[0mnew1\u001b[0m \u001b[1;33m=\u001b[0m \u001b[0mpd\u001b[0m\u001b[1;33m.\u001b[0m\u001b[0mPanel\u001b[0m\u001b[1;33m(\u001b[0m\u001b[0mdict1\u001b[0m\u001b[1;33m)\u001b[0m\u001b[1;33m\u001b[0m\u001b[1;33m\u001b[0m\u001b[0m\n\u001b[0m",
      "\u001b[1;31mTypeError\u001b[0m: object() takes no parameters"
     ]
    }
   ],
   "source": [
    "dict1 = {\"A\":np.random.randint(12,399,(3,6)),\n",
    "         \"B\":np.random.randint(12,399,(4,8)),\n",
    "         \"C\":np.random.randint(12,399,(7,6))}\n",
    "\n",
    "new1 = pd.Panel(dict1)"
   ]
  },
  {
   "cell_type": "markdown",
   "metadata": {},
   "source": [
    "# 数据加载，存储，清理，转换，合并与重塑"
   ]
  },
  {
   "cell_type": "code",
   "execution_count": 68,
   "metadata": {},
   "outputs": [
    {
     "data": {
      "text/html": [
       "<div>\n",
       "<style scoped>\n",
       "    .dataframe tbody tr th:only-of-type {\n",
       "        vertical-align: middle;\n",
       "    }\n",
       "\n",
       "    .dataframe tbody tr th {\n",
       "        vertical-align: top;\n",
       "    }\n",
       "\n",
       "    .dataframe thead th {\n",
       "        text-align: right;\n",
       "    }\n",
       "</style>\n",
       "<table border=\"1\" class=\"dataframe\">\n",
       "  <thead>\n",
       "    <tr style=\"text-align: right;\">\n",
       "      <th></th>\n",
       "      <th>A1</th>\n",
       "      <th>B1</th>\n",
       "      <th>C1</th>\n",
       "      <th>D1</th>\n",
       "    </tr>\n",
       "  </thead>\n",
       "  <tbody>\n",
       "    <tr>\n",
       "      <th>0</th>\n",
       "      <td>12</td>\n",
       "      <td>34.0</td>\n",
       "      <td>33.0</td>\n",
       "      <td>ada</td>\n",
       "    </tr>\n",
       "    <tr>\n",
       "      <th>1</th>\n",
       "      <td>23</td>\n",
       "      <td>43.0</td>\n",
       "      <td>NaN</td>\n",
       "      <td>faes</td>\n",
       "    </tr>\n",
       "    <tr>\n",
       "      <th>2</th>\n",
       "      <td>44</td>\n",
       "      <td>55.0</td>\n",
       "      <td>55.0</td>\n",
       "      <td>da</td>\n",
       "    </tr>\n",
       "    <tr>\n",
       "      <th>3</th>\n",
       "      <td>12</td>\n",
       "      <td>NaN</td>\n",
       "      <td>33.0</td>\n",
       "      <td>dad</td>\n",
       "    </tr>\n",
       "  </tbody>\n",
       "</table>\n",
       "</div>"
      ],
      "text/plain": [
       "   A1    B1    C1    D1\n",
       "0  12  34.0  33.0   ada\n",
       "1  23  43.0   NaN  faes\n",
       "2  44  55.0  55.0    da\n",
       "3  12   NaN  33.0   dad"
      ]
     },
     "execution_count": 68,
     "metadata": {},
     "output_type": "execute_result"
    }
   ],
   "source": [
    "res = pd.read_csv(\"D:\\日用文件\\数据分析文档\\little.csv\")\n",
    "res\n"
   ]
  },
  {
   "cell_type": "code",
   "execution_count": 5,
   "metadata": {},
   "outputs": [
    {
     "data": {
      "text/html": [
       "<div>\n",
       "<style scoped>\n",
       "    .dataframe tbody tr th:only-of-type {\n",
       "        vertical-align: middle;\n",
       "    }\n",
       "\n",
       "    .dataframe tbody tr th {\n",
       "        vertical-align: top;\n",
       "    }\n",
       "\n",
       "    .dataframe thead th {\n",
       "        text-align: right;\n",
       "    }\n",
       "</style>\n",
       "<table border=\"1\" class=\"dataframe\">\n",
       "  <thead>\n",
       "    <tr style=\"text-align: right;\">\n",
       "      <th></th>\n",
       "      <th>A1</th>\n",
       "      <th>B1</th>\n",
       "      <th>C1</th>\n",
       "      <th>D1</th>\n",
       "    </tr>\n",
       "  </thead>\n",
       "  <tbody>\n",
       "    <tr>\n",
       "      <th>0</th>\n",
       "      <td>12</td>\n",
       "      <td>34.0</td>\n",
       "      <td>33.0</td>\n",
       "      <td>ada</td>\n",
       "    </tr>\n",
       "    <tr>\n",
       "      <th>1</th>\n",
       "      <td>23</td>\n",
       "      <td>43.0</td>\n",
       "      <td>NaN</td>\n",
       "      <td>faes</td>\n",
       "    </tr>\n",
       "    <tr>\n",
       "      <th>2</th>\n",
       "      <td>44</td>\n",
       "      <td>55.0</td>\n",
       "      <td>55.0</td>\n",
       "      <td>da</td>\n",
       "    </tr>\n",
       "    <tr>\n",
       "      <th>3</th>\n",
       "      <td>12</td>\n",
       "      <td>NaN</td>\n",
       "      <td>33.0</td>\n",
       "      <td>dad</td>\n",
       "    </tr>\n",
       "  </tbody>\n",
       "</table>\n",
       "</div>"
      ],
      "text/plain": [
       "   A1    B1    C1    D1\n",
       "0  12  34.0  33.0   ada\n",
       "1  23  43.0   NaN  faes\n",
       "2  44  55.0  55.0    da\n",
       "3  12   NaN  33.0   dad"
      ]
     },
     "execution_count": 5,
     "metadata": {},
     "output_type": "execute_result"
    }
   ],
   "source": [
    "import pandas as pd\n",
    "\n",
    "# read_table 可以读取text格式和csv格式的\n",
    "pd.read_table(\"D:\\日用文件\\数据分析文档\\little.csv\",sep = \",\")"
   ]
  },
  {
   "cell_type": "code",
   "execution_count": 7,
   "metadata": {},
   "outputs": [
    {
     "data": {
      "text/html": [
       "<div>\n",
       "<style scoped>\n",
       "    .dataframe tbody tr th:only-of-type {\n",
       "        vertical-align: middle;\n",
       "    }\n",
       "\n",
       "    .dataframe tbody tr th {\n",
       "        vertical-align: top;\n",
       "    }\n",
       "\n",
       "    .dataframe thead th {\n",
       "        text-align: right;\n",
       "    }\n",
       "</style>\n",
       "<table border=\"1\" class=\"dataframe\">\n",
       "  <thead>\n",
       "    <tr style=\"text-align: right;\">\n",
       "      <th></th>\n",
       "      <th>a</th>\n",
       "      <th>b</th>\n",
       "      <th>c</th>\n",
       "      <th>d</th>\n",
       "    </tr>\n",
       "  </thead>\n",
       "  <tbody>\n",
       "    <tr>\n",
       "      <th>0</th>\n",
       "      <td>A1</td>\n",
       "      <td>B1</td>\n",
       "      <td>C1</td>\n",
       "      <td>D1</td>\n",
       "    </tr>\n",
       "    <tr>\n",
       "      <th>1</th>\n",
       "      <td>12</td>\n",
       "      <td>34</td>\n",
       "      <td>33</td>\n",
       "      <td>ada</td>\n",
       "    </tr>\n",
       "    <tr>\n",
       "      <th>2</th>\n",
       "      <td>23</td>\n",
       "      <td>43</td>\n",
       "      <td>NaN</td>\n",
       "      <td>faes</td>\n",
       "    </tr>\n",
       "    <tr>\n",
       "      <th>3</th>\n",
       "      <td>44</td>\n",
       "      <td>55</td>\n",
       "      <td>55</td>\n",
       "      <td>da</td>\n",
       "    </tr>\n",
       "    <tr>\n",
       "      <th>4</th>\n",
       "      <td>12</td>\n",
       "      <td>NaN</td>\n",
       "      <td>33</td>\n",
       "      <td>dad</td>\n",
       "    </tr>\n",
       "  </tbody>\n",
       "</table>\n",
       "</div>"
      ],
      "text/plain": [
       "    a    b    c     d\n",
       "0  A1   B1   C1    D1\n",
       "1  12   34   33   ada\n",
       "2  23   43  NaN  faes\n",
       "3  44   55   55    da\n",
       "4  12  NaN   33   dad"
      ]
     },
     "execution_count": 7,
     "metadata": {},
     "output_type": "execute_result"
    }
   ],
   "source": [
    "#修改索引值\n",
    "# 使用names属性修改索引值\n",
    "\n",
    "pd.read_csv(\"D:\\日用文件\\数据分析文档\\little.csv\",names=list(\"abcd\"))\n"
   ]
  },
  {
   "cell_type": "code",
   "execution_count": 13,
   "metadata": {},
   "outputs": [
    {
     "data": {
      "text/html": [
       "<div>\n",
       "<style scoped>\n",
       "    .dataframe tbody tr th:only-of-type {\n",
       "        vertical-align: middle;\n",
       "    }\n",
       "\n",
       "    .dataframe tbody tr th {\n",
       "        vertical-align: top;\n",
       "    }\n",
       "\n",
       "    .dataframe thead th {\n",
       "        text-align: right;\n",
       "    }\n",
       "</style>\n",
       "<table border=\"1\" class=\"dataframe\">\n",
       "  <thead>\n",
       "    <tr style=\"text-align: right;\">\n",
       "      <th></th>\n",
       "      <th>a</th>\n",
       "      <th>c</th>\n",
       "      <th>d</th>\n",
       "    </tr>\n",
       "    <tr>\n",
       "      <th>b</th>\n",
       "      <th></th>\n",
       "      <th></th>\n",
       "      <th></th>\n",
       "    </tr>\n",
       "  </thead>\n",
       "  <tbody>\n",
       "    <tr>\n",
       "      <th>B1</th>\n",
       "      <td>A1</td>\n",
       "      <td>C1</td>\n",
       "      <td>D1</td>\n",
       "    </tr>\n",
       "    <tr>\n",
       "      <th>34</th>\n",
       "      <td>12</td>\n",
       "      <td>33</td>\n",
       "      <td>ada</td>\n",
       "    </tr>\n",
       "    <tr>\n",
       "      <th>43</th>\n",
       "      <td>23</td>\n",
       "      <td>NaN</td>\n",
       "      <td>faes</td>\n",
       "    </tr>\n",
       "    <tr>\n",
       "      <th>55</th>\n",
       "      <td>44</td>\n",
       "      <td>55</td>\n",
       "      <td>da</td>\n",
       "    </tr>\n",
       "    <tr>\n",
       "      <th>NaN</th>\n",
       "      <td>12</td>\n",
       "      <td>33</td>\n",
       "      <td>dad</td>\n",
       "    </tr>\n",
       "  </tbody>\n",
       "</table>\n",
       "</div>"
      ],
      "text/plain": [
       "      a    c     d\n",
       "b                 \n",
       "B1   A1   C1    D1\n",
       "34   12   33   ada\n",
       "43   23  NaN  faes\n",
       "55   44   55    da\n",
       "NaN  12   33   dad"
      ]
     },
     "execution_count": 13,
     "metadata": {},
     "output_type": "execute_result"
    }
   ],
   "source": [
    "#以某一列作为索引行 \n",
    "# 以b列替换默认的索引行\n",
    "\n",
    "res = pd.read_csv(\"D:\\日用文件\\数据分析文档\\little.csv\",names = list(\"abcd\"),index_col = \"b\")\n",
    "\n",
    "res"
   ]
  },
  {
   "cell_type": "code",
   "execution_count": 26,
   "metadata": {},
   "outputs": [
    {
     "data": {
      "text/html": [
       "<div>\n",
       "<style scoped>\n",
       "    .dataframe tbody tr th:only-of-type {\n",
       "        vertical-align: middle;\n",
       "    }\n",
       "\n",
       "    .dataframe tbody tr th {\n",
       "        vertical-align: top;\n",
       "    }\n",
       "\n",
       "    .dataframe thead th {\n",
       "        text-align: right;\n",
       "    }\n",
       "</style>\n",
       "<table border=\"1\" class=\"dataframe\">\n",
       "  <thead>\n",
       "    <tr style=\"text-align: right;\">\n",
       "      <th></th>\n",
       "      <th>23</th>\n",
       "      <th>43</th>\n",
       "      <th>Unnamed: 2</th>\n",
       "      <th>faes</th>\n",
       "    </tr>\n",
       "  </thead>\n",
       "  <tbody>\n",
       "    <tr>\n",
       "      <th>0</th>\n",
       "      <td>44</td>\n",
       "      <td>55.0</td>\n",
       "      <td>55</td>\n",
       "      <td>da</td>\n",
       "    </tr>\n",
       "    <tr>\n",
       "      <th>1</th>\n",
       "      <td>12</td>\n",
       "      <td>NaN</td>\n",
       "      <td>33</td>\n",
       "      <td>dad</td>\n",
       "    </tr>\n",
       "  </tbody>\n",
       "</table>\n",
       "</div>"
      ],
      "text/plain": [
       "   23    43  Unnamed: 2 faes\n",
       "0  44  55.0          55   da\n",
       "1  12   NaN          33  dad"
      ]
     },
     "execution_count": 26,
     "metadata": {},
     "output_type": "execute_result"
    }
   ],
   "source": [
    "# 参数skiprows=[]出去选中的行数据\n",
    "# 跳过的作用\n",
    "\n",
    "res = pd.read_csv(\"D:\\日用文件\\数据分析文档\\little.csv\",skiprows = [0,1])\n",
    "\n",
    "res"
   ]
  },
  {
   "cell_type": "code",
   "execution_count": 28,
   "metadata": {},
   "outputs": [
    {
     "data": {
      "text/html": [
       "<div>\n",
       "<style scoped>\n",
       "    .dataframe tbody tr th:only-of-type {\n",
       "        vertical-align: middle;\n",
       "    }\n",
       "\n",
       "    .dataframe tbody tr th {\n",
       "        vertical-align: top;\n",
       "    }\n",
       "\n",
       "    .dataframe thead th {\n",
       "        text-align: right;\n",
       "    }\n",
       "</style>\n",
       "<table border=\"1\" class=\"dataframe\">\n",
       "  <thead>\n",
       "    <tr style=\"text-align: right;\">\n",
       "      <th></th>\n",
       "      <th>A1</th>\n",
       "      <th>B1</th>\n",
       "      <th>C1</th>\n",
       "      <th>D1</th>\n",
       "    </tr>\n",
       "  </thead>\n",
       "  <tbody>\n",
       "    <tr>\n",
       "      <th>0</th>\n",
       "      <td>12</td>\n",
       "      <td>34</td>\n",
       "      <td>33</td>\n",
       "      <td>ada</td>\n",
       "    </tr>\n",
       "    <tr>\n",
       "      <th>1</th>\n",
       "      <td>23</td>\n",
       "      <td>43</td>\n",
       "      <td>NaN</td>\n",
       "      <td>faes</td>\n",
       "    </tr>\n",
       "    <tr>\n",
       "      <th>2</th>\n",
       "      <td>44</td>\n",
       "      <td>55</td>\n",
       "      <td>55</td>\n",
       "      <td>da</td>\n",
       "    </tr>\n",
       "    <tr>\n",
       "      <th>3</th>\n",
       "      <td>12</td>\n",
       "      <td>NaN</td>\n",
       "      <td>33</td>\n",
       "      <td>dad</td>\n",
       "    </tr>\n",
       "    <tr>\n",
       "      <th>4</th>\n",
       "      <td>dad</td>\n",
       "      <td>dad</td>\n",
       "      <td>da</td>\n",
       "      <td>2r</td>\n",
       "    </tr>\n",
       "    <tr>\n",
       "      <th>5</th>\n",
       "      <td>dad</td>\n",
       "      <td>NaN</td>\n",
       "      <td>da1</td>\n",
       "      <td>1</td>\n",
       "    </tr>\n",
       "    <tr>\n",
       "      <th>6</th>\n",
       "      <td>dad</td>\n",
       "      <td>dad</td>\n",
       "      <td>NaN</td>\n",
       "      <td>12</td>\n",
       "    </tr>\n",
       "  </tbody>\n",
       "</table>\n",
       "</div>"
      ],
      "text/plain": [
       "    A1   B1   C1    D1\n",
       "0   12   34   33   ada\n",
       "1   23   43  NaN  faes\n",
       "2   44   55   55    da\n",
       "3   12  NaN   33   dad\n",
       "4  dad  dad   da    2r\n",
       "5  dad  NaN  da1     1\n",
       "6  dad  dad  NaN    12"
      ]
     },
     "execution_count": 28,
     "metadata": {},
     "output_type": "execute_result"
    }
   ],
   "source": [
    "# na_values 为指定lingyun位置为空值\n",
    "\n",
    "res = pd.read_csv(\"D:\\日用文件\\数据分析文档\\little.csv\",na_values = [\"lingyun\"])\n",
    "\n",
    "res \n"
   ]
  },
  {
   "cell_type": "code",
   "execution_count": 48,
   "metadata": {},
   "outputs": [
    {
     "data": {
      "text/html": [
       "<div>\n",
       "<style scoped>\n",
       "    .dataframe tbody tr th:only-of-type {\n",
       "        vertical-align: middle;\n",
       "    }\n",
       "\n",
       "    .dataframe tbody tr th {\n",
       "        vertical-align: top;\n",
       "    }\n",
       "\n",
       "    .dataframe thead th {\n",
       "        text-align: right;\n",
       "    }\n",
       "</style>\n",
       "<table border=\"1\" class=\"dataframe\">\n",
       "  <thead>\n",
       "    <tr style=\"text-align: right;\">\n",
       "      <th></th>\n",
       "      <th>A1</th>\n",
       "      <th>B1</th>\n",
       "      <th>C1</th>\n",
       "      <th>D1</th>\n",
       "    </tr>\n",
       "  </thead>\n",
       "  <tbody>\n",
       "    <tr>\n",
       "      <th>0</th>\n",
       "      <td>12</td>\n",
       "      <td>34</td>\n",
       "      <td>33.0</td>\n",
       "      <td>ada</td>\n",
       "    </tr>\n",
       "    <tr>\n",
       "      <th>1</th>\n",
       "      <td>23</td>\n",
       "      <td>43</td>\n",
       "      <td>NaN</td>\n",
       "      <td>faes</td>\n",
       "    </tr>\n",
       "    <tr>\n",
       "      <th>2</th>\n",
       "      <td>44</td>\n",
       "      <td>55</td>\n",
       "      <td>55.0</td>\n",
       "      <td>da</td>\n",
       "    </tr>\n",
       "  </tbody>\n",
       "</table>\n",
       "</div>"
      ],
      "text/plain": [
       "   A1  B1    C1    D1\n",
       "0  12  34  33.0   ada\n",
       "1  23  43   NaN  faes\n",
       "2  44  55  55.0    da"
      ]
     },
     "execution_count": 48,
     "metadata": {},
     "output_type": "execute_result"
    }
   ],
   "source": [
    "# nrows读取前3行   \n",
    "#                                                         默认lingyun值为空       读取前3行\n",
    "#                                                   --------------------------  =========\n",
    "res = pd.read_csv(\"D:\\日用文件\\数据分析文档\\little.csv\",na_values = [\"lingyun\"],nrows = 3)\n",
    "\n",
    "res "
   ]
  },
  {
   "cell_type": "code",
   "execution_count": 40,
   "metadata": {},
   "outputs": [
    {
     "data": {
      "text/html": [
       "<div>\n",
       "<style scoped>\n",
       "    .dataframe tbody tr th:only-of-type {\n",
       "        vertical-align: middle;\n",
       "    }\n",
       "\n",
       "    .dataframe tbody tr th {\n",
       "        vertical-align: top;\n",
       "    }\n",
       "\n",
       "    .dataframe thead th {\n",
       "        text-align: right;\n",
       "    }\n",
       "</style>\n",
       "<table border=\"1\" class=\"dataframe\">\n",
       "  <thead>\n",
       "    <tr style=\"text-align: right;\">\n",
       "      <th></th>\n",
       "      <th>0</th>\n",
       "      <th>1</th>\n",
       "      <th>2</th>\n",
       "      <th>3</th>\n",
       "      <th>4</th>\n",
       "      <th>5</th>\n",
       "      <th>6</th>\n",
       "      <th>7</th>\n",
       "    </tr>\n",
       "  </thead>\n",
       "  <tbody>\n",
       "    <tr>\n",
       "      <th>0</th>\n",
       "      <td>12</td>\n",
       "      <td>10</td>\n",
       "      <td>18</td>\n",
       "      <td>9</td>\n",
       "      <td>23</td>\n",
       "      <td>14</td>\n",
       "      <td>30</td>\n",
       "      <td>36</td>\n",
       "    </tr>\n",
       "    <tr>\n",
       "      <th>1</th>\n",
       "      <td>31</td>\n",
       "      <td>4</td>\n",
       "      <td>27</td>\n",
       "      <td>30</td>\n",
       "      <td>30</td>\n",
       "      <td>10</td>\n",
       "      <td>2</td>\n",
       "      <td>10</td>\n",
       "    </tr>\n",
       "    <tr>\n",
       "      <th>2</th>\n",
       "      <td>9</td>\n",
       "      <td>35</td>\n",
       "      <td>30</td>\n",
       "      <td>28</td>\n",
       "      <td>21</td>\n",
       "      <td>12</td>\n",
       "      <td>7</td>\n",
       "      <td>15</td>\n",
       "    </tr>\n",
       "    <tr>\n",
       "      <th>3</th>\n",
       "      <td>2</td>\n",
       "      <td>32</td>\n",
       "      <td>20</td>\n",
       "      <td>32</td>\n",
       "      <td>17</td>\n",
       "      <td>35</td>\n",
       "      <td>11</td>\n",
       "      <td>21</td>\n",
       "    </tr>\n",
       "    <tr>\n",
       "      <th>4</th>\n",
       "      <td>3</td>\n",
       "      <td>30</td>\n",
       "      <td>21</td>\n",
       "      <td>21</td>\n",
       "      <td>36</td>\n",
       "      <td>8</td>\n",
       "      <td>6</td>\n",
       "      <td>2</td>\n",
       "    </tr>\n",
       "    <tr>\n",
       "      <th>5</th>\n",
       "      <td>26</td>\n",
       "      <td>24</td>\n",
       "      <td>9</td>\n",
       "      <td>9</td>\n",
       "      <td>7</td>\n",
       "      <td>18</td>\n",
       "      <td>34</td>\n",
       "      <td>5</td>\n",
       "    </tr>\n",
       "    <tr>\n",
       "      <th>6</th>\n",
       "      <td>18</td>\n",
       "      <td>17</td>\n",
       "      <td>11</td>\n",
       "      <td>33</td>\n",
       "      <td>23</td>\n",
       "      <td>14</td>\n",
       "      <td>27</td>\n",
       "      <td>31</td>\n",
       "    </tr>\n",
       "    <tr>\n",
       "      <th>7</th>\n",
       "      <td>6</td>\n",
       "      <td>32</td>\n",
       "      <td>31</td>\n",
       "      <td>20</td>\n",
       "      <td>26</td>\n",
       "      <td>5</td>\n",
       "      <td>26</td>\n",
       "      <td>22</td>\n",
       "    </tr>\n",
       "    <tr>\n",
       "      <th>8</th>\n",
       "      <td>27</td>\n",
       "      <td>3</td>\n",
       "      <td>27</td>\n",
       "      <td>15</td>\n",
       "      <td>24</td>\n",
       "      <td>7</td>\n",
       "      <td>30</td>\n",
       "      <td>9</td>\n",
       "    </tr>\n",
       "  </tbody>\n",
       "</table>\n",
       "</div>"
      ],
      "text/plain": [
       "    0   1   2   3   4   5   6   7\n",
       "0  12  10  18   9  23  14  30  36\n",
       "1  31   4  27  30  30  10   2  10\n",
       "2   9  35  30  28  21  12   7  15\n",
       "3   2  32  20  32  17  35  11  21\n",
       "4   3  30  21  21  36   8   6   2\n",
       "5  26  24   9   9   7  18  34   5\n",
       "6  18  17  11  33  23  14  27  31\n",
       "7   6  32  31  20  26   5  26  22\n",
       "8  27   3  27  15  24   7  30   9"
      ]
     },
     "execution_count": 40,
     "metadata": {},
     "output_type": "execute_result"
    }
   ],
   "source": [
    "# 读取excel表格\n",
    "# 指名sheet1表，使用默认索引\n",
    "#                    读取excel表格                             表1                默认索引     从尾部开始截取掉后30行\n",
    "#  ----------------------------------------------------   =================== -------------- ==============\n",
    "res = pd.read_excel(\"D:\\日用文件\\数据分析文档\\excel1.xls\",sheet_name = \"Sheet1\",header = None,skipfooter = 30)\n",
    "res"
   ]
  },
  {
   "cell_type": "markdown",
   "metadata": {},
   "source": [
    "# 块读取"
   ]
  },
  {
   "cell_type": "code",
   "execution_count": 70,
   "metadata": {},
   "outputs": [
    {
     "name": "stdout",
     "output_type": "stream",
     "text": [
      "<pandas.io.parsers.TextFileReader object at 0x0000023F8AE025C0>\n",
      "   A1  B1  C1   D1\n",
      "0  12  34  33  ada\n",
      "   A1  B1       C1    D1\n",
      "1  23  43  lingyun  faes\n",
      "   A1  B1  C1  D1\n",
      "2  44  55  55  da\n",
      "   A1       B1  C1   D1\n",
      "3  12  lingyun  33  dad\n",
      "    A1   B1  C1  D1\n",
      "4  dad  dad  da  2r\n",
      "    A1       B1   C1  D1\n",
      "5  dad  lingyun  da1   1\n",
      "    A1   B1       C1  D1\n",
      "6  dad  dad  lingyun  12\n"
     ]
    }
   ],
   "source": [
    "# 块读取 \n",
    "# 每一条数据分为一块，一般按照为总量的1%分块\n",
    "# 返回一个对象，\n",
    "\n",
    "result = pd.read_csv(\"D:/日用文件/数据分析文档/little.csv\",chunksize = 1)\n",
    "print(result)\n",
    "\n",
    "# 使用for循环进行遍历\n",
    "for i in result:\n",
    "    print(i)\n"
   ]
  },
  {
   "cell_type": "markdown",
   "metadata": {},
   "source": [
    "# to_csv"
   ]
  },
  {
   "cell_type": "code",
   "execution_count": 18,
   "metadata": {},
   "outputs": [
    {
     "data": {
      "text/html": [
       "<div>\n",
       "<style scoped>\n",
       "    .dataframe tbody tr th:only-of-type {\n",
       "        vertical-align: middle;\n",
       "    }\n",
       "\n",
       "    .dataframe tbody tr th {\n",
       "        vertical-align: top;\n",
       "    }\n",
       "\n",
       "    .dataframe thead th {\n",
       "        text-align: right;\n",
       "    }\n",
       "</style>\n",
       "<table border=\"1\" class=\"dataframe\">\n",
       "  <thead>\n",
       "    <tr style=\"text-align: right;\">\n",
       "      <th></th>\n",
       "      <th>A</th>\n",
       "      <th>B</th>\n",
       "      <th>C</th>\n",
       "      <th>D</th>\n",
       "      <th>E</th>\n",
       "    </tr>\n",
       "  </thead>\n",
       "  <tbody>\n",
       "    <tr>\n",
       "      <th>a</th>\n",
       "      <td>12</td>\n",
       "      <td>26</td>\n",
       "      <td>41</td>\n",
       "      <td>62</td>\n",
       "      <td>36</td>\n",
       "    </tr>\n",
       "    <tr>\n",
       "      <th>b</th>\n",
       "      <td>14</td>\n",
       "      <td>24</td>\n",
       "      <td>46</td>\n",
       "      <td>64</td>\n",
       "      <td>9</td>\n",
       "    </tr>\n",
       "    <tr>\n",
       "      <th>c</th>\n",
       "      <td>17</td>\n",
       "      <td>64</td>\n",
       "      <td>10</td>\n",
       "      <td>41</td>\n",
       "      <td>49</td>\n",
       "    </tr>\n",
       "    <tr>\n",
       "      <th>d</th>\n",
       "      <td>65</td>\n",
       "      <td>31</td>\n",
       "      <td>44</td>\n",
       "      <td>56</td>\n",
       "      <td>46</td>\n",
       "    </tr>\n",
       "    <tr>\n",
       "      <th>e</th>\n",
       "      <td>35</td>\n",
       "      <td>61</td>\n",
       "      <td>19</td>\n",
       "      <td>56</td>\n",
       "      <td>47</td>\n",
       "    </tr>\n",
       "  </tbody>\n",
       "</table>\n",
       "</div>"
      ],
      "text/plain": [
       "    A   B   C   D   E\n",
       "a  12  26  41  62  36\n",
       "b  14  24  46  64   9\n",
       "c  17  64  10  41  49\n",
       "d  65  31  44  56  46\n",
       "e  35  61  19  56  47"
      ]
     },
     "execution_count": 18,
     "metadata": {},
     "output_type": "execute_result"
    }
   ],
   "source": [
    "# to_csv 将数据框写入csv文件\n",
    "import numpy as np\n",
    "import pandas as pd\n",
    "\n",
    "data1 = pd.DataFrame(np.random.randint(3,69,(5,5)),index = list(\"abcde\"),columns = list(\"ABCDE\"))\n",
    "\n",
    "# 创建并写入csv文件 数据\n",
    "data1.to_csv(\"D:/日用文件/数据分析文档/toCsv.csv\")\n",
    "data1\n"
   ]
  },
  {
   "cell_type": "code",
   "execution_count": 24,
   "metadata": {},
   "outputs": [
    {
     "data": {
      "text/html": [
       "<div>\n",
       "<style scoped>\n",
       "    .dataframe tbody tr th:only-of-type {\n",
       "        vertical-align: middle;\n",
       "    }\n",
       "\n",
       "    .dataframe tbody tr th {\n",
       "        vertical-align: top;\n",
       "    }\n",
       "\n",
       "    .dataframe thead th {\n",
       "        text-align: right;\n",
       "    }\n",
       "</style>\n",
       "<table border=\"1\" class=\"dataframe\">\n",
       "  <thead>\n",
       "    <tr style=\"text-align: right;\">\n",
       "      <th></th>\n",
       "      <th>A</th>\n",
       "      <th>B</th>\n",
       "      <th>C</th>\n",
       "      <th>D</th>\n",
       "      <th>E</th>\n",
       "    </tr>\n",
       "  </thead>\n",
       "  <tbody>\n",
       "    <tr>\n",
       "      <th>a</th>\n",
       "      <td>NaN</td>\n",
       "      <td>26</td>\n",
       "      <td>41</td>\n",
       "      <td>62</td>\n",
       "      <td>36.0</td>\n",
       "    </tr>\n",
       "    <tr>\n",
       "      <th>b</th>\n",
       "      <td>14.0</td>\n",
       "      <td>24</td>\n",
       "      <td>46</td>\n",
       "      <td>64</td>\n",
       "      <td>9.0</td>\n",
       "    </tr>\n",
       "    <tr>\n",
       "      <th>c</th>\n",
       "      <td>17.0</td>\n",
       "      <td>64</td>\n",
       "      <td>10</td>\n",
       "      <td>41</td>\n",
       "      <td>49.0</td>\n",
       "    </tr>\n",
       "    <tr>\n",
       "      <th>d</th>\n",
       "      <td>65.0</td>\n",
       "      <td>31</td>\n",
       "      <td>44</td>\n",
       "      <td>56</td>\n",
       "      <td>46.0</td>\n",
       "    </tr>\n",
       "    <tr>\n",
       "      <th>e</th>\n",
       "      <td>35.0</td>\n",
       "      <td>61</td>\n",
       "      <td>19</td>\n",
       "      <td>56</td>\n",
       "      <td>NaN</td>\n",
       "    </tr>\n",
       "  </tbody>\n",
       "</table>\n",
       "</div>"
      ],
      "text/plain": [
       "      A   B   C   D     E\n",
       "a   NaN  26  41  62  36.0\n",
       "b  14.0  24  46  64   9.0\n",
       "c  17.0  64  10  41  49.0\n",
       "d  65.0  31  44  56  46.0\n",
       "e  35.0  61  19  56   NaN"
      ]
     },
     "execution_count": 24,
     "metadata": {},
     "output_type": "execute_result"
    }
   ],
   "source": [
    "# 为某个位置元素设置空值\n",
    "data2 = data1.copy()  #data1的拷贝形式\n",
    "\n",
    "data2.loc[\"a\",\"A\"] = np.nan\n",
    "data2.loc[\"e\",\"E\"] = np.nan\n",
    "\n",
    "data2"
   ]
  },
  {
   "cell_type": "code",
   "execution_count": 25,
   "metadata": {},
   "outputs": [
    {
     "data": {
      "text/html": [
       "<div>\n",
       "<style scoped>\n",
       "    .dataframe tbody tr th:only-of-type {\n",
       "        vertical-align: middle;\n",
       "    }\n",
       "\n",
       "    .dataframe tbody tr th {\n",
       "        vertical-align: top;\n",
       "    }\n",
       "\n",
       "    .dataframe thead th {\n",
       "        text-align: right;\n",
       "    }\n",
       "</style>\n",
       "<table border=\"1\" class=\"dataframe\">\n",
       "  <thead>\n",
       "    <tr style=\"text-align: right;\">\n",
       "      <th></th>\n",
       "      <th>A</th>\n",
       "      <th>B</th>\n",
       "      <th>C</th>\n",
       "      <th>D</th>\n",
       "      <th>E</th>\n",
       "    </tr>\n",
       "  </thead>\n",
       "  <tbody>\n",
       "    <tr>\n",
       "      <th>a</th>\n",
       "      <td>NaN</td>\n",
       "      <td>26</td>\n",
       "      <td>41</td>\n",
       "      <td>62</td>\n",
       "      <td>36.0</td>\n",
       "    </tr>\n",
       "    <tr>\n",
       "      <th>b</th>\n",
       "      <td>14.0</td>\n",
       "      <td>24</td>\n",
       "      <td>46</td>\n",
       "      <td>64</td>\n",
       "      <td>9.0</td>\n",
       "    </tr>\n",
       "    <tr>\n",
       "      <th>c</th>\n",
       "      <td>17.0</td>\n",
       "      <td>64</td>\n",
       "      <td>10</td>\n",
       "      <td>41</td>\n",
       "      <td>49.0</td>\n",
       "    </tr>\n",
       "    <tr>\n",
       "      <th>d</th>\n",
       "      <td>65.0</td>\n",
       "      <td>31</td>\n",
       "      <td>44</td>\n",
       "      <td>56</td>\n",
       "      <td>46.0</td>\n",
       "    </tr>\n",
       "    <tr>\n",
       "      <th>e</th>\n",
       "      <td>35.0</td>\n",
       "      <td>61</td>\n",
       "      <td>19</td>\n",
       "      <td>56</td>\n",
       "      <td>NaN</td>\n",
       "    </tr>\n",
       "  </tbody>\n",
       "</table>\n",
       "</div>"
      ],
      "text/plain": [
       "      A   B   C   D     E\n",
       "a   NaN  26  41  62  36.0\n",
       "b  14.0  24  46  64   9.0\n",
       "c  17.0  64  10  41  49.0\n",
       "d  65.0  31  44  56  46.0\n",
       "e  35.0  61  19  56   NaN"
      ]
     },
     "execution_count": 25,
     "metadata": {},
     "output_type": "execute_result"
    }
   ],
   "source": [
    "# 创建并写入csv文件 数据\n",
    "# 将空值设置为默认值\n",
    "data2.to_csv(\"D:/日用文件/数据分析文档/toCsv2.csv\",na_rep = \"zhangLingYun\")\n",
    "\n",
    "data2"
   ]
  },
  {
   "cell_type": "code",
   "execution_count": 29,
   "metadata": {},
   "outputs": [
    {
     "data": {
      "text/html": [
       "<div>\n",
       "<style scoped>\n",
       "    .dataframe tbody tr th:only-of-type {\n",
       "        vertical-align: middle;\n",
       "    }\n",
       "\n",
       "    .dataframe tbody tr th {\n",
       "        vertical-align: top;\n",
       "    }\n",
       "\n",
       "    .dataframe thead th {\n",
       "        text-align: right;\n",
       "    }\n",
       "</style>\n",
       "<table border=\"1\" class=\"dataframe\">\n",
       "  <thead>\n",
       "    <tr style=\"text-align: right;\">\n",
       "      <th></th>\n",
       "      <th>Unnamed: 0</th>\n",
       "      <th>A</th>\n",
       "      <th>B</th>\n",
       "      <th>C</th>\n",
       "      <th>D</th>\n",
       "      <th>E</th>\n",
       "    </tr>\n",
       "  </thead>\n",
       "  <tbody>\n",
       "    <tr>\n",
       "      <th>0</th>\n",
       "      <td>a</td>\n",
       "      <td>12</td>\n",
       "      <td>26</td>\n",
       "      <td>41</td>\n",
       "      <td>62</td>\n",
       "      <td>36</td>\n",
       "    </tr>\n",
       "    <tr>\n",
       "      <th>1</th>\n",
       "      <td>b</td>\n",
       "      <td>NaN</td>\n",
       "      <td></td>\n",
       "      <td>46</td>\n",
       "      <td>'</td>\n",
       "      <td>9</td>\n",
       "    </tr>\n",
       "    <tr>\n",
       "      <th>2</th>\n",
       "      <td>c</td>\n",
       "      <td>17</td>\n",
       "      <td>64</td>\n",
       "      <td>10</td>\n",
       "      <td>41</td>\n",
       "      <td>49</td>\n",
       "    </tr>\n",
       "    <tr>\n",
       "      <th>3</th>\n",
       "      <td>d</td>\n",
       "      <td>65</td>\n",
       "      <td>31</td>\n",
       "      <td>44</td>\n",
       "      <td>56</td>\n",
       "      <td>46</td>\n",
       "    </tr>\n",
       "    <tr>\n",
       "      <th>4</th>\n",
       "      <td>e</td>\n",
       "      <td></td>\n",
       "      <td>61</td>\n",
       "      <td>'</td>\n",
       "      <td>NaN</td>\n",
       "      <td>47</td>\n",
       "    </tr>\n",
       "  </tbody>\n",
       "</table>\n",
       "</div>"
      ],
      "text/plain": [
       "  Unnamed: 0     A     B   C    D   E\n",
       "0          a    12    26  41   62  36\n",
       "1          b   NaN        46    '   9\n",
       "2          c    17    64  10   41  49\n",
       "3          d    65    31  44   56  46\n",
       "4          e          61   '  NaN  47"
      ]
     },
     "execution_count": 29,
     "metadata": {},
     "output_type": "execute_result"
    }
   ],
   "source": [
    "# 空格，空值，空字符串的区别\n",
    "\n",
    "null_data = pd.read_csv(\"D:/日用文件/数据分析文档/null_1.csv\")\n",
    "\n",
    "null_data"
   ]
  },
  {
   "cell_type": "code",
   "execution_count": 36,
   "metadata": {},
   "outputs": [],
   "source": [
    "# 去掉行索引值，bool类型，  而只能保留部分列索引的值，没有bool类型\n",
    "# index为FAlse，而columns的类索引只去ABC三列\n",
    "\n",
    "null_data2 = null_data.to_csv(\"D:/日用文件/数据分析文档/null_2.csv\",index = False,columns = [\"A\",\"B\",\"C\"])\n",
    "\n",
    "null_data2"
   ]
  },
  {
   "cell_type": "code",
   "execution_count": null,
   "metadata": {},
   "outputs": [],
   "source": [
    "# 为每一列自定义列名\n",
    "\n",
    "null_data2 = null_data.to_csv(\"D:/日用文件/数据分析文档/null_2.csv\",index = False,header = list([f\"a{i}\" for i in range(5)]))\n",
    "\n",
    "null_data2\n"
   ]
  },
  {
   "cell_type": "code",
   "execution_count": 54,
   "metadata": {},
   "outputs": [
    {
     "data": {
      "text/plain": [
       "['a', 'd', 'a', 'd', 'a', '7']"
      ]
     },
     "execution_count": 54,
     "metadata": {},
     "output_type": "execute_result"
    }
   ],
   "source": [
    "# \n",
    "\n",
    "for i in range(1,8):\n",
    "    m = (r\"adada%d\" %i )\n",
    "    l = list(m)\n",
    "\n",
    "list(l)"
   ]
  },
  {
   "cell_type": "code",
   "execution_count": null,
   "metadata": {},
   "outputs": [],
   "source": [
    "()"
   ]
  }
 ],
 "metadata": {
  "kernelspec": {
   "display_name": "Python 3",
   "language": "python",
   "name": "python3"
  },
  "language_info": {
   "codemirror_mode": {
    "name": "ipython",
    "version": 3
   },
   "file_extension": ".py",
   "mimetype": "text/x-python",
   "name": "python",
   "nbconvert_exporter": "python",
   "pygments_lexer": "ipython3",
   "version": "3.6.8"
  }
 },
 "nbformat": 4,
 "nbformat_minor": 2
}
