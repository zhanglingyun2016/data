{
 "cells": [
  {
   "cell_type": "markdown",
   "metadata": {},
   "source": [
    "# Ser和Frame的统计计算和一般计算"
   ]
  },
  {
   "cell_type": "code",
   "execution_count": 8,
   "metadata": {},
   "outputs": [
    {
     "data": {
      "text/plain": [
       "a    65.1\n",
       "b    76.6\n",
       "c    81.0\n",
       "d    68.5\n",
       "e    84.7\n",
       "f    75.7\n",
       "dtype: float64"
      ]
     },
     "execution_count": 8,
     "metadata": {},
     "output_type": "execute_result"
    }
   ],
   "source": [
    "import numpy as np\n",
    "import pandas as pd\n",
    "\n",
    "\n",
    "arr = np.random.randint(34,123,(10,6))\n",
    "fr21 = pd.DataFrame(arr,columns = list(\"abcdef\"))   #生成数据框\n",
    "\n",
    "fr21.mean(axis = 0)   #axis计算每一列的平均值\n",
    "\n",
    "\n"
   ]
  },
  {
   "cell_type": "code",
   "execution_count": 13,
   "metadata": {},
   "outputs": [
    {
     "data": {
      "text/plain": [
       "4    3\n",
       "3    3\n",
       "2    3\n",
       "dtype: int64"
      ]
     },
     "execution_count": 13,
     "metadata": {},
     "output_type": "execute_result"
    }
   ],
   "source": [
    "# 频数分析\n",
    "fr1 = pd.Series(np.random.randint(2,5,9))\n",
    "fr1.value_counts() #统计每个值出现的次数\n",
    "\n"
   ]
  },
  {
   "cell_type": "code",
   "execution_count": 16,
   "metadata": {},
   "outputs": [
    {
     "data": {
      "text/plain": [
       "r1  1    -0.628243\n",
       "    3     0.700358\n",
       "    2     0.503685\n",
       "r2  4    -1.321096\n",
       "    6     0.862504\n",
       "r3  8    -1.421908\n",
       "    9    -0.399353\n",
       "r4  4     0.613109\n",
       "r5  7     0.286385\n",
       "    6     1.096657\n",
       "    3    -0.809631\n",
       "    52    2.135982\n",
       "dtype: float64"
      ]
     },
     "execution_count": 16,
     "metadata": {},
     "output_type": "execute_result"
    }
   ],
   "source": [
    "# 层次化索引\n",
    "                                                 #外层索引\n",
    "fp = pd.Series(np.random.randn(12),index = [[\"r1\",\"r1\",\"r1\",\"r2\",\"r2\",\"r3\",\"r3\",\"r4\",\"r5\",\"r5\",\"r5\",\"r5\"],\n",
    "                                            [1,3,2,4,6,8,9,4,7,6,3,52]])  #内层索引\n",
    "fp\n",
    "\n",
    "\n",
    "\n",
    "\n",
    "\n",
    "\n",
    "\n"
   ]
  },
  {
   "cell_type": "code",
   "execution_count": 21,
   "metadata": {},
   "outputs": [
    {
     "data": {
      "text/plain": [
       "A  r1  1     0.715291\n",
       "       3    -1.103577\n",
       "       2     0.188490\n",
       "   r2  4    -0.401773\n",
       "       6    -0.431691\n",
       "   r3  8     0.228310\n",
       "B  r3  9     0.408610\n",
       "   r4  4     0.634949\n",
       "   r5  7    -0.591453\n",
       "       6     2.194895\n",
       "       3    -1.321791\n",
       "       52   -0.860349\n",
       "dtype: float64"
      ]
     },
     "execution_count": 21,
     "metadata": {},
     "output_type": "execute_result"
    }
   ],
   "source": [
    "# 层次化索引 三层\n",
    "\n",
    "fp = pd.Series(np.random.randn(12),index = [list(\"AAAAAABBBBBB\"),[\"r1\",\"r1\",\"r1\",\"r2\",\"r2\",\"r3\",\"r3\",\"r4\",\"r5\",\"r5\",\"r5\",\"r5\"],\n",
    "                                            [1,3,2,4,6,8,9,4,7,6,3,52]])  #内层索引\n",
    "\n",
    "\n",
    "fp"
   ]
  },
  {
   "cell_type": "markdown",
   "metadata": {},
   "source": [
    "# 进行层次化索引切片"
   ]
  },
  {
   "cell_type": "code",
   "execution_count": null,
   "metadata": {},
   "outputs": [],
   "source": []
  }
 ],
 "metadata": {
  "kernelspec": {
   "display_name": "Python 3",
   "language": "python",
   "name": "python3"
  },
  "language_info": {
   "codemirror_mode": {
    "name": "ipython",
    "version": 3
   },
   "file_extension": ".py",
   "mimetype": "text/x-python",
   "name": "python",
   "nbconvert_exporter": "python",
   "pygments_lexer": "ipython3",
   "version": "3.6.8"
  }
 },
 "nbformat": 4,
 "nbformat_minor": 2
}
