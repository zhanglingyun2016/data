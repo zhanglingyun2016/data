{
 "cells": [
  {
   "cell_type": "code",
   "execution_count": 13,
   "metadata": {},
   "outputs": [
    {
     "data": {
      "text/plain": [
       "array([['data', 'id', 'name', 'birthday', 'address'],\n",
       "       [201801.0, 1.0, '张1', 511501.0, '周口1'],\n",
       "       [201802.0, 2.0, '张2', 511502.0, '周口2'],\n",
       "       [201803.0, 3.0, '张3', 511503.0, '周口3'],\n",
       "       [201804.0, 4.0, '张4', 511504.0, '周口4'],\n",
       "       [201805.0, 5.0, '张5', 511505.0, '周口5'],\n",
       "       [201806.0, 6.0, '张6', 511506.0, '周口6'],\n",
       "       [201807.0, 7.0, '张7', 511507.0, '周口7'],\n",
       "       [201808.0, 12.0, '张8', 511508.0, '周口8'],\n",
       "       [201810.0, 9.0, '张9', 511509.0, '周口9'],\n",
       "       [201810.0, 10.0, '张10', 511510.0, '周口10$'],\n",
       "       [201810.0, '$', '张11', 511511.0, '周口11'],\n",
       "       [201812.0, 12.0, '张12', 511512.0, '周口12'],\n",
       "       [201813.0, 13.0, '张13', 511513.0, '周口13'],\n",
       "       [201814.0, 14.0, '张14', 511514.0, '周口14'],\n",
       "       [201815.0, 15.0, '张15', 511515.0, '周口15'],\n",
       "       [201816.0, 16.0, '张16', 511516.0, '周口16'],\n",
       "       [201817.0, 17.0, '张17', 511517.0, '周口17'],\n",
       "       [201818.0, 18.0, '张18', 511518.0, '周口18'],\n",
       "       [201819.0, 19.0, '张19', 511519.0, '周口19'],\n",
       "       [201820.0, '', '张20', 511520.0, '周口20'],\n",
       "       [201820.0, 21.0, '张21', 511521.0, '周口21'],\n",
       "       [201820.0, 22.0, '张22', 511522.0, '周口22'],\n",
       "       [201823.0, 23.0, '张23', 511523.0, '周口23'],\n",
       "       [201824.0, 24.0, '张24', 511524.0, '周口24'],\n",
       "       [201825.0, 25.0, '张25', 511525.0, '周口25'],\n",
       "       [201826.0, 26.0, '张26', 511526.0, '周口26'],\n",
       "       [201827.0, '￥#s', '张27', 511527.0, '周口27'],\n",
       "       [201828.0, 28.0, '张28', 511528.0, '周口28'],\n",
       "       [201829.0, 29.0, '张29', 511529.0, '周口29'],\n",
       "       [201830.0, 30.0, '张30', 511530.0, '周口30'],\n",
       "       [201831.0, 31.0, '张31', 511531.0, '周口31'],\n",
       "       [201832.0, 32.0, '张32', 511532.0, '周口32'],\n",
       "       [201833.0, 33.0, '张33', 511533.0, '周口33'],\n",
       "       [201834.0, 34.0, '张34', 511534.0, '周口34']], dtype=object)"
      ]
     },
     "execution_count": 13,
     "metadata": {},
     "output_type": "execute_result"
    }
   ],
   "source": [
    "# 数据分析_v3-xls表格\n",
    "import numpy as np\n",
    "import xlrd   #导入xlrd文件\n",
    "name = 'D:/日用文件/datemessage.xls'   #文件的绝对目录\n",
    "test1 = xlrd.open_workbook(name)   #打开目标目录\n",
    "table = test1.sheet_by_name(u'Sheet1')  #第一张的\n",
    "daten1 = []  #临时列表\n",
    "nrows = table.nrows  \n",
    "for j in range(0,nrows,1):    #\n",
    "    daten1.append(list(table.row_values(j)))  #通过list遍历table.row_values(j)追加到临时列表daten1中\n",
    "# daten1  #打印出来嵌套列表\n",
    "date_new_with = np.array(daten1,dtype = np.object)\n",
    "date_new_with"
   ]
  },
  {
   "cell_type": "code",
   "execution_count": 21,
   "metadata": {},
   "outputs": [
    {
     "data": {
      "text/plain": [
       "array(['data', 201801.0, 201802.0, 201803.0, 201804.0, 201805.0, 201806.0,\n",
       "       201807.0, 201808.0, 201810.0, 201810.0, 201810.0, 201812.0,\n",
       "       201813.0, 201814.0, 201815.0, 201816.0, 201817.0, 201818.0,\n",
       "       201819.0, 201820.0, 201820.0, 201820.0, 201823.0, 201824.0,\n",
       "       201825.0, 201826.0, 201827.0, 201828.0, 201829.0, 201830.0,\n",
       "       201831.0, 201832.0, 201833.0, 201834.0], dtype=object)"
      ]
     },
     "execution_count": 21,
     "metadata": {},
     "output_type": "execute_result"
    }
   ],
   "source": [
    "date1 = date_new_with[:,0]  #取出所有行的第0，也就是第一列的信息\n",
    "date1"
   ]
  },
  {
   "cell_type": "code",
   "execution_count": 30,
   "metadata": {},
   "outputs": [],
   "source": [
    "# 数据的清洗practice_v1\n",
    "def qingxi(arr1):\n",
    "    \"\"\"\n",
    "    去掉重复的date日期号，第一列\n",
    "    \"\"\"\n",
    "    list1 = []  #临时列表\n",
    "    for i in range(len(arr1)-1):\n",
    "        for j in range(i+1,len(arr1),1):  #从第i个以后的元素进行对比，步长为1\n",
    "            if arr1[i] == arr1[j]:\n",
    "                list1.append(j)\n",
    "    return np.unique(list1)\n",
    "#     return list1\n",
    "\n",
    "# arr11 = np.random.randint(3,9,15)\n",
    "# # arr11 = [1,2,5,8,8,9,2,8,7,2,3,4,5,8,2,6,9]\n",
    "# print(arr11)\n",
    "# result = qingxi(arr11)\n",
    "# print(\"去重后返回重复的下标值\",result)"
   ]
  },
  {
   "cell_type": "code",
   "execution_count": 31,
   "metadata": {},
   "outputs": [],
   "source": [
    "# 数据的清洗practice_v2\n",
    "def qingxi2(arr):\n",
    "    \"\"\"\n",
    "    进行数据清洗，清除去掉除去int，float类型以外的字符串\n",
    "    \"\"\"\n",
    "    r,c = np.shape(arr)\n",
    "#     print(r,c)\n",
    "    for i in range(r):\n",
    "        for j in range(c):\n",
    "            if type(arr[i,j]) == float or type(arr[i,j]) == int:  #判断是否是int或者是float类型\n",
    "                pass\n",
    "            else:\n",
    "                arr[i,j] = 0\n",
    "    return arr"
   ]
  },
  {
   "cell_type": "code",
   "execution_count": 32,
   "metadata": {},
   "outputs": [
    {
     "data": {
      "text/plain": [
       "array([10, 11, 21, 22])"
      ]
     },
     "execution_count": 32,
     "metadata": {},
     "output_type": "execute_result"
    }
   ],
   "source": [
    "qingxi(date1)"
   ]
  },
  {
   "cell_type": "code",
   "execution_count": 38,
   "metadata": {},
   "outputs": [],
   "source": [
    "# qingxi2(date1)\n",
    "# date1.astype(int)"
   ]
  }
 ],
 "metadata": {
  "kernelspec": {
   "display_name": "Python 3",
   "language": "python",
   "name": "python3"
  },
  "language_info": {
   "codemirror_mode": {
    "name": "ipython",
    "version": 3
   },
   "file_extension": ".py",
   "mimetype": "text/x-python",
   "name": "python",
   "nbconvert_exporter": "python",
   "pygments_lexer": "ipython3",
   "version": "3.6.8"
  }
 },
 "nbformat": 4,
 "nbformat_minor": 2
}
