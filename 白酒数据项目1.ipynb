{
 "cells": [
  {
   "cell_type": "code",
   "execution_count": 5,
   "metadata": {},
   "outputs": [
    {
     "ename": "FileNotFoundError",
     "evalue": "[Errno 2] No such file or directory: '白酒项目.XLSX'",
     "output_type": "error",
     "traceback": [
      "\u001b[1;31m---------------------------------------------------------------------------\u001b[0m",
      "\u001b[1;31mFileNotFoundError\u001b[0m                         Traceback (most recent call last)",
      "\u001b[1;32m<ipython-input-5-044f03cd9930>\u001b[0m in \u001b[0;36m<module>\u001b[1;34m\u001b[0m\n\u001b[0;32m      2\u001b[0m \u001b[1;33m\u001b[0m\u001b[0m\n\u001b[0;32m      3\u001b[0m \u001b[0mname\u001b[0m \u001b[1;33m=\u001b[0m \u001b[1;34m\"白酒项目.XLSX\"\u001b[0m\u001b[1;33m\u001b[0m\u001b[1;33m\u001b[0m\u001b[0m\n\u001b[1;32m----> 4\u001b[1;33m \u001b[0mtest1\u001b[0m \u001b[1;33m=\u001b[0m \u001b[0mxlrd\u001b[0m\u001b[1;33m.\u001b[0m\u001b[0mopen_workbook\u001b[0m\u001b[1;33m(\u001b[0m\u001b[0mname\u001b[0m\u001b[1;33m)\u001b[0m\u001b[1;33m\u001b[0m\u001b[1;33m\u001b[0m\u001b[0m\n\u001b[0m\u001b[0;32m      5\u001b[0m \u001b[0mtable\u001b[0m \u001b[1;33m=\u001b[0m \u001b[0mtest1\u001b[0m\u001b[1;33m.\u001b[0m\u001b[0msheet_by_name\u001b[0m\u001b[1;33m(\u001b[0m\u001b[1;34mu\"Sheet1\"\u001b[0m\u001b[1;33m)\u001b[0m\u001b[1;33m\u001b[0m\u001b[1;33m\u001b[0m\u001b[0m\n\u001b[0;32m      6\u001b[0m \u001b[0mdaten1\u001b[0m \u001b[1;33m=\u001b[0m \u001b[1;33m[\u001b[0m\u001b[1;33m]\u001b[0m\u001b[1;33m\u001b[0m\u001b[1;33m\u001b[0m\u001b[0m\n",
      "\u001b[1;32mG:\\Anaconda1\\lib\\site-packages\\xlrd\\__init__.py\u001b[0m in \u001b[0;36mopen_workbook\u001b[1;34m(filename, logfile, verbosity, use_mmap, file_contents, encoding_override, formatting_info, on_demand, ragged_rows)\u001b[0m\n\u001b[0;32m    109\u001b[0m     \u001b[1;32melse\u001b[0m\u001b[1;33m:\u001b[0m\u001b[1;33m\u001b[0m\u001b[1;33m\u001b[0m\u001b[0m\n\u001b[0;32m    110\u001b[0m         \u001b[0mfilename\u001b[0m \u001b[1;33m=\u001b[0m \u001b[0mos\u001b[0m\u001b[1;33m.\u001b[0m\u001b[0mpath\u001b[0m\u001b[1;33m.\u001b[0m\u001b[0mexpanduser\u001b[0m\u001b[1;33m(\u001b[0m\u001b[0mfilename\u001b[0m\u001b[1;33m)\u001b[0m\u001b[1;33m\u001b[0m\u001b[1;33m\u001b[0m\u001b[0m\n\u001b[1;32m--> 111\u001b[1;33m         \u001b[1;32mwith\u001b[0m \u001b[0mopen\u001b[0m\u001b[1;33m(\u001b[0m\u001b[0mfilename\u001b[0m\u001b[1;33m,\u001b[0m \u001b[1;34m\"rb\"\u001b[0m\u001b[1;33m)\u001b[0m \u001b[1;32mas\u001b[0m \u001b[0mf\u001b[0m\u001b[1;33m:\u001b[0m\u001b[1;33m\u001b[0m\u001b[1;33m\u001b[0m\u001b[0m\n\u001b[0m\u001b[0;32m    112\u001b[0m             \u001b[0mpeek\u001b[0m \u001b[1;33m=\u001b[0m \u001b[0mf\u001b[0m\u001b[1;33m.\u001b[0m\u001b[0mread\u001b[0m\u001b[1;33m(\u001b[0m\u001b[0mpeeksz\u001b[0m\u001b[1;33m)\u001b[0m\u001b[1;33m\u001b[0m\u001b[1;33m\u001b[0m\u001b[0m\n\u001b[0;32m    113\u001b[0m     \u001b[1;32mif\u001b[0m \u001b[0mpeek\u001b[0m \u001b[1;33m==\u001b[0m \u001b[1;34mb\"PK\\x03\\x04\"\u001b[0m\u001b[1;33m:\u001b[0m \u001b[1;31m# a ZIP file\u001b[0m\u001b[1;33m\u001b[0m\u001b[1;33m\u001b[0m\u001b[0m\n",
      "\u001b[1;31mFileNotFoundError\u001b[0m: [Errno 2] No such file or directory: '白酒项目.XLSX'"
     ]
    }
   ],
   "source": [
    "import xlrd\n",
    "\n",
    "name = \"白酒项目.xlsx\"\n",
    "test1 = xlrd.open_workbook(name)\n",
    "table = test1.sheet_by_name(u\"Sheet1\")\n",
    "daten1 = []\n",
    "nrows = table.nrows\n",
    "for j in range(1,nrows,1):\n",
    "    daten1.append(list(table.row_values(j)))\n",
    "spirit_ar = np.array(daten1,dtype=object)\n",
    "\n",
    "bool1 = spirit_ar[:,2] == \"\"\n",
    "spirit_ar_new = spirit_ar  #对中间数组进行分析\n",
    "for j in range(len(bool1)-1,-1,-1):\n",
    "    if bool1[j]:\n",
    "        spirit_ar_new = np.delete(spirit_ar_new,j,0)\n",
    "\n"
   ]
  },
  {
   "cell_type": "code",
   "execution_count": 40,
   "metadata": {},
   "outputs": [
    {
     "data": {
      "text/plain": [
       "[['1a',\n",
       "  '2a',\n",
       "  '3a',\n",
       "  '4a',\n",
       "  '5a',\n",
       "  '6a',\n",
       "  '7a',\n",
       "  '8a',\n",
       "  '9a',\n",
       "  '10a',\n",
       "  '11a',\n",
       "  '12a',\n",
       "  '13a',\n",
       "  '14a',\n",
       "  '15a',\n",
       "  '16a',\n",
       "  '17a',\n",
       "  '18a',\n",
       "  '19a',\n",
       "  '20a',\n",
       "  '21a',\n",
       "  '22a'],\n",
       " [1.0,\n",
       "  2.0,\n",
       "  3.0,\n",
       "  4.0,\n",
       "  5.0,\n",
       "  6.0,\n",
       "  7.0,\n",
       "  8.0,\n",
       "  9.0,\n",
       "  10.0,\n",
       "  11.0,\n",
       "  12.0,\n",
       "  13.0,\n",
       "  14.0,\n",
       "  15.0,\n",
       "  16.0,\n",
       "  17.0,\n",
       "  18.0,\n",
       "  19.0,\n",
       "  20.0,\n",
       "  21.0,\n",
       "  22.0],\n",
       " ['凌云1',\n",
       "  '凌云2',\n",
       "  '凌云3',\n",
       "  '凌云4',\n",
       "  '凌云5',\n",
       "  '凌云6',\n",
       "  '凌云7',\n",
       "  '凌云8',\n",
       "  '凌云9',\n",
       "  '凌云10',\n",
       "  '凌云11',\n",
       "  '凌云12',\n",
       "  '凌云13',\n",
       "  '凌云14',\n",
       "  '凌云15',\n",
       "  '凌云16',\n",
       "  '凌云17',\n",
       "  '凌云18',\n",
       "  '凌云19',\n",
       "  '凌云20',\n",
       "  '凌云21',\n",
       "  '凌云22']]"
      ]
     },
     "execution_count": 40,
     "metadata": {},
     "output_type": "execute_result"
    }
   ],
   "source": [
    "# 人员数据的分析\n",
    "import numpy as np\n",
    "import xlrd   #导入xlrd文件\n",
    "name = 'D:/日用文件/renyuanshuju.xls'   #文件的绝对目录\n",
    "test1 = xlrd.open_workbook(name)   #打开目标目录\n",
    "table = test1.sheet_by_name(u'Sheet1')  #第一张的\n",
    "daten1 = []  #临时列表\n",
    "nrows = table.nrows  \n",
    "for j in range(0,nrows,1):    #\n",
    "    daten1.append(list(table.row_values(j)))  #通过list遍历table.row_values(j)追加到临时列表daten1中\n",
    "daten1  #打印出来嵌套列表"
   ]
  },
  {
   "cell_type": "code",
   "execution_count": 34,
   "metadata": {},
   "outputs": [],
   "source": [
    "def search_lucker(worknr1,worknr2,worknr3):\n",
    "    lucker = []  #临时列表\n",
    "    bollmatrix = np.in1d(daten1[1],[worknr1,worknr2,worknr3])   #在大列表中查找想要的三个工号\n",
    "    for i in range(len(bollmatrix)):\n",
    "        if bollmatrix[i]:   #选中的 True\n",
    "            b = daten1[2][i]\n",
    "            lucker.append(b)\n",
    "    return lucker"
   ]
  },
  {
   "cell_type": "code",
   "execution_count": 37,
   "metadata": {},
   "outputs": [
    {
     "data": {
      "text/plain": [
       "['凌云7', '凌云8', '凌云9']"
      ]
     },
     "execution_count": 37,
     "metadata": {},
     "output_type": "execute_result"
    }
   ],
   "source": [
    "# daten1[0]   #每一行的数据\n",
    "# np.in1d(daten1[1],[7,8,9])   #在大列表中查找想要的三个工号  返回 True\n",
    "search_lucker(7,8,9)"
   ]
  }
 ],
 "metadata": {
  "kernelspec": {
   "display_name": "Python 3",
   "language": "python",
   "name": "python3"
  },
  "language_info": {
   "codemirror_mode": {
    "name": "ipython",
    "version": 3
   },
   "file_extension": ".py",
   "mimetype": "text/x-python",
   "name": "python",
   "nbconvert_exporter": "python",
   "pygments_lexer": "ipython3",
   "version": "3.6.8"
  }
 },
 "nbformat": 4,
 "nbformat_minor": 2
}
