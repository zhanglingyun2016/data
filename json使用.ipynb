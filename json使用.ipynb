{
 "cells": [
  {
   "cell_type": "code",
   "execution_count": 9,
   "metadata": {},
   "outputs": [
    {
     "name": "stdout",
     "output_type": "stream",
     "text": [
      "{'name': 'zhangsan', 'age': 21, 'address': 'zhoukou'} <class 'dict'>\n",
      "{'name': 'zhangsan', 'age': 21, 'address': 'zhoukou'} <class 'str'>\n",
      "{'name': 'zhangsan', 'age': 21, 'address': 'zhoukou'} <class 'dict'>\n"
     ]
    }
   ],
   "source": [
    "# json的使用\n",
    "import json  #先导入json模块\n",
    "\n",
    "dict = {\"name\":\"zhangsan\",\"age\":21,\"address\":\"zhoukou\"}\n",
    "print(dict,type(dict))\n",
    "res = json.dumps(dict)  #进行序列化，将字典格式转为json字符串\n",
    "print(dict,type(res))\n",
    "res1 = json.loads(res)  #进行反序列化，将json格式转为字典格式\n",
    "print(res1,type(res1))   \n",
    "\n"
   ]
  },
  {
   "cell_type": "code",
   "execution_count": 14,
   "metadata": {},
   "outputs": [
    {
     "name": "stdout",
     "output_type": "stream",
     "text": [
      "{'name': 'zhangsan', 'age': 21, 'address': 'zhoukou'}\n"
     ]
    }
   ],
   "source": [
    "# json的使用\n",
    "import json\n",
    "\n",
    "dict = {\"name\":\"zhangsan\",\"age\":21,\"address\":\"zhoukou\"}\n",
    "# 将dict对象通过json。dump写入文件中\n",
    "with open(\"user.json\",\"w\",encoding = \"utf-8\") as fp:   \n",
    "    json.dump(dict,fp)\n",
    "\n",
    "# 通过json.load（）读取user。json文件的内容\n",
    "with open(\"user.json\",\"r\",encoding = \"utf-8\") as fp:\n",
    "    res = json.load(fp)\n",
    "    print(res)\n",
    "\n"
   ]
  },
  {
   "cell_type": "code",
   "execution_count": 15,
   "metadata": {},
   "outputs": [
    {
     "name": "stdout",
     "output_type": "stream",
     "text": [
      "C:\\Users\\Java02-张凌云\\OneDrive\n"
     ]
    }
   ],
   "source": [
    "# 操作系统模块\n",
    "import os\n",
    "\n",
    "res = os.getcwd()  #获取当前目录\n",
    "print(res)\n",
    "\n",
    "\n"
   ]
  },
  {
   "cell_type": "code",
   "execution_count": 17,
   "metadata": {},
   "outputs": [],
   "source": [
    "#文件压缩\n",
    "import zipfile\n",
    "\n",
    "with zipfile.ZipFile(\"token.zip\",\"w\") as myzip:\n",
    "    myzip.write(\"画图.ipynb\")\n",
    "    myzip.write(\"user.json\")\n",
    "\n",
    "\n",
    "\n"
   ]
  },
  {
   "cell_type": "code",
   "execution_count": 10,
   "metadata": {},
   "outputs": [
    {
     "name": "stdout",
     "output_type": "stream",
     "text": [
      "{'a': 1, 'b': 2, 'c': 3, 'd': 4}\n"
     ]
    }
   ],
   "source": [
    "list1 = [\"a\",\"b\",\"c\",\"d\"]\n",
    "tuple1 = (1,2,3,4)\n",
    "\n",
    "zi = zip(list1,tuple1)  #将列表和元组进行压缩\n",
    "res_dict = dict(zi)\n",
    "print(res_dict)"
   ]
  }
 ],
 "metadata": {
  "kernelspec": {
   "display_name": "Python 3",
   "language": "python",
   "name": "python3"
  },
  "language_info": {
   "codemirror_mode": {
    "name": "ipython",
    "version": 3
   },
   "file_extension": ".py",
   "mimetype": "text/x-python",
   "name": "python",
   "nbconvert_exporter": "python",
   "pygments_lexer": "ipython3",
   "version": "3.6.8"
  }
 },
 "nbformat": 4,
 "nbformat_minor": 2
}
