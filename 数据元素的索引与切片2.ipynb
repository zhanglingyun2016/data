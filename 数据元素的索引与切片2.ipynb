{
 "cells": [
  {
   "cell_type": "code",
   "execution_count": 3,
   "metadata": {},
   "outputs": [],
   "source": [
    "import numpy as np"
   ]
  },
  {
   "cell_type": "code",
   "execution_count": 13,
   "metadata": {},
   "outputs": [
    {
     "data": {
      "text/plain": [
       "array([[49., 28., 45., 39., 27.],\n",
       "       [13., 34., 12., 37., 49.],\n",
       "       [39., 12., 14., 21., 39.],\n",
       "       [37., 37., 25., 48., 40.],\n",
       "       [25., 34., 23., 20., 39.],\n",
       "       [35., 17., 39., 35., 48.],\n",
       "       [48., 44., 39., 26., 21.],\n",
       "       [17., 42., 20., 39., 46.]])"
      ]
     },
     "execution_count": 13,
     "metadata": {},
     "output_type": "execute_result"
    }
   ],
   "source": [
    "# 实战\n",
    "# 第二题\n",
    "# 中位数补值\n",
    "# 生成一个随机含有空值的数据集\n",
    "arr2 = np.random.randint(12,50,(8,5)).astype(float)\n",
    "arr2"
   ]
  },
  {
   "cell_type": "code",
   "execution_count": 19,
   "metadata": {},
   "outputs": [
    {
     "data": {
      "text/plain": [
       "array([[49. , 28. , 45. , 31.5, 27. ],\n",
       "       [13. , 34. ,  nan, 37. , 49. ],\n",
       "       [ nan, 12. , 14. , 21. , 39. ],\n",
       "       [37. , 37. , 25. , 48. , 40. ],\n",
       "       [25. , 34. , 23. , 20. , 39. ],\n",
       "       [35. ,  nan, 39. , 31.5, 48. ],\n",
       "       [48. , 44. ,  nan, 26. , 40. ],\n",
       "       [37. , 34. ,  nan, 39. , 46. ]])"
      ]
     },
     "execution_count": 19,
     "metadata": {},
     "output_type": "execute_result"
    }
   ],
   "source": [
    "arr2[np.random.randint(0,8,5),np.random.randint(0,5,5)] = np.nan\n",
    "arr2"
   ]
  },
  {
   "cell_type": "code",
   "execution_count": 28,
   "metadata": {},
   "outputs": [],
   "source": [
    "def fillup2(arr3):\n",
    "    # 判断，返回含有空值的布尔类型数据集\n",
    "    arr2_bool = np.isnan(arr3)\n",
    "    index_list = []\n",
    "    r,c = arr3.shape\n",
    "    for col in range(c):\n",
    "        for row in range(r):\n",
    "            if arr2_bool[row,col]:\n",
    "                index_list.append((row,col))\n",
    "    for indices in index_list:\n",
    "        row2,col2 = indices\n",
    "        arr3[row2,col2] = np.median(arr3[:,col2][~np.isnan(arr3[:,col2])])\n",
    "    \n",
    "    return arr3"
   ]
  },
  {
   "cell_type": "code",
   "execution_count": 29,
   "metadata": {},
   "outputs": [
    {
     "data": {
      "text/plain": [
       "array([[49. , 28. , 45. , 31.5, 27. ],\n",
       "       [13. , 34. , 25. , 37. , 49. ],\n",
       "       [37. , 12. , 14. , 21. , 39. ],\n",
       "       [37. , 37. , 25. , 48. , 40. ],\n",
       "       [25. , 34. , 23. , 20. , 39. ],\n",
       "       [35. , 34. , 39. , 31.5, 48. ],\n",
       "       [48. , 44. , 25. , 26. , 40. ],\n",
       "       [37. , 34. , 25. , 39. , 46. ]])"
      ]
     },
     "execution_count": 29,
     "metadata": {},
     "output_type": "execute_result"
    }
   ],
   "source": [
    "fillup2(arr2)"
   ]
  },
  {
   "cell_type": "code",
   "execution_count": 31,
   "metadata": {},
   "outputs": [
    {
     "data": {
      "text/plain": [
       "array([4.60888315, 1.10399749, 3.17727287, ..., 5.69811122, 5.79458201,\n",
       "       3.46591822])"
      ]
     },
     "execution_count": 31,
     "metadata": {},
     "output_type": "execute_result"
    }
   ],
   "source": [
    "# 实战第三题\n",
    "# 参数为，中心轴为2.6，散度为2.1，\n",
    "data_normal = np.random.normal(2.6,2.1,2000)\n",
    "data_normal"
   ]
  },
  {
   "cell_type": "code",
   "execution_count": 49,
   "metadata": {},
   "outputs": [],
   "source": [
    "# 参数为数据集，和组数\n",
    "def group1(data,m):\n",
    "    infor_group = []\n",
    "    list_random = data.tolist()\n",
    "    # 列表最大值减去最小值除去份数，得出组距\n",
    "    intev = (max(list_random)-min(list_random))/m\n",
    "    data_split = [min(list_random)+n*(intev+0.001)for n in range(m+1)]\n",
    "    for bound in range(len(data_split)-1):\n",
    "        infor_group.append([str(round(data_split[bound],5))+\"-->\"+str(round(data_split[bound],5)),\n",
    "            (((data>=data_split[bound]) & (data<data_split[bound+1])).tolist()).count(True)])\n",
    "        \n",
    "    return infor_group\n",
    "     "
   ]
  },
  {
   "cell_type": "code",
   "execution_count": 51,
   "metadata": {},
   "outputs": [
    {
     "data": {
      "text/plain": [
       "[['-4.43359-->-4.43359', 7],\n",
       " ['-2.97114-->-2.97114', 39],\n",
       " ['-1.5087-->-1.5087', 165],\n",
       " ['-0.04625-->-0.04625', 377],\n",
       " ['1.4162-->1.4162', 498],\n",
       " ['2.87864-->2.87864', 502],\n",
       " ['4.34109-->4.34109', 285],\n",
       " ['5.80354-->5.80354', 101],\n",
       " ['7.26598-->7.26598', 22],\n",
       " ['8.72843-->8.72843', 4]]"
      ]
     },
     "execution_count": 51,
     "metadata": {},
     "output_type": "execute_result"
    }
   ],
   "source": [
    "group1(data_normal,10)"
   ]
  },
  {
   "cell_type": "code",
   "execution_count": 53,
   "metadata": {},
   "outputs": [
    {
     "data": {
      "text/plain": [
       "24"
      ]
     },
     "execution_count": 53,
     "metadata": {},
     "output_type": "execute_result"
    }
   ],
   "source": [
    "# 实战习题3\n",
    "# 计算阶乘\n",
    "# 阶乘1乘2乘3乘4\n",
    "from functools import reduce\n",
    "\n",
    "def jiecheng(n):\n",
    "    if n == 0:\n",
    "        return 1\n",
    "    else:\n",
    "        result = reduce(lambda x,y :x*y,range(1,n+1))\n",
    "        return result\n",
    "    \n",
    "jiecheng(4)"
   ]
  },
  {
   "cell_type": "code",
   "execution_count": 54,
   "metadata": {},
   "outputs": [],
   "source": [
    "# 参数：函数类型，某值，m\n",
    "def series(formula,range_x,m):\n",
    "    x1 = np.linspace(-range_x,range_x,5000)\n",
    "    if formula == 0:\n",
    "        return sum([((x1**(2*n+1))/jiecheng(2*n+1))*((-1)**n) for n in range(m)])\n",
    "    else:\n",
    "        return sum([((x1**(2*n))/jiecheng(2*n))*((-1)**n) for n in range(m)])\n"
   ]
  },
  {
   "cell_type": "code",
   "execution_count": 59,
   "metadata": {},
   "outputs": [
    {
     "data": {
      "text/plain": [
       "array([[  -8.        ,   -8.        , -195.73333333, ...,  -22.58937836,\n",
       "          -2.01415186,   -1.00996199],\n",
       "       [  -7.99679936,   -7.99679936, -195.28670653, ...,  -22.46409273,\n",
       "          -2.00696273,   -1.01023547],\n",
       "       [  -7.99359872,   -7.99359872, -194.84087092, ...,  -22.3394767 ,\n",
       "          -1.99981745,   -1.01050043],\n",
       "       ...,\n",
       "       [   7.99359872,    7.99359872,  194.84087092, ...,   22.3394767 ,\n",
       "           1.99981745,    1.01050043],\n",
       "       [   7.99679936,    7.99679936,  195.28670653, ...,   22.46409273,\n",
       "           2.00696273,    1.01023547],\n",
       "       [   8.        ,    8.        ,  195.73333333, ...,   22.58937836,\n",
       "           2.01415186,    1.00996199]])"
      ]
     },
     "execution_count": 59,
     "metadata": {},
     "output_type": "execute_result"
    }
   ],
   "source": [
    "# 做成可以下载的数据\n",
    "x_v = np.linspace(-8,8,5000)\n",
    "data_list1 = []\n",
    "data_list2 = []\n",
    "for m in range(1,12,2):\n",
    "    ser1 = series(0,8,m).tolist()\n",
    "    data_list1.append(ser1)\n",
    "    ser2 = series(0,8,m).tolist()\n",
    "    data_list2.append(ser2)\n",
    " \n",
    "data1 = np.vstack((x_v,np.array(data_list1))).T\n",
    "data2 = np.vstack((x_v,np.array(data_list2))).T\n",
    "data1"
   ]
  }
 ],
 "metadata": {
  "kernelspec": {
   "display_name": "Python 3",
   "language": "python",
   "name": "python3"
  },
  "language_info": {
   "codemirror_mode": {
    "name": "ipython",
    "version": 3
   },
   "file_extension": ".py",
   "mimetype": "text/x-python",
   "name": "python",
   "nbconvert_exporter": "python",
   "pygments_lexer": "ipython3",
   "version": "3.6.8"
  }
 },
 "nbformat": 4,
 "nbformat_minor": 2
}
